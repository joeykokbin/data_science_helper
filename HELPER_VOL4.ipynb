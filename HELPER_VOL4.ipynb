{
 "cells": [
  {
   "cell_type": "markdown",
   "metadata": {},
   "source": [
    "# Helper Functions Volume 4: Feature Engineering & Model preparation\n",
    "\n",
    "Author: Koh Kok Bin  \n",
    "Date: 17 Feb 2022\n",
    "\n",
    "This notebook provides some basic walkthroughs on how best to optimize features (aka parameters or x 'predictor' variables). It is not meant to be exhaustive but should cover most of what is done during data science projects.\n",
    "\n",
    "### <a id = \"VOL4_toc\"> Table of contents:  </a>\n",
    "- [Reference Materials -- This needs to be run so that Parts 1 to n can work.](#VOL4_refmat)  \n",
    "- [Feature selection -- Which variable is redundant & How to transform variables for best results](#VOL4_feat_select)  \n",
    "    - [Month, Town](#VOL4_mth)  \n",
    "    - [Flat type](#VOL4_flat)  \n",
    "    - [Block, Street name](#VOL4_blk)  \n",
    "    - [Storey range](#VOL4_storey)  \n",
    "    - [Floor area sqm, flat model](#VOL4_sqm)  \n",
    "    - [Lease commence date](#VOL4_lease)\n",
    "- [Model prep, Dataset split](#VOL4_modelprep)  \n",
    "    - [Sampling & Model Implementation](#VOL4_sampling)  \n",
    "    - [Iterative modelling](#VOL4_iter)\n",
    "- [Closing up](#VOL4_close)  \n",
    "    - [Hyperparameter Tuning](#VOL4_hyper)\n",
    "    - [Testing for Significance](#VOL4_signif)  \n",
    "    - [Others](#VOL4_other)\n",
    "\n",
    "\n",
    "The generic idea is tho perform feature engineering to ensure table is rid of unnecessary data, and is in a format that can be easily interpreted (accurately) by the model itself. Only when that is done, the pre-model preparation like train/test split etc should be performed. "
   ]
  },
  {
   "cell_type": "markdown",
   "metadata": {},
   "source": [
    "### <a id = \"VOL4_refmat\"> Reference Materials </a>  "
   ]
  },
  {
   "cell_type": "markdown",
   "metadata": {},
   "source": [
    "Good internet links for feature engineering:  \n",
    "- https://jakevdp.github.io/PythonDataScienceHandbook/05.04-feature-engineering.html  \n",
    "- https://towardsdatascience.com/feature-engineering-in-python-part-i-the-most-powerful-way-of-dealing-with-data-8e2447e7c69e  \n",
    "- https://www.analyticsvidhya.com/blog/2020/12/feature-engineering-using-pandas-for-beginners/\n"
   ]
  },
  {
   "cell_type": "code",
   "execution_count": 1,
   "metadata": {},
   "outputs": [],
   "source": [
    "import os\n",
    "import pandas as pd\n",
    "import numpy as np\n",
    "\n",
    "%matplotlib inline"
   ]
  },
  {
   "cell_type": "code",
   "execution_count": 2,
   "metadata": {},
   "outputs": [],
   "source": [
    "# Get directory name of this file. Helpful to specify the directory of the file, \n",
    "# so you can also interact with the files in the same location via relative paths.\n",
    "\n",
    "dirname = globals()[\"_dh\"][0]"
   ]
  },
  {
   "cell_type": "code",
   "execution_count": 3,
   "metadata": {},
   "outputs": [
    {
     "data": {
      "text/plain": [
       "True"
      ]
     },
     "execution_count": 3,
     "metadata": {},
     "output_type": "execute_result"
    }
   ],
   "source": [
    "data_folder = \"VOL4\"\n",
    "list_of_files = os.listdir(os.path.join(dirname, data_folder)) # Absolute path\n",
    "list_of_files2 = os.listdir(data_folder) # Relative path\n",
    "\n",
    "# They are the same; only 1 file in folder\n",
    "list_of_files == list_of_files2"
   ]
  },
  {
   "cell_type": "code",
   "execution_count": 4,
   "metadata": {},
   "outputs": [],
   "source": [
    "# Replace function is meant to ensure sharepoint files will work.\n",
    "# This code is more readable too.\n",
    "datafile = os.path.join(dirname, data_folder, list_of_files[0]).replace(\"\\\\\", \"/\")\n",
    "df = pd.read_csv(datafile)"
   ]
  },
  {
   "cell_type": "code",
   "execution_count": 5,
   "metadata": {},
   "outputs": [],
   "source": [
    "df2 = df.copy()"
   ]
  },
  {
   "cell_type": "code",
   "execution_count": 6,
   "metadata": {},
   "outputs": [
    {
     "data": {
      "text/html": [
       "<div>\n",
       "<style scoped>\n",
       "    .dataframe tbody tr th:only-of-type {\n",
       "        vertical-align: middle;\n",
       "    }\n",
       "\n",
       "    .dataframe tbody tr th {\n",
       "        vertical-align: top;\n",
       "    }\n",
       "\n",
       "    .dataframe thead th {\n",
       "        text-align: right;\n",
       "    }\n",
       "</style>\n",
       "<table border=\"1\" class=\"dataframe\">\n",
       "  <thead>\n",
       "    <tr style=\"text-align: right;\">\n",
       "      <th></th>\n",
       "      <th>month</th>\n",
       "      <th>town</th>\n",
       "      <th>flat_type</th>\n",
       "      <th>block</th>\n",
       "      <th>street_name</th>\n",
       "      <th>storey_range</th>\n",
       "      <th>floor_area_sqm</th>\n",
       "      <th>flat_model</th>\n",
       "      <th>lease_commence_date</th>\n",
       "      <th>remaining_lease</th>\n",
       "      <th>resale_price</th>\n",
       "    </tr>\n",
       "  </thead>\n",
       "  <tbody>\n",
       "    <tr>\n",
       "      <th>0</th>\n",
       "      <td>2017-01</td>\n",
       "      <td>ANG MO KIO</td>\n",
       "      <td>2 ROOM</td>\n",
       "      <td>406</td>\n",
       "      <td>ANG MO KIO AVE 10</td>\n",
       "      <td>10 TO 12</td>\n",
       "      <td>44.0</td>\n",
       "      <td>Improved</td>\n",
       "      <td>1979</td>\n",
       "      <td>61 years 04 months</td>\n",
       "      <td>232000.0</td>\n",
       "    </tr>\n",
       "    <tr>\n",
       "      <th>1</th>\n",
       "      <td>2017-01</td>\n",
       "      <td>ANG MO KIO</td>\n",
       "      <td>3 ROOM</td>\n",
       "      <td>108</td>\n",
       "      <td>ANG MO KIO AVE 4</td>\n",
       "      <td>01 TO 03</td>\n",
       "      <td>67.0</td>\n",
       "      <td>New Generation</td>\n",
       "      <td>1978</td>\n",
       "      <td>60 years 07 months</td>\n",
       "      <td>250000.0</td>\n",
       "    </tr>\n",
       "  </tbody>\n",
       "</table>\n",
       "</div>"
      ],
      "text/plain": [
       "     month        town flat_type block        street_name storey_range  \\\n",
       "0  2017-01  ANG MO KIO    2 ROOM   406  ANG MO KIO AVE 10     10 TO 12   \n",
       "1  2017-01  ANG MO KIO    3 ROOM   108   ANG MO KIO AVE 4     01 TO 03   \n",
       "\n",
       "   floor_area_sqm      flat_model  lease_commence_date     remaining_lease  \\\n",
       "0            44.0        Improved                 1979  61 years 04 months   \n",
       "1            67.0  New Generation                 1978  60 years 07 months   \n",
       "\n",
       "   resale_price  \n",
       "0      232000.0  \n",
       "1      250000.0  "
      ]
     },
     "execution_count": 6,
     "metadata": {},
     "output_type": "execute_result"
    }
   ],
   "source": [
    "df2.head(2)"
   ]
  },
  {
   "cell_type": "code",
   "execution_count": 7,
   "metadata": {},
   "outputs": [],
   "source": [
    "# Conduct preliminary processing, aka the usual ones done in the earlier helper volumes\n",
    "df2.columns = map(str.upper, df2.columns)"
   ]
  },
  {
   "cell_type": "code",
   "execution_count": 8,
   "metadata": {},
   "outputs": [
    {
     "data": {
      "text/plain": [
       "Index(['MONTH', 'TOWN', 'FLAT_TYPE', 'BLOCK', 'STREET_NAME', 'STOREY_RANGE',\n",
       "       'FLOOR_AREA_SQM', 'FLAT_MODEL', 'LEASE_COMMENCE_DATE',\n",
       "       'REMAINING_LEASE', 'RESALE_PRICE'],\n",
       "      dtype='object')"
      ]
     },
     "execution_count": 8,
     "metadata": {},
     "output_type": "execute_result"
    }
   ],
   "source": [
    "df2.columns"
   ]
  },
  {
   "cell_type": "markdown",
   "metadata": {},
   "source": [
    "### <a id = \"VOL4_feat_select\"> Feature Selection / Engineering </a>   \n",
    "\n",
    "[Return to top](#VOL4_toc)\n",
    "\n",
    "This step is not heavily discussed, but makes sense. In machine learning and in life, we deal with noise all the time. Only a few signals matter and its important to tune out the noise. For datasets that have many columns, choosing the relevant ones to build the model will improve your model by a great extent. Your model will assume all features being provided *are* important.\n",
    "\n",
    "We know that from experience (or domain knowledge), only a few things matter to prices of resale transactions. For example, the floor level, location (e.g. Tengah or Bishan), size (2/3/4/5 room), remaining lease (94 years vs 60 years). In our HDB dataset, there are other columns like block, street_name. While we inherently know that these likely don't matter (unless your block has the number 8), we need a definitive way to conclude that such variables are not relevant in say predicting housing prices.  "
   ]
  },
  {
   "cell_type": "markdown",
   "metadata": {},
   "source": [
    "#### What's the point of removing them? Just let the model figure it out?  \n",
    "As above, using irrelevant variables only introduces noise in your model. More columns = longer time to train/build the model. Even then, results are often unsatistfactory (as it includes irrelevant data). The best case is that all columns are processed to some integer or float value (i.e. decimal places). However, as described in the slides that accompany this coding guide, numbers imply a certain ranking/order (more on this in a later section).  \n",
    "\n",
    "Can / should we imply a ranking/order for the block number of the flat being sold? Is block number 999 > 888? I don't think so.  \n",
    "\n",
    "Ideally, we will perform feature engineering + selection concurrently as some of the methods used to determine statistical relevance works best on processed data (i.e. data fit for ML models).  \n",
    "\n",
    "-Month, Town  \n",
    "-Flat type  \n",
    "-Block, Street name  \n",
    "-Storey range  \n",
    "-Floor area sqm, flat model  \n",
    "-Lease commence date  "
   ]
  },
  {
   "cell_type": "markdown",
   "metadata": {},
   "source": [
    "#### <a id = \"VOL4_mth\" > Let's take a look at the columns individually.  </a>  \n",
    "\n",
    "[Return to top](#VOL4_toc)\n",
    "\n",
    "- __MONTH (20XX-YY)__: How will feeding this into the ML model be useful? What do we want to achieve? Most ML classification/regression models deal with the problem statement __\"predicting Y from X at point in time\".__ On the other hand, forecasting's problem statement can be approximated to __\"predicting future data from time series X over time\"__.  \n",
    "\n",
    "For the purpose of this exercise, we can assume (*very big assumption*) that the entire dataset of resale transactions took place at a point in time. Otherwise, we would have to treat it like a time-series dataset which is quite complicated and often not the use case for DOS.  \n",
    "\n",
    "- __TOWN (character/string)__: These are the values corresponding to the town that the resale transaction took place in. There are a few ways we can approach this: 1) To build individual models for each town (aka Punggol, Jurong, Boon Lay). This assumes that the resale prices across towns exhibit a different characteristic. 2) To code these towns into broader terms such as Outside Central Region (OCR), Core Central Region (CCR) and Rest of Central Region (RCR). 3) To apply one-hot encoding to the TOWN column, thereby splitting the column into 26 columns.  \n",
    "\n",
    "Based on the current housing trend + news reports, we can probably tell that there have been a large demand flow shifting from CCR and RCR towards the suburban areas. This is probably best reflected in the resale housing index (mainly OCR regions), which has been on a steady uptrend since COVID. Furthermore, you can also deduce that housing prices between neighboorhood towns like Yishun vs Punggol (i.e. digital hub) will be different. What's the best approach here? My recommendation is to try all 3 and then compare the performance of each. This will show that you've done your analysis and background work too!  \n",
    "\n",
    "We can start by processing these 2 columns first."
   ]
  },
  {
   "cell_type": "code",
   "execution_count": 9,
   "metadata": {},
   "outputs": [],
   "source": [
    "# Remove month column \n",
    "df2 = df2.drop(columns = \"MONTH\")  \n",
    "\n",
    "# TOWN processing will be done last because \n",
    "# it requires more code to iterate over 3 datasets to process other columns."
   ]
  },
  {
   "cell_type": "code",
   "execution_count": 10,
   "metadata": {},
   "outputs": [
    {
     "data": {
      "text/plain": [
       "array(['2 ROOM', '3 ROOM', '4 ROOM', '5 ROOM', 'EXECUTIVE', '1 ROOM',\n",
       "       'MULTI-GENERATION'], dtype=object)"
      ]
     },
     "execution_count": 10,
     "metadata": {},
     "output_type": "execute_result"
    }
   ],
   "source": [
    "df2[\"FLAT_TYPE\"].unique()"
   ]
  },
  {
   "cell_type": "markdown",
   "metadata": {},
   "source": [
    "#### <a id = \"VOL4_flat\" > FLAT_TYPE (Character/String) </a>  \n",
    "\n",
    "[Return to top](#VOL4_toc)\n",
    "\n",
    "This column is straightforward. Generally speaking, holding psf constant, Multi-generation flats are larger than Executive flats. Executive > 5 room > 4 Room > 3 Room > 2 Room > 1 Room. There is a clear order for this column, and so it makes sense to convert it to a number where the model knows that larger numbers (i.e. FLAT_TYPE) are 'correlated' with higher prices."
   ]
  },
  {
   "cell_type": "code",
   "execution_count": 11,
   "metadata": {},
   "outputs": [],
   "source": [
    "# 2 methods below that produces the same result\n",
    "from sklearn import preprocessing"
   ]
  },
  {
   "cell_type": "code",
   "execution_count": 12,
   "metadata": {},
   "outputs": [],
   "source": [
    "# Ranking is set out here. 1 room is given a 'score' of 0, and multi-gen has the highest score: 5\n",
    "ranking = [\"1 ROOM\", \"2 ROOM\", \"3 ROOM\", \"4 ROOM\", \"5 ROOM\", \"EXECUTIVE\", \"MULTI-GENERATION\"]\n",
    "score = [x for x in range(len(ranking))]\n",
    "flat_dict = {k:v for k, v in zip(ranking, score)}\n",
    "\n",
    "df3 = df2.copy()\n",
    "#df3[\"FLAT_TYPE\"] = df3[\"FLAT_TYPE\"].replace(flat_dict)"
   ]
  },
  {
   "cell_type": "code",
   "execution_count": 13,
   "metadata": {},
   "outputs": [
    {
     "data": {
      "text/plain": [
       "True"
      ]
     },
     "execution_count": 13,
     "metadata": {},
     "output_type": "execute_result"
    }
   ],
   "source": [
    "test = list(df3[\"FLAT_TYPE\"].replace(flat_dict))\n",
    "\n",
    "# Label Encoder is a 2 step process.\n",
    "# First, create the LabelEncoder object.\n",
    "label_enc = preprocessing.LabelEncoder()\n",
    "\n",
    "# Next, fit the ranking to the label. It will parse the elements into scores based on element order.\n",
    "# 1 ROOM = 0, 2 ROOM = 1\n",
    "# transform will convert the dataset from the 1 Room labels into integers 0 - n\n",
    "test2 = list(label_enc.fit(ranking).transform(list(df3[\"FLAT_TYPE\"])))\n",
    "\n",
    "# Compare equality. True\n",
    "test == test2\n",
    "#df2[\"FLAT_TYPE\"].replace(flat_dict)"
   ]
  },
  {
   "cell_type": "code",
   "execution_count": 14,
   "metadata": {},
   "outputs": [],
   "source": [
    "df3[\"FLAT_TYPE\"] = list(label_enc.fit(ranking).transform(list(df3[\"FLAT_TYPE\"])))"
   ]
  },
  {
   "cell_type": "code",
   "execution_count": 15,
   "metadata": {},
   "outputs": [
    {
     "data": {
      "text/html": [
       "<div>\n",
       "<style scoped>\n",
       "    .dataframe tbody tr th:only-of-type {\n",
       "        vertical-align: middle;\n",
       "    }\n",
       "\n",
       "    .dataframe tbody tr th {\n",
       "        vertical-align: top;\n",
       "    }\n",
       "\n",
       "    .dataframe thead th {\n",
       "        text-align: right;\n",
       "    }\n",
       "</style>\n",
       "<table border=\"1\" class=\"dataframe\">\n",
       "  <thead>\n",
       "    <tr style=\"text-align: right;\">\n",
       "      <th></th>\n",
       "      <th>TOWN</th>\n",
       "      <th>FLAT_TYPE</th>\n",
       "      <th>BLOCK</th>\n",
       "      <th>STREET_NAME</th>\n",
       "      <th>STOREY_RANGE</th>\n",
       "      <th>FLOOR_AREA_SQM</th>\n",
       "      <th>FLAT_MODEL</th>\n",
       "      <th>LEASE_COMMENCE_DATE</th>\n",
       "      <th>REMAINING_LEASE</th>\n",
       "      <th>RESALE_PRICE</th>\n",
       "    </tr>\n",
       "  </thead>\n",
       "  <tbody>\n",
       "    <tr>\n",
       "      <th>0</th>\n",
       "      <td>ANG MO KIO</td>\n",
       "      <td>1</td>\n",
       "      <td>406</td>\n",
       "      <td>ANG MO KIO AVE 10</td>\n",
       "      <td>10 TO 12</td>\n",
       "      <td>44.0</td>\n",
       "      <td>Improved</td>\n",
       "      <td>1979</td>\n",
       "      <td>61 years 04 months</td>\n",
       "      <td>232000.0</td>\n",
       "    </tr>\n",
       "    <tr>\n",
       "      <th>1</th>\n",
       "      <td>ANG MO KIO</td>\n",
       "      <td>2</td>\n",
       "      <td>108</td>\n",
       "      <td>ANG MO KIO AVE 4</td>\n",
       "      <td>01 TO 03</td>\n",
       "      <td>67.0</td>\n",
       "      <td>New Generation</td>\n",
       "      <td>1978</td>\n",
       "      <td>60 years 07 months</td>\n",
       "      <td>250000.0</td>\n",
       "    </tr>\n",
       "  </tbody>\n",
       "</table>\n",
       "</div>"
      ],
      "text/plain": [
       "         TOWN  FLAT_TYPE BLOCK        STREET_NAME STOREY_RANGE  \\\n",
       "0  ANG MO KIO          1   406  ANG MO KIO AVE 10     10 TO 12   \n",
       "1  ANG MO KIO          2   108   ANG MO KIO AVE 4     01 TO 03   \n",
       "\n",
       "   FLOOR_AREA_SQM      FLAT_MODEL  LEASE_COMMENCE_DATE     REMAINING_LEASE  \\\n",
       "0            44.0        Improved                 1979  61 years 04 months   \n",
       "1            67.0  New Generation                 1978  60 years 07 months   \n",
       "\n",
       "   RESALE_PRICE  \n",
       "0      232000.0  \n",
       "1      250000.0  "
      ]
     },
     "execution_count": 15,
     "metadata": {},
     "output_type": "execute_result"
    }
   ],
   "source": [
    "df3.head(2) "
   ]
  },
  {
   "cell_type": "markdown",
   "metadata": {},
   "source": [
    "#### <a id = \"VOL4_blk\" > Block, Street Name </a>  \n",
    "\n",
    "[Return to top](#VOL4_toc)\n",
    "\n",
    "- __BLOCK (Character/String)__: This column is by right an integer column. However, there are new blocks that have block numbers ending with alphabets (e.g. 103A). In any case, for many of these columns there's no real need to test for statistical signficance (i.e. based on chi-squared test and the like). This is because they are already deemed to be irrelevant based on domain knowledge.  \n",
    "\n",
    "- __STREET_NAME (Character/String)__: This column is also quite irrelevant unless you have resources available to mine further for insights. For example, if you could use the BLOCK + STREET_NAME columns to identify the postal code and subsequently the longitude and latitude of the transaction, you are able to derive a particular resale transaction's proximity to the nearest MRT. The distance can be fed into the model to see if it yields better performance.  \n",
    "\n",
    "*If you would like to try, google these 2 terms: OneMAP API by SLA, python implementation of Haversine formula.*  \n",
    " \n",
    "For this project, we assume these 2 columns are irrelevant and will remove them."
   ]
  },
  {
   "cell_type": "code",
   "execution_count": 16,
   "metadata": {},
   "outputs": [],
   "source": [
    "df3 = df3.drop(columns = [\"BLOCK\", \"STREET_NAME\"])"
   ]
  },
  {
   "cell_type": "code",
   "execution_count": 17,
   "metadata": {},
   "outputs": [
    {
     "data": {
      "text/html": [
       "<div>\n",
       "<style scoped>\n",
       "    .dataframe tbody tr th:only-of-type {\n",
       "        vertical-align: middle;\n",
       "    }\n",
       "\n",
       "    .dataframe tbody tr th {\n",
       "        vertical-align: top;\n",
       "    }\n",
       "\n",
       "    .dataframe thead th {\n",
       "        text-align: right;\n",
       "    }\n",
       "</style>\n",
       "<table border=\"1\" class=\"dataframe\">\n",
       "  <thead>\n",
       "    <tr style=\"text-align: right;\">\n",
       "      <th></th>\n",
       "      <th>TOWN</th>\n",
       "      <th>FLAT_TYPE</th>\n",
       "      <th>STOREY_RANGE</th>\n",
       "      <th>FLOOR_AREA_SQM</th>\n",
       "      <th>FLAT_MODEL</th>\n",
       "      <th>LEASE_COMMENCE_DATE</th>\n",
       "      <th>REMAINING_LEASE</th>\n",
       "      <th>RESALE_PRICE</th>\n",
       "    </tr>\n",
       "  </thead>\n",
       "  <tbody>\n",
       "    <tr>\n",
       "      <th>0</th>\n",
       "      <td>ANG MO KIO</td>\n",
       "      <td>1</td>\n",
       "      <td>10 TO 12</td>\n",
       "      <td>44.0</td>\n",
       "      <td>Improved</td>\n",
       "      <td>1979</td>\n",
       "      <td>61 years 04 months</td>\n",
       "      <td>232000.0</td>\n",
       "    </tr>\n",
       "    <tr>\n",
       "      <th>1</th>\n",
       "      <td>ANG MO KIO</td>\n",
       "      <td>2</td>\n",
       "      <td>01 TO 03</td>\n",
       "      <td>67.0</td>\n",
       "      <td>New Generation</td>\n",
       "      <td>1978</td>\n",
       "      <td>60 years 07 months</td>\n",
       "      <td>250000.0</td>\n",
       "    </tr>\n",
       "  </tbody>\n",
       "</table>\n",
       "</div>"
      ],
      "text/plain": [
       "         TOWN  FLAT_TYPE STOREY_RANGE  FLOOR_AREA_SQM      FLAT_MODEL  \\\n",
       "0  ANG MO KIO          1     10 TO 12            44.0        Improved   \n",
       "1  ANG MO KIO          2     01 TO 03            67.0  New Generation   \n",
       "\n",
       "   LEASE_COMMENCE_DATE     REMAINING_LEASE  RESALE_PRICE  \n",
       "0                 1979  61 years 04 months      232000.0  \n",
       "1                 1978  60 years 07 months      250000.0  "
      ]
     },
     "execution_count": 17,
     "metadata": {},
     "output_type": "execute_result"
    }
   ],
   "source": [
    "df3.head(2)"
   ]
  },
  {
   "cell_type": "markdown",
   "metadata": {},
   "source": [
    "#### <a id = \"VOL4_storey\" > Storey Range </a>  \n",
    "\n",
    "[Return to top](#VOL4_toc)\n",
    "\n",
    "This column tells you the floor on which the resale flat is sold. For simplicity, as they are in range of 3 floors (01 TO 03), we can simply take the middle floor. Since floor numbers are integer, we have already implicitly imply that this column is ranked and higher floors generally have a higher resale price (as they usually do)."
   ]
  },
  {
   "cell_type": "code",
   "execution_count": 18,
   "metadata": {},
   "outputs": [],
   "source": [
    "def get_mid(floors, mysplit = \" TO \"):\n",
    "    return int((int(floors.split(mysplit)[0]) + int(floors.split(mysplit)[1]))/2)\n",
    "\n",
    "df3[\"STOREY_RANGE\"] = df3[\"STOREY_RANGE\"].apply(get_mid)"
   ]
  },
  {
   "cell_type": "code",
   "execution_count": 19,
   "metadata": {},
   "outputs": [
    {
     "data": {
      "text/plain": [
       "array([11,  2,  5,  8, 14, 20, 23, 17, 35, 29, 38, 50, 26, 41, 32, 47, 44],\n",
       "      dtype=int64)"
      ]
     },
     "execution_count": 19,
     "metadata": {},
     "output_type": "execute_result"
    }
   ],
   "source": [
    "# Levels 2 to 50, by 3\n",
    "df3[\"STOREY_RANGE\"].unique()"
   ]
  },
  {
   "cell_type": "code",
   "execution_count": 20,
   "metadata": {},
   "outputs": [
    {
     "data": {
      "text/html": [
       "<div>\n",
       "<style scoped>\n",
       "    .dataframe tbody tr th:only-of-type {\n",
       "        vertical-align: middle;\n",
       "    }\n",
       "\n",
       "    .dataframe tbody tr th {\n",
       "        vertical-align: top;\n",
       "    }\n",
       "\n",
       "    .dataframe thead th {\n",
       "        text-align: right;\n",
       "    }\n",
       "</style>\n",
       "<table border=\"1\" class=\"dataframe\">\n",
       "  <thead>\n",
       "    <tr style=\"text-align: right;\">\n",
       "      <th></th>\n",
       "      <th>TOWN</th>\n",
       "      <th>FLAT_TYPE</th>\n",
       "      <th>STOREY_RANGE</th>\n",
       "      <th>FLOOR_AREA_SQM</th>\n",
       "      <th>FLAT_MODEL</th>\n",
       "      <th>LEASE_COMMENCE_DATE</th>\n",
       "      <th>REMAINING_LEASE</th>\n",
       "      <th>RESALE_PRICE</th>\n",
       "    </tr>\n",
       "  </thead>\n",
       "  <tbody>\n",
       "    <tr>\n",
       "      <th>0</th>\n",
       "      <td>ANG MO KIO</td>\n",
       "      <td>1</td>\n",
       "      <td>11</td>\n",
       "      <td>44.0</td>\n",
       "      <td>Improved</td>\n",
       "      <td>1979</td>\n",
       "      <td>61 years 04 months</td>\n",
       "      <td>232000.0</td>\n",
       "    </tr>\n",
       "    <tr>\n",
       "      <th>1</th>\n",
       "      <td>ANG MO KIO</td>\n",
       "      <td>2</td>\n",
       "      <td>2</td>\n",
       "      <td>67.0</td>\n",
       "      <td>New Generation</td>\n",
       "      <td>1978</td>\n",
       "      <td>60 years 07 months</td>\n",
       "      <td>250000.0</td>\n",
       "    </tr>\n",
       "  </tbody>\n",
       "</table>\n",
       "</div>"
      ],
      "text/plain": [
       "         TOWN  FLAT_TYPE  STOREY_RANGE  FLOOR_AREA_SQM      FLAT_MODEL  \\\n",
       "0  ANG MO KIO          1            11            44.0        Improved   \n",
       "1  ANG MO KIO          2             2            67.0  New Generation   \n",
       "\n",
       "   LEASE_COMMENCE_DATE     REMAINING_LEASE  RESALE_PRICE  \n",
       "0                 1979  61 years 04 months      232000.0  \n",
       "1                 1978  60 years 07 months      250000.0  "
      ]
     },
     "execution_count": 20,
     "metadata": {},
     "output_type": "execute_result"
    }
   ],
   "source": [
    "df3.head(2)"
   ]
  },
  {
   "cell_type": "markdown",
   "metadata": {},
   "source": [
    "#### <a id = \"VOL4_sqm\" > Floor Area Sqm, Flat model </a>  \n",
    "\n",
    "[Return to top](#VOL4_toc)\n",
    "\n",
    "- __FLOOR_AREA_SQM (Float)__: This column is self explanatory. No processing is needed.\n",
    "\n",
    "- __FLAT_MODEL (Character/String)__: This column lists the different kind of models for each type of flat. There are quite a few models over the years, and documentation on such models are sparse. Again, we can choose to remove it entirely, but based on the terms like \"Premium Apartment Loft\" or \"Adjoined flat\" or \"Premium Maisonette\", I think there may be some causal effect with flat models and resale prices. However, unless there's clear documentation on the kinds of models, we should think twice about using label encoding to rank the different models. The last option would therefore be to implement one-hot encoding.  \n",
    "\n",
    "There is a tradeoff regarding the size of the final dataset. The dataset has about 110k rows. To create another 19 columns may adversely impact your project processes. Below I will provide examples on how to perform one-hot encoding via one-liners. For this project, we will not use one-hot encoding on the FLAT_MODEL column. As such, we will remove it."
   ]
  },
  {
   "cell_type": "code",
   "execution_count": 21,
   "metadata": {},
   "outputs": [
    {
     "data": {
      "text/plain": [
       "Model A                   37626\n",
       "Improved                  28655\n",
       "New Generation            14856\n",
       "Premium Apartment         13128\n",
       "Apartment                  4609\n",
       "Simplified                 4507\n",
       "Maisonette                 3463\n",
       "Standard                   3252\n",
       "DBSS                       2176\n",
       "Model A2                   1359\n",
       "Adjoined flat               217\n",
       "Type S1                     207\n",
       "Model A-Maisonette          205\n",
       "Type S2                     118\n",
       "Premium Apartment Loft       72\n",
       "Terrace                      72\n",
       "Multi Generation             58\n",
       "Improved-Maisonette          18\n",
       "2-room                       14\n",
       "Premium Maisonette           11\n",
       "Name: FLAT_MODEL, dtype: int64"
      ]
     },
     "execution_count": 21,
     "metadata": {},
     "output_type": "execute_result"
    }
   ],
   "source": [
    "df3[\"FLAT_MODEL\"].value_counts()"
   ]
  },
  {
   "cell_type": "code",
   "execution_count": 22,
   "metadata": {},
   "outputs": [
    {
     "name": "stdout",
     "output_type": "stream",
     "text": [
      "[[0. 0. 0. 0. 1. 0. 0. 0. 0. 0. 0. 0. 0. 0. 0. 0. 0. 0. 0. 0.]\n",
      " [0. 0. 0. 0. 0. 0. 0. 0. 0. 0. 0. 1. 0. 0. 0. 0. 0. 0. 0. 0.]\n",
      " [0. 0. 0. 0. 0. 0. 0. 0. 0. 0. 0. 1. 0. 0. 0. 0. 0. 0. 0. 0.]\n",
      " [0. 0. 0. 0. 0. 0. 0. 0. 0. 0. 0. 1. 0. 0. 0. 0. 0. 0. 0. 0.]\n",
      " [0. 0. 0. 0. 0. 0. 0. 0. 0. 0. 0. 1. 0. 0. 0. 0. 0. 0. 0. 0.]]\n"
     ]
    }
   ],
   "source": [
    "# Method 0\n",
    "oh_enc = preprocessing.OneHotEncoder()\n",
    "\n",
    "# Will only be done on first 100 rows. Otherwise will be slow.\n",
    "# Of course, if there are more rows, there will be more elements in each array (due to different values)\n",
    "# These can be converted to columns (i.e. 1st column = 1st element of each array)\n",
    "test = oh_enc.fit_transform(df3[[\"FLAT_MODEL\"]]).toarray()\n",
    "print(test[0:5])"
   ]
  },
  {
   "cell_type": "code",
   "execution_count": 23,
   "metadata": {},
   "outputs": [
    {
     "name": "stdout",
     "output_type": "stream",
     "text": [
      "<class 'pandas.core.frame.DataFrame'>\n",
      "RangeIndex: 114623 entries, 0 to 114622\n",
      "Data columns (total 20 columns):\n",
      "2-room                    114623 non-null uint8\n",
      "Adjoined flat             114623 non-null uint8\n",
      "Apartment                 114623 non-null uint8\n",
      "DBSS                      114623 non-null uint8\n",
      "Improved                  114623 non-null uint8\n",
      "Improved-Maisonette       114623 non-null uint8\n",
      "Maisonette                114623 non-null uint8\n",
      "Model A                   114623 non-null uint8\n",
      "Model A-Maisonette        114623 non-null uint8\n",
      "Model A2                  114623 non-null uint8\n",
      "Multi Generation          114623 non-null uint8\n",
      "New Generation            114623 non-null uint8\n",
      "Premium Apartment         114623 non-null uint8\n",
      "Premium Apartment Loft    114623 non-null uint8\n",
      "Premium Maisonette        114623 non-null uint8\n",
      "Simplified                114623 non-null uint8\n",
      "Standard                  114623 non-null uint8\n",
      "Terrace                   114623 non-null uint8\n",
      "Type S1                   114623 non-null uint8\n",
      "Type S2                   114623 non-null uint8\n",
      "dtypes: uint8(20)\n",
      "memory usage: 2.2 MB\n"
     ]
    }
   ],
   "source": [
    "# Method 1 - outputs 20 columns\n",
    "# This is simpler to use. However, do note the larger the dataset, the longer it takes to process.\n",
    "# pd.get_dummies is the method to use. \n",
    "pd.get_dummies(df3[\"FLAT_MODEL\"]).info()"
   ]
  },
  {
   "cell_type": "code",
   "execution_count": 24,
   "metadata": {},
   "outputs": [
    {
     "data": {
      "text/html": [
       "<div>\n",
       "<style scoped>\n",
       "    .dataframe tbody tr th:only-of-type {\n",
       "        vertical-align: middle;\n",
       "    }\n",
       "\n",
       "    .dataframe tbody tr th {\n",
       "        vertical-align: top;\n",
       "    }\n",
       "\n",
       "    .dataframe thead th {\n",
       "        text-align: right;\n",
       "    }\n",
       "</style>\n",
       "<table border=\"1\" class=\"dataframe\">\n",
       "  <thead>\n",
       "    <tr style=\"text-align: right;\">\n",
       "      <th></th>\n",
       "      <th>TOWN</th>\n",
       "      <th>FLAT_TYPE</th>\n",
       "      <th>STOREY_RANGE</th>\n",
       "      <th>FLOOR_AREA_SQM</th>\n",
       "      <th>LEASE_COMMENCE_DATE</th>\n",
       "      <th>REMAINING_LEASE</th>\n",
       "      <th>RESALE_PRICE</th>\n",
       "    </tr>\n",
       "  </thead>\n",
       "  <tbody>\n",
       "    <tr>\n",
       "      <th>0</th>\n",
       "      <td>ANG MO KIO</td>\n",
       "      <td>1</td>\n",
       "      <td>11</td>\n",
       "      <td>44.0</td>\n",
       "      <td>1979</td>\n",
       "      <td>61 years 04 months</td>\n",
       "      <td>232000.0</td>\n",
       "    </tr>\n",
       "    <tr>\n",
       "      <th>1</th>\n",
       "      <td>ANG MO KIO</td>\n",
       "      <td>2</td>\n",
       "      <td>2</td>\n",
       "      <td>67.0</td>\n",
       "      <td>1978</td>\n",
       "      <td>60 years 07 months</td>\n",
       "      <td>250000.0</td>\n",
       "    </tr>\n",
       "    <tr>\n",
       "      <th>2</th>\n",
       "      <td>ANG MO KIO</td>\n",
       "      <td>2</td>\n",
       "      <td>2</td>\n",
       "      <td>67.0</td>\n",
       "      <td>1980</td>\n",
       "      <td>62 years 05 months</td>\n",
       "      <td>262000.0</td>\n",
       "    </tr>\n",
       "    <tr>\n",
       "      <th>3</th>\n",
       "      <td>ANG MO KIO</td>\n",
       "      <td>2</td>\n",
       "      <td>5</td>\n",
       "      <td>68.0</td>\n",
       "      <td>1980</td>\n",
       "      <td>62 years 01 month</td>\n",
       "      <td>265000.0</td>\n",
       "    </tr>\n",
       "    <tr>\n",
       "      <th>4</th>\n",
       "      <td>ANG MO KIO</td>\n",
       "      <td>2</td>\n",
       "      <td>2</td>\n",
       "      <td>67.0</td>\n",
       "      <td>1980</td>\n",
       "      <td>62 years 05 months</td>\n",
       "      <td>265000.0</td>\n",
       "    </tr>\n",
       "  </tbody>\n",
       "</table>\n",
       "</div>"
      ],
      "text/plain": [
       "         TOWN  FLAT_TYPE  STOREY_RANGE  FLOOR_AREA_SQM  LEASE_COMMENCE_DATE  \\\n",
       "0  ANG MO KIO          1            11            44.0                 1979   \n",
       "1  ANG MO KIO          2             2            67.0                 1978   \n",
       "2  ANG MO KIO          2             2            67.0                 1980   \n",
       "3  ANG MO KIO          2             5            68.0                 1980   \n",
       "4  ANG MO KIO          2             2            67.0                 1980   \n",
       "\n",
       "      REMAINING_LEASE  RESALE_PRICE  \n",
       "0  61 years 04 months      232000.0  \n",
       "1  60 years 07 months      250000.0  \n",
       "2  62 years 05 months      262000.0  \n",
       "3   62 years 01 month      265000.0  \n",
       "4  62 years 05 months      265000.0  "
      ]
     },
     "execution_count": 24,
     "metadata": {},
     "output_type": "execute_result"
    }
   ],
   "source": [
    "# As mentioned, due to its messiness and unclear ordering, we will remove it.\n",
    "# You can always reinstate it and do one-hot or label encoding when you are able to figure out the ranking.\n",
    "df4 = df3.drop(columns = \"FLAT_MODEL\")\n",
    "df4.head()"
   ]
  },
  {
   "cell_type": "markdown",
   "metadata": {},
   "source": [
    "#### <a id = \"VOL4_lease\"> LEASE COMMENCE DATE </a>  \n",
    "\n",
    "[Return to top](#VOL4_toc)\n",
    "\n",
    "- __LEASE_COMMENCE_DATE (Integer)__: This column and the REMAINING_LEASE columns are similar/the same in that from these columns you can derive the remaining lease of the flat. The latter column of course is more detailed because it provides month in addition to years. Let's say we decide to use REMAINING_LEASE. How do we code it for the model?  \n",
    "\n",
    "There are many ways to deal with this. I will my thoughts here but I'm sure there are more methods to make it a suitable column to feed into our ML models. 1) Converting years and months into total months. 2) Using decimal places to denote month (61.0875 for 61 years 1 months). 3) Just using years as an approximation.  \n",
    "\n",
    "For this example, I will use total months (option 1)."
   ]
  },
  {
   "cell_type": "code",
   "execution_count": 25,
   "metadata": {},
   "outputs": [],
   "source": [
    "# There are some in remaining lease without months (i.e. 63 years)\n",
    "lease = list(df4[\"REMAINING_LEASE\"])\n",
    "\n",
    "tot_list = []\n",
    "for mth in lease:\n",
    "    if \"month\" in mth:\n",
    "        mths = int(mth.split(\" years \")[0]) * 12\n",
    "        yrmth = int(mth.split(\" years \")[1].split(\" month\")[0])\n",
    "        \n",
    "        tot_list.append(mths + yrmth)\n",
    "    else:\n",
    "        tot_mths = int(mth.split(\" years\")[0]) * 12\n",
    "        tot_list.append(tot_mths)        \n",
    "\n",
    "df4[\"MTH_LEFT\"] = tot_list"
   ]
  },
  {
   "cell_type": "code",
   "execution_count": 26,
   "metadata": {},
   "outputs": [
    {
     "data": {
      "text/html": [
       "<div>\n",
       "<style scoped>\n",
       "    .dataframe tbody tr th:only-of-type {\n",
       "        vertical-align: middle;\n",
       "    }\n",
       "\n",
       "    .dataframe tbody tr th {\n",
       "        vertical-align: top;\n",
       "    }\n",
       "\n",
       "    .dataframe thead th {\n",
       "        text-align: right;\n",
       "    }\n",
       "</style>\n",
       "<table border=\"1\" class=\"dataframe\">\n",
       "  <thead>\n",
       "    <tr style=\"text-align: right;\">\n",
       "      <th></th>\n",
       "      <th>TOWN</th>\n",
       "      <th>FLAT_TYPE</th>\n",
       "      <th>STOREY_RANGE</th>\n",
       "      <th>FLOOR_AREA_SQM</th>\n",
       "      <th>LEASE_COMMENCE_DATE</th>\n",
       "      <th>REMAINING_LEASE</th>\n",
       "      <th>RESALE_PRICE</th>\n",
       "      <th>MTH_LEFT</th>\n",
       "    </tr>\n",
       "  </thead>\n",
       "  <tbody>\n",
       "    <tr>\n",
       "      <th>0</th>\n",
       "      <td>ANG MO KIO</td>\n",
       "      <td>1</td>\n",
       "      <td>11</td>\n",
       "      <td>44.0</td>\n",
       "      <td>1979</td>\n",
       "      <td>61 years 04 months</td>\n",
       "      <td>232000.0</td>\n",
       "      <td>736</td>\n",
       "    </tr>\n",
       "    <tr>\n",
       "      <th>1</th>\n",
       "      <td>ANG MO KIO</td>\n",
       "      <td>2</td>\n",
       "      <td>2</td>\n",
       "      <td>67.0</td>\n",
       "      <td>1978</td>\n",
       "      <td>60 years 07 months</td>\n",
       "      <td>250000.0</td>\n",
       "      <td>727</td>\n",
       "    </tr>\n",
       "  </tbody>\n",
       "</table>\n",
       "</div>"
      ],
      "text/plain": [
       "         TOWN  FLAT_TYPE  STOREY_RANGE  FLOOR_AREA_SQM  LEASE_COMMENCE_DATE  \\\n",
       "0  ANG MO KIO          1            11            44.0                 1979   \n",
       "1  ANG MO KIO          2             2            67.0                 1978   \n",
       "\n",
       "      REMAINING_LEASE  RESALE_PRICE  MTH_LEFT  \n",
       "0  61 years 04 months      232000.0       736  \n",
       "1  60 years 07 months      250000.0       727  "
      ]
     },
     "execution_count": 26,
     "metadata": {},
     "output_type": "execute_result"
    }
   ],
   "source": [
    "df4.head(2)"
   ]
  },
  {
   "cell_type": "code",
   "execution_count": 27,
   "metadata": {},
   "outputs": [
    {
     "data": {
      "text/html": [
       "<div>\n",
       "<style scoped>\n",
       "    .dataframe tbody tr th:only-of-type {\n",
       "        vertical-align: middle;\n",
       "    }\n",
       "\n",
       "    .dataframe tbody tr th {\n",
       "        vertical-align: top;\n",
       "    }\n",
       "\n",
       "    .dataframe thead th {\n",
       "        text-align: right;\n",
       "    }\n",
       "</style>\n",
       "<table border=\"1\" class=\"dataframe\">\n",
       "  <thead>\n",
       "    <tr style=\"text-align: right;\">\n",
       "      <th></th>\n",
       "      <th>TOWN</th>\n",
       "      <th>FLAT_TYPE</th>\n",
       "      <th>STOREY_RANGE</th>\n",
       "      <th>FLOOR_AREA_SQM</th>\n",
       "      <th>RESALE_PRICE</th>\n",
       "      <th>MTH_LEFT</th>\n",
       "    </tr>\n",
       "  </thead>\n",
       "  <tbody>\n",
       "    <tr>\n",
       "      <th>0</th>\n",
       "      <td>ANG MO KIO</td>\n",
       "      <td>1</td>\n",
       "      <td>11</td>\n",
       "      <td>44.0</td>\n",
       "      <td>232000.0</td>\n",
       "      <td>736</td>\n",
       "    </tr>\n",
       "    <tr>\n",
       "      <th>1</th>\n",
       "      <td>ANG MO KIO</td>\n",
       "      <td>2</td>\n",
       "      <td>2</td>\n",
       "      <td>67.0</td>\n",
       "      <td>250000.0</td>\n",
       "      <td>727</td>\n",
       "    </tr>\n",
       "  </tbody>\n",
       "</table>\n",
       "</div>"
      ],
      "text/plain": [
       "         TOWN  FLAT_TYPE  STOREY_RANGE  FLOOR_AREA_SQM  RESALE_PRICE  MTH_LEFT\n",
       "0  ANG MO KIO          1            11            44.0      232000.0       736\n",
       "1  ANG MO KIO          2             2            67.0      250000.0       727"
      ]
     },
     "execution_count": 27,
     "metadata": {},
     "output_type": "execute_result"
    }
   ],
   "source": [
    "# These columns are not necessary anymore.\n",
    "df5 = df4.drop(columns = [\"LEASE_COMMENCE_DATE\", \"REMAINING_LEASE\"])\n",
    "df5.head(2)"
   ]
  },
  {
   "cell_type": "markdown",
   "metadata": {},
   "source": [
    "The dataset seems smaller now, but for good reason. Many of the columns were in fact noise (i.e. block) and we made further assumptions to treat it as a dataset at a point in time (even though it exhibits certain time-series characteristics). Nevertheless, we have now finished with bulk of the feature engineering/selection. The steps can be done concurrently, though it depends on your dataset and your project flow.  \n",
    "\n",
    "Recall that we still have TOWN as a variable but in character form. We need to encode it or to split it by towns or regions. In addition, while not explicitly mentioned, you should also think about the potential of merging this dataset with others to try and better predict housing prices. Will a dataset containing whether or not the unit has defects or not be useful?"
   ]
  },
  {
   "cell_type": "code",
   "execution_count": 28,
   "metadata": {},
   "outputs": [
    {
     "data": {
      "text/html": [
       "<div>\n",
       "<style scoped>\n",
       "    .dataframe tbody tr th:only-of-type {\n",
       "        vertical-align: middle;\n",
       "    }\n",
       "\n",
       "    .dataframe tbody tr th {\n",
       "        vertical-align: top;\n",
       "    }\n",
       "\n",
       "    .dataframe thead th {\n",
       "        text-align: right;\n",
       "    }\n",
       "</style>\n",
       "<table border=\"1\" class=\"dataframe\">\n",
       "  <thead>\n",
       "    <tr style=\"text-align: right;\">\n",
       "      <th></th>\n",
       "      <th>TOWN</th>\n",
       "      <th>FLAT_TYPE</th>\n",
       "      <th>STOREY_RANGE</th>\n",
       "      <th>FLOOR_AREA_SQM</th>\n",
       "      <th>RESALE_PRICE</th>\n",
       "      <th>MTH_LEFT</th>\n",
       "    </tr>\n",
       "  </thead>\n",
       "  <tbody>\n",
       "    <tr>\n",
       "      <th>0</th>\n",
       "      <td>ANG MO KIO</td>\n",
       "      <td>1</td>\n",
       "      <td>11</td>\n",
       "      <td>44.0</td>\n",
       "      <td>232000.0</td>\n",
       "      <td>736</td>\n",
       "    </tr>\n",
       "    <tr>\n",
       "      <th>1</th>\n",
       "      <td>ANG MO KIO</td>\n",
       "      <td>2</td>\n",
       "      <td>2</td>\n",
       "      <td>67.0</td>\n",
       "      <td>250000.0</td>\n",
       "      <td>727</td>\n",
       "    </tr>\n",
       "  </tbody>\n",
       "</table>\n",
       "</div>"
      ],
      "text/plain": [
       "         TOWN  FLAT_TYPE  STOREY_RANGE  FLOOR_AREA_SQM  RESALE_PRICE  MTH_LEFT\n",
       "0  ANG MO KIO          1            11            44.0      232000.0       736\n",
       "1  ANG MO KIO          2             2            67.0      250000.0       727"
      ]
     },
     "execution_count": 28,
     "metadata": {},
     "output_type": "execute_result"
    }
   ],
   "source": [
    "df5.head(2)"
   ]
  },
  {
   "cell_type": "code",
   "execution_count": 29,
   "metadata": {},
   "outputs": [
    {
     "data": {
      "text/plain": [
       "<matplotlib.axes._subplots.AxesSubplot at 0x26cb46e46a0>"
      ]
     },
     "execution_count": 29,
     "metadata": {},
     "output_type": "execute_result"
    },
    {
     "data": {
      "image/png": "[encoded data removed]",
      "text/plain": [
       "<Figure size 432x288 with 2 Axes>"
      ]
     },
     "metadata": {
      "needs_background": "light"
     },
     "output_type": "display_data"
    }
   ],
   "source": [
    "# A simple checkpoint and visualisation.\n",
    "# What are some insights you see here?\n",
    "# How much of the insights are due to the assumptions we made above?\n",
    "import seaborn as sns\n",
    "\n",
    "df5_test = df5.loc[df5[\"TOWN\"] == \"BISHAN\", [\"RESALE_PRICE\", \"FLAT_TYPE\", \"STOREY_RANGE\", \"FLOOR_AREA_SQM\", \"MTH_LEFT\"]]\n",
    "\n",
    "sns.heatmap(df5_test.corr())"
   ]
  },
  {
   "cell_type": "markdown",
   "metadata": {},
   "source": [
    "While there are automatic algorithms to conduct feature selection, without knowing the mechanics of how it works, we may be confused as to why a particular feature was dropped over the other. You may wish to take a look at these 2 functions if you wish to know more:  \n",
    "\n",
    "*from sklearn.feature_selection import SelectKBest, chi2*\n",
    "\n",
    "For the purposes of this guide, we can assume that we'd want all x variables to be fed into the model. As above, we can also fuse other datasets together to get more feature variables, but that beyond the scope of this guide. Let's proceed into the actual model."
   ]
  },
  {
   "cell_type": "markdown",
   "metadata": {},
   "source": [
    "#### <a id = \"VOL4_modelprep\"> Model Prep, Dataset split </a>  \n",
    "\n",
    "[Return to top](#VOL4_toc)  \n",
    "\n",
    "Looking at our dataset, while it is largely fit for usage, we still have the \"TOWN\" column that needs to be processed. We know that label encoding *should* be out of the question (hard to argue that little india is a 'better' place than bishan or vice versa). Hence that leaves us with 2 other options:  \n",
    "\n",
    "- __To group each town into regions (Rest of Central Region), (Core Central Region), (Outside Central Region)__  \n",
    "\n",
    "To do this, we would simply need to find the towns that correspond to each region (probably available in most property websites like property guru. This can be seen as a loss of information (as we are grouping bedok, punggol, woodlands and tengah together). One can argue that a 4 room located close to the MRT in these 4 towns will be priced differently (all else being held equal). Once the towns are grouped together, we can convert it to ordered labels 3 > 2 > 1.  \n",
    "\n",
    "After checking the internet, I think regions are slightly inappropriate as there's no clear cut 1-1 mapping in terms of districts to such regions. For example, PropertyGuru uses some parts of district X to group with CCR and OCR.\n",
    "\n",
    "- __To create a new column for each town. This will create 20+ new columns for a dataset with 110k rows.__  \n",
    "\n",
    "Given that the towns are not really comparable, we should ideally apply one-hot encoding for this column. This will represent each town in a separate column such that it's easier for the model to read and perform machine learning. That said, you would have to consider the size constraints. 25 columns on 110k rows (albeit just 1s and 0s) is about 2.5m + additional cells. This resource trade off is just something we should keep in mind.  \n",
    "\n",
    "For this project, we'll just create a new column for each town."
   ]
  },
  {
   "cell_type": "code",
   "execution_count": 30,
   "metadata": {},
   "outputs": [],
   "source": [
    "# Should already be imported from above\n",
    "# from sklearn import preprocessing"
   ]
  },
  {
   "cell_type": "code",
   "execution_count": 31,
   "metadata": {},
   "outputs": [],
   "source": [
    "onehot = preprocessing.OneHotEncoder()\n",
    "test = pd.DataFrame(onehot.fit_transform(df5[[\"TOWN\"]]).toarray(), columns = df5[\"TOWN\"].unique())"
   ]
  },
  {
   "cell_type": "code",
   "execution_count": 32,
   "metadata": {},
   "outputs": [],
   "source": [
    "# You may wish to output this dataset into excel to check and verify the town column has been coded correctly.\n",
    "df_final = pd.concat([df5, test], axis = \"columns\").drop(columns = \"TOWN\")"
   ]
  },
  {
   "cell_type": "code",
   "execution_count": 33,
   "metadata": {},
   "outputs": [
    {
     "name": "stdout",
     "output_type": "stream",
     "text": [
      "<class 'pandas.core.frame.DataFrame'>\n",
      "RangeIndex: 114623 entries, 0 to 114622\n",
      "Data columns (total 31 columns):\n",
      "FLAT_TYPE          114623 non-null int64\n",
      "STOREY_RANGE       114623 non-null int64\n",
      "FLOOR_AREA_SQM     114623 non-null float64\n",
      "RESALE_PRICE       114623 non-null float64\n",
      "MTH_LEFT           114623 non-null int64\n",
      "ANG MO KIO         114623 non-null float64\n",
      "BEDOK              114623 non-null float64\n",
      "BISHAN             114623 non-null float64\n",
      "BUKIT BATOK        114623 non-null float64\n",
      "BUKIT MERAH        114623 non-null float64\n",
      "BUKIT PANJANG      114623 non-null float64\n",
      "BUKIT TIMAH        114623 non-null float64\n",
      "CENTRAL AREA       114623 non-null float64\n",
      "CHOA CHU KANG      114623 non-null float64\n",
      "CLEMENTI           114623 non-null float64\n",
      "GEYLANG            114623 non-null float64\n",
      "HOUGANG            114623 non-null float64\n",
      "JURONG EAST        114623 non-null float64\n",
      "JURONG WEST        114623 non-null float64\n",
      "KALLANG/WHAMPOA    114623 non-null float64\n",
      "MARINE PARADE      114623 non-null float64\n",
      "PASIR RIS          114623 non-null float64\n",
      "PUNGGOL            114623 non-null float64\n",
      "QUEENSTOWN         114623 non-null float64\n",
      "SEMBAWANG          114623 non-null float64\n",
      "SENGKANG           114623 non-null float64\n",
      "SERANGOON          114623 non-null float64\n",
      "TAMPINES           114623 non-null float64\n",
      "TOA PAYOH          114623 non-null float64\n",
      "WOODLANDS          114623 non-null float64\n",
      "YISHUN             114623 non-null float64\n",
      "dtypes: float64(28), int64(3)\n",
      "memory usage: 27.1 MB\n"
     ]
    }
   ],
   "source": [
    "# As you can see, very large dataset\n",
    "df_final.info()"
   ]
  },
  {
   "cell_type": "code",
   "execution_count": 64,
   "metadata": {},
   "outputs": [],
   "source": [
    "# ML models use arrays rather than dataframe.\n",
    "# We use numpy's array, which is convertible from Pandas' dataframes.\n",
    "\n",
    "X, y = np.array(df_final.drop(columns = \"RESALE_PRICE\")), np.array(df_final[\"RESALE_PRICE\"])"
   ]
  },
  {
   "cell_type": "code",
   "execution_count": 35,
   "metadata": {},
   "outputs": [
    {
     "data": {
      "text/plain": [
       "array([[0.16666667, 0.1875    , 0.05963303, 0.62745098, 1.        ,\n",
       "        0.        , 0.        , 0.        , 0.        , 0.        ,\n",
       "        0.        , 0.        , 0.        , 0.        , 0.        ,\n",
       "        0.        , 0.        , 0.        , 0.        , 0.        ,\n",
       "        0.        , 0.        , 0.        , 0.        , 0.        ,\n",
       "        0.        , 0.        , 0.        , 0.        , 0.        ],\n",
       "       [0.33333333, 0.        , 0.16513761, 0.61977835, 1.        ,\n",
       "        0.        , 0.        , 0.        , 0.        , 0.        ,\n",
       "        0.        , 0.        , 0.        , 0.        , 0.        ,\n",
       "        0.        , 0.        , 0.        , 0.        , 0.        ,\n",
       "        0.        , 0.        , 0.        , 0.        , 0.        ,\n",
       "        0.        , 0.        , 0.        , 0.        , 0.        ]])"
      ]
     },
     "execution_count": 35,
     "metadata": {},
     "output_type": "execute_result"
    }
   ],
   "source": [
    "# Convert all numbers to the range of 0 and 1.\n",
    "# This is not strictly required for regression models, but applicable to other ML models where\n",
    "# a gradient descent algorithm (neural network) is used. 0-1 values reduce computation expense.\n",
    "\n",
    "# NOT RUN\n",
    "\n",
    "#minmax = preprocessing.MinMaxScaler()\n",
    "#X = minmax.fit_transform(X)\n",
    "\n",
    "#X[0:2]"
   ]
  },
  {
   "cell_type": "markdown",
   "metadata": {},
   "source": [
    "#### <a id = \"VOL4_sampling\"> Sampling & Model Implementation </a>  \n",
    "\n",
    "[Return to top](#VOL4_toc)\n",
    "\n",
    "After the dataset has been processed, we need to break it up to train and test sets. Training sets trains and builds the model to adapt to the data in train set. The test set is used to validate or test the model's performance based on data it has not seen (i.e. real-life).  \n",
    "\n",
    "There is a small nuance to sampling which depends on your Y labels (more applicable for classification problems). For example, given a dataset with predictor/target variable Y of \"Cancer\" or \"No Cancer\", given that cancer occurence happens in perhaps minority (surely not 50% of sample/population), performing train/test split may result in a trained model that only trains on mostly \"No Cancer\" data instead of a mix of both (so the model 'understands' how the other label looks like).  \n",
    "\n",
    "This is where stratified sampling comes into play. Essentially it tries to maintain the distribution of class labels in Y for both your training and testing set. For regression tasks, it is usually not needed. Stratifying is more for classification problems where rare events are rare and you want the train and test models to exhibit same distribution of labels.\n",
    "\n"
   ]
  },
  {
   "cell_type": "code",
   "execution_count": 36,
   "metadata": {},
   "outputs": [],
   "source": [
    "from sklearn.model_selection import train_test_split"
   ]
  },
  {
   "cell_type": "markdown",
   "metadata": {},
   "source": [
    "__random_state allows the split to be reproduced, which also makes the entire model evaluation reproducible.__\n",
    "\n",
    "For example, running this function 3 times will result in different random datasets: abc, cab, ccc. Using random_state will ensure that the first 3 function calls for any other user using this script (including yourself if you restart the Jupyter Notebook/lab) will generate the same \"random\" datasets."
   ]
  },
  {
   "cell_type": "code",
   "execution_count": 56,
   "metadata": {},
   "outputs": [],
   "source": [
    "X_train, X_test, y_train, y_test = train_test_split(X, y, test_size = 0.2, random_state = 100)\n",
    "\n",
    "# Use this for stratified sampling\n",
    "#X_train, X_test, y_train, y_test = train_test_split(X, y, stratify = y, test_size = 0.2)"
   ]
  },
  {
   "cell_type": "code",
   "execution_count": 57,
   "metadata": {},
   "outputs": [],
   "source": [
    "from sklearn.linear_model import LinearRegression\n",
    "from sklearn import metrics"
   ]
  },
  {
   "cell_type": "code",
   "execution_count": 58,
   "metadata": {},
   "outputs": [],
   "source": [
    "regression = LinearRegression()\n",
    "\n",
    "training = regression.fit(X_train, y_train)\n",
    "y_pred = regression.predict(X_test)"
   ]
  },
  {
   "cell_type": "code",
   "execution_count": 68,
   "metadata": {},
   "outputs": [
    {
     "name": "stdout",
     "output_type": "stream",
     "text": [
      "{'FLAT_TYPE': 27217.94, 'STOREY_RANGE': 4738.81, 'FLOOR_AREA_SQM': 3611.67, 'MTH_LEFT': 423.27, 'ANG MO KIO': 29515.77, 'BEDOK': 15663.58, 'BISHAN': 123587.99, 'BUKIT BATOK': -64375.16, 'BUKIT MERAH': 125356.74, 'BUKIT PANJANG': -120493.9, 'BUKIT TIMAH': 222626.93, 'CENTRAL AREA': 192335.11, 'CHOA CHU KANG': -157521.56, 'CLEMENTI': 68866.62, 'GEYLANG': 67204.16, 'HOUGANG': -56646.32, 'JURONG EAST': -49971.89, 'JURONG WEST': -119583.48, 'KALLANG/WHAMPOA': 88277.5, 'MARINE PARADE': 169755.03, 'PASIR RIS': -83794.48, 'PUNGGOL': -110573.87, 'QUEENSTOWN': 139769.96, 'SEMBAWANG': -182824.23, 'SENGKANG': -133185.39, 'SERANGOON': 22937.06, 'TAMPINES': -20837.44, 'TOA PAYOH': 77561.92, 'WOODLANDS': -151268.63, 'YISHUN': -92382.02, 'INTERCEPT': -358088}\n"
     ]
    }
   ],
   "source": [
    "# Let's create a function for users to input parameters and our function can predict the resale price.\n",
    "\n",
    "intercept = int(regression.intercept_)\n",
    "terms = regression.coef_\n",
    "\n",
    "fn = {}\n",
    "for idx, col in enumerate(list(df_final.drop(columns = \"RESALE_PRICE\").columns)): \n",
    "    fn[col] = round(terms[idx], 2)\n",
    "\n",
    "fn[\"INTERCEPT\"] = intercept\n",
    "print(fn)"
   ]
  },
  {
   "cell_type": "code",
   "execution_count": 77,
   "metadata": {},
   "outputs": [],
   "source": [
    "def predict_price(flat_type, storey_range, sqm, mth, town, fn):\n",
    "    \n",
    "    '''\n",
    "    Note that only integers are accepted.\n",
    "    Intercept can be derived from regression.intercept_, now stored in fn\n",
    "    \n",
    "    in case you forget. This is the mapping for flat_type:\n",
    "    [0, 1, 2, 3, 4, 5, 6]\n",
    "    ['1 ROOM', '2 ROOM', '3 ROOM', '4 ROOM', '5 ROOM', 'EXECUTIVE', 'MULTI-GENERATION']\n",
    "    '''    \n",
    "    \n",
    "    # Split into 2 lines for ease of readability\n",
    "    total = fn[\"INTERCEPT\"] + (fn[\"FLAT_TYPE\"] * flat_type) + (fn[\"STOREY_RANGE\"] * storey_range)\n",
    "    total += (fn[\"FLOOR_AREA_SQM\"] * sqm) + (fn[\"MTH_LEFT\"] * mth) + fn[town.upper()]\n",
    "    \n",
    "    return round(total, 2)"
   ]
  },
  {
   "cell_type": "code",
   "execution_count": 78,
   "metadata": {},
   "outputs": [
    {
     "data": {
      "text/html": [
       "<div>\n",
       "<style scoped>\n",
       "    .dataframe tbody tr th:only-of-type {\n",
       "        vertical-align: middle;\n",
       "    }\n",
       "\n",
       "    .dataframe tbody tr th {\n",
       "        vertical-align: top;\n",
       "    }\n",
       "\n",
       "    .dataframe thead th {\n",
       "        text-align: right;\n",
       "    }\n",
       "</style>\n",
       "<table border=\"1\" class=\"dataframe\">\n",
       "  <thead>\n",
       "    <tr style=\"text-align: right;\">\n",
       "      <th></th>\n",
       "      <th>FLAT_TYPE</th>\n",
       "      <th>STOREY_RANGE</th>\n",
       "      <th>FLOOR_AREA_SQM</th>\n",
       "      <th>RESALE_PRICE</th>\n",
       "      <th>MTH_LEFT</th>\n",
       "      <th>ANG MO KIO</th>\n",
       "      <th>BEDOK</th>\n",
       "      <th>BISHAN</th>\n",
       "      <th>BUKIT BATOK</th>\n",
       "      <th>BUKIT MERAH</th>\n",
       "      <th>...</th>\n",
       "      <th>PASIR RIS</th>\n",
       "      <th>PUNGGOL</th>\n",
       "      <th>QUEENSTOWN</th>\n",
       "      <th>SEMBAWANG</th>\n",
       "      <th>SENGKANG</th>\n",
       "      <th>SERANGOON</th>\n",
       "      <th>TAMPINES</th>\n",
       "      <th>TOA PAYOH</th>\n",
       "      <th>WOODLANDS</th>\n",
       "      <th>YISHUN</th>\n",
       "    </tr>\n",
       "  </thead>\n",
       "  <tbody>\n",
       "    <tr>\n",
       "      <th>0</th>\n",
       "      <td>1</td>\n",
       "      <td>11</td>\n",
       "      <td>44.0</td>\n",
       "      <td>232000.0</td>\n",
       "      <td>736</td>\n",
       "      <td>1.0</td>\n",
       "      <td>0.0</td>\n",
       "      <td>0.0</td>\n",
       "      <td>0.0</td>\n",
       "      <td>0.0</td>\n",
       "      <td>...</td>\n",
       "      <td>0.0</td>\n",
       "      <td>0.0</td>\n",
       "      <td>0.0</td>\n",
       "      <td>0.0</td>\n",
       "      <td>0.0</td>\n",
       "      <td>0.0</td>\n",
       "      <td>0.0</td>\n",
       "      <td>0.0</td>\n",
       "      <td>0.0</td>\n",
       "      <td>0.0</td>\n",
       "    </tr>\n",
       "  </tbody>\n",
       "</table>\n",
       "<p>1 rows × 31 columns</p>\n",
       "</div>"
      ],
      "text/plain": [
       "   FLAT_TYPE  STOREY_RANGE  FLOOR_AREA_SQM  RESALE_PRICE  MTH_LEFT  \\\n",
       "0          1            11            44.0      232000.0       736   \n",
       "\n",
       "   ANG MO KIO  BEDOK  BISHAN  BUKIT BATOK  BUKIT MERAH  ...  PASIR RIS  \\\n",
       "0         1.0    0.0     0.0          0.0          0.0  ...        0.0   \n",
       "\n",
       "   PUNGGOL  QUEENSTOWN  SEMBAWANG  SENGKANG  SERANGOON  TAMPINES  TOA PAYOH  \\\n",
       "0      0.0         0.0        0.0       0.0        0.0       0.0        0.0   \n",
       "\n",
       "   WOODLANDS  YISHUN  \n",
       "0        0.0     0.0  \n",
       "\n",
       "[1 rows x 31 columns]"
      ]
     },
     "execution_count": 78,
     "metadata": {},
     "output_type": "execute_result"
    }
   ],
   "source": [
    "# Test on first entry. \n",
    "# 2 room, 11th storey, 44 sqm, 736 month left, in AMK\n",
    "df_final.head(1)"
   ]
  },
  {
   "cell_type": "code",
   "execution_count": 80,
   "metadata": {},
   "outputs": [
    {
     "name": "stdout",
     "output_type": "stream",
     "text": [
      "232000.0 221212.82\n"
     ]
    }
   ],
   "source": [
    "print(df_final[\"RESALE_PRICE\"].iloc[0], predict_price(1, 11, 44, 736, \"ANG MO KIO\", fn))"
   ]
  },
  {
   "cell_type": "markdown",
   "metadata": {},
   "source": [
    "Pretty good eh? About a 11k error rate, which is around 4.7%. This is just a simple function to *apply* the model to future predictions. Of course, a sample size of 1 won't tell the full story. We need to know how much each prediction differs from the actual values, as well as whether the residuals (actual - predicted) have a random or non-random distribution (more on that later)."
   ]
  },
  {
   "cell_type": "code",
   "execution_count": 81,
   "metadata": {},
   "outputs": [],
   "source": [
    "import matplotlib.pyplot as plt"
   ]
  },
  {
   "cell_type": "code",
   "execution_count": 82,
   "metadata": {},
   "outputs": [
    {
     "name": "stdout",
     "output_type": "stream",
     "text": [
      "MAE: 52061.11105510042\n",
      "MSE: 4440849152.360245\n",
      "RMSE: 66639.69652061934\n"
     ]
    },
    {
     "data": {
      "text/plain": [
       "<matplotlib.collections.LineCollection at 0x26cb2f4f668>"
      ]
     },
     "execution_count": 82,
     "metadata": {},
     "output_type": "execute_result"
    },
    {
     "data": {
      "image/png": "[encoded data removed]",
      "text/plain": [
       "<Figure size 648x324 with 2 Axes>"
      ]
     },
     "metadata": {
      "needs_background": "light"
     },
     "output_type": "display_data"
    }
   ],
   "source": [
    "# Note that axs is a 2d array (aka a list). Bc the plot dimension is just 1 row and 2 columns,\n",
    "# the way to index the axes is to use list indexing. If you have 4 plots (2 rows and 2 columns),\n",
    "# you would need to index it via axs[row, col]\n",
    "# if only 1 plot, can just use axs.plot or similar commands.\n",
    "\n",
    "actual_fit = pd.DataFrame({\"ACTUAL\": y_test.flatten(), \"PREDICTED\": y_pred.flatten()})\n",
    "actual_fit[\"RESIDUAL\"] = actual_fit[\"ACTUAL\"] - actual_fit[\"PREDICTED\"]\n",
    "\n",
    "print('MAE:', metrics.mean_absolute_error(y_test, y_pred))\n",
    "print('MSE:', metrics.mean_squared_error(y_test, y_pred))\n",
    "print('RMSE:', np.sqrt(metrics.mean_squared_error(y_test, y_pred)))\n",
    "\n",
    "lims = (0, 1300000)\n",
    "fig, axs = plt.subplots(1,2, figsize = (9,4.5), constrained_layout = True)\n",
    "\n",
    "axs[0].scatter(x = actual_fit[\"ACTUAL\"], y = actual_fit[\"PREDICTED\"])\n",
    "axs[0].plot([0,1], [0, 1], transform = axs[0].transAxes, color = \"r\")\n",
    "\n",
    "axs[0].vlines([600000, 900000], ymin = 0, ymax = 900000, colors = \"red\")\n",
    "axs[0].hlines([600000, 900000], xmin = 0, xmax = 900000, colors = \"red\")\n",
    "axs[0].set_ylim(lims)\n",
    "axs[0].set_xlim(lims)\n",
    "\n",
    "axs[0].set_xlabel(\"ACTUAL\")\n",
    "axs[0].set_ylabel(\"PREDICTED\")\n",
    "axs[0].set_title(\"ACTUAL vs PREDICTED VALUES\")\n",
    "\n",
    "axs[1].scatter(x = actual_fit[\"RESIDUAL\"], y = actual_fit[\"PREDICTED\"],)\n",
    "axs[1].set_xlabel(\"RESIDUAL\")\n",
    "axs[1].set_ylabel(\"PREDICTED\")\n",
    "axs[1].set_title(\"PREDICTED vs RESIDUAL VALUES\")\n",
    "axs[1].hlines([400000, 800000], xmin = axs[1].get_xlim()[0], xmax = axs[1].get_xlim()[1], colors = \"red\", linestyle = \"--\")\n",
    "\n",
    "#print(axs[0].get_ylim())"
   ]
  },
  {
   "cell_type": "markdown",
   "metadata": {},
   "source": [
    "The visualisations help to illustrate 2 things: How far off the predicted values are from the actual (left chart) and potential patterns (if any) that the residual values share (residual = actual values - predicted) on the right chart. If the resulting visualisation is not a random distribution, there could be a possibility that your data might share a different relationship between resale prices at different points. As the dotted lines show, perhaps there exists a non-random relationship between the actual vs predicted data, in that it perhaps underestimates the price? Recall that residual = actual - predicted. A large residual = actual > predicted or that predicted is too low.\n",
    "\n",
    "Both charts are best compared in parallel. Looking at the left chart, transactions of 200k are 'predicted' with a value anywhere from 0 to almost 400k. With the actual values, we can see that there's a sort of *floor* in the prices of resale transactions. This could be due to govt's lease buyback schemes, subsidized rental (1-room) flats or 2-room flats. On the flip side, on higher-priced transactions, we see that the predicted values are under predicted (under the red line).  "
   ]
  },
  {
   "cell_type": "markdown",
   "metadata": {},
   "source": [
    "#### <a id = \"VOL4_iter\"> Iterative modelling </a>\n",
    "\n",
    "[Return to top](#VOL4_toc)\n",
    "\n",
    "Is there a different kind of relationship between such categories (low, mid, high-priced transactions)?   \n",
    "\n",
    "Let's try 3 models this time, say to categorise by type of rooms (1-2 rooms, 3-4-5 rooms, executive and multi-gen). To make things simple, I've developed a simple function that wraps the plotting function as above to plot n number of models that we use depending on the kind of sliced data we have."
   ]
  },
  {
   "cell_type": "code",
   "execution_count": 145,
   "metadata": {},
   "outputs": [],
   "source": [
    "# define function to easily plot regression results\n",
    "\n",
    "def plot_linreg(df, label):\n",
    "\n",
    "    ''' \n",
    "    Simple function to create plots based on 1 row 2 column.\n",
    "    '''\n",
    "    \n",
    "    xlabs, ylabs = [\"ACTUAL\", \"RESIDUAL\"], [\"PREDICTED\", \"PREDICTED\"]\n",
    "    title = [xlabs[0] + \" vs \" + ylabs[0] + \" VALUES for \" + label, xlabs[1] + \" vs \" + ylabs[1] + \" VALUES for \" + label]\n",
    "    \n",
    "    fig, axs = plt.subplots(1,2, figsize = (10,4.5), constrained_layout = True)\n",
    "    axs[0].plot([0,1], [0, 1], transform = axs[0].transAxes, color = \"r\")\n",
    "    for i in [0,1]:\n",
    "       \n",
    "        # iteratively set labels and plot figures, whilst setting limits.\n",
    "        axs[i].scatter(x = df[xlabs[i]], y = df[ylabs[i]])\n",
    "        axs[i].set_xlabel(xlabs[i])\n",
    "        axs[i].set_ylabel(ylabs[i])\n",
    "        axs[i].set_title(title[i])\n",
    "        \n",
    "        axs[i].set_ylim(0, max(max(df[xlabs[0]]), max(df[ylabs[0]])) * 1.05)\n",
    "        \n",
    "        if i == 0:\n",
    "            axs[i].set_xlim(0, max(max(df[xlabs[0]]), max(df[xlabs[1]])) * 1.05)\n",
    "            axs[i].plot([0,1], [0, 1], transform = axs[i].transAxes, color = \"r\")            \n",
    "        else:\n",
    "            axs[i].set_xlim(min(df[xlabs[1]]) * 0.95, max(df[xlabs[1]]) * 1.05)\n",
    "    \n",
    "    mae = metrics.mean_absolute_error(df[\"ACTUAL\"], df[\"PREDICTED\"])\n",
    "    mse = metrics.mean_squared_error(df[\"ACTUAL\"], df[\"PREDICTED\"])\n",
    "    rmse = np.sqrt(metrics.mean_squared_error(df[\"ACTUAL\"], df[\"PREDICTED\"]))\n",
    "    avg_px = df[\"ACTUAL\"].sum()/len(df)\n",
    "\n",
    "    print(\"[{}]\\nAverage price: ${}\".format(rm_type[idx], round(avg_px, 2)))\n",
    "    print('MAE: ${}\\nMSE: ${}\\nRMSE: ${}'.format(round(mae,2), round(mse,2), round(rmse,2)))\n",
    "    print(\"RMSE as % of mean resale price = {}%\".format(round((rmse/avg_px)*100, 2)))\n",
    "    print()\n",
    "    return fig, axs"
   ]
  },
  {
   "cell_type": "code",
   "execution_count": 76,
   "metadata": {},
   "outputs": [
    {
     "data": {
      "text/plain": [
       "array(['1 ROOM', '2 ROOM', '3 ROOM', '4 ROOM', '5 ROOM', 'EXECUTIVE',\n",
       "       'MULTI-GENERATION'], dtype='<U16')"
      ]
     },
     "execution_count": 76,
     "metadata": {},
     "output_type": "execute_result"
    }
   ],
   "source": [
    "# inverse transform converts the code back to the original labels.\n",
    "# This is more for ease of interpretation so we know how to slice the data.\n",
    "label_enc.inverse_transform([0,1,2,3,4,5,6])"
   ]
  },
  {
   "cell_type": "code",
   "execution_count": 146,
   "metadata": {},
   "outputs": [
    {
     "name": "stdout",
     "output_type": "stream",
     "text": [
      "[LOW]\n",
      "Average price: $241373.29\n",
      "MAE: $20066.53\n",
      "MSE: $688976244.13\n",
      "RMSE: $26248.36\n",
      "RMSE as % of mean resale price = 10.87%\n",
      "\n",
      "[MID]\n",
      "Average price: $444660.0\n",
      "MAE: $51138.12\n",
      "MSE: $4361166096.08\n",
      "RMSE: $66039.13\n",
      "RMSE as % of mean resale price = 14.85%\n",
      "\n",
      "[HIGH]\n",
      "Average price: $647744.14\n",
      "MAE: $55398.6\n",
      "MSE: $4780120692.09\n",
      "RMSE: $69138.42\n",
      "RMSE as % of mean resale price = 10.67%\n",
      "\n"
     ]
    },
    {
     "data": {
      "image/png": "[encoded data removed]",
      "text/plain": [
       "<Figure size 720x324 with 2 Axes>"
      ]
     },
     "metadata": {
      "needs_background": "light"
     },
     "output_type": "display_data"
    },
    {
     "data": {
      "image/png": "[encoded data removed]",
      "text/plain": [
       "<Figure size 720x324 with 2 Axes>"
      ]
     },
     "metadata": {
      "needs_background": "light"
     },
     "output_type": "display_data"
    },
    {
     "data": {
      "image/png": "[encoded data removed]",
      "text/plain": [
       "<Figure size 720x324 with 2 Axes>"
      ]
     },
     "metadata": {
      "needs_background": "light"
     },
     "output_type": "display_data"
    }
   ],
   "source": [
    "rooms_filter = [[0,1], [2,3,4], [5,6]]\n",
    "rm_type = [\"LOW\", \"MID\", \"HIGH\"]\n",
    "model_dict = {}\n",
    "values = {}\n",
    "# using onehot as the onehot encoder as the object already stores the ranking?\n",
    "\n",
    "for idx, room in enumerate(rooms_filter):\n",
    "    \n",
    "    df_subset = df5.loc[df5[\"FLAT_TYPE\"].isin(room), :]\n",
    "    test = pd.DataFrame(onehot.fit_transform(df_subset[[\"TOWN\"]]).toarray(), columns = df_subset[\"TOWN\"].unique())\n",
    "\n",
    "    # You may wish to output this dataset into excel to check and verify the town column has been coded correctly.\n",
    "    df_grp = pd.concat([df_subset.reset_index(drop=True), test], axis = \"columns\").drop(columns = \"TOWN\")\n",
    "\n",
    "    # drop datasets with all 0 or all 1s?\n",
    "    X, y = np.array(df_grp.drop(columns = \"RESALE_PRICE\")), np.array(df_grp[\"RESALE_PRICE\"])\n",
    "    \n",
    "    #dict_grp[rm_type[idx]] = [X, y]\n",
    "    X_train, X_test, y_train, y_test = train_test_split(X, y, test_size = 0.2, random_state = 100)\n",
    "\n",
    "    # Creat model, train using _train data, test again test data. Add it into dataframe to compare results.\n",
    "    regression = LinearRegression()\n",
    "    training = regression.fit(X_train, y_train)\n",
    "    y_pred = regression.predict(X_test)\n",
    "    \n",
    "    # store object here.\n",
    "    model_dict[rm_type[idx]] = regression\n",
    "    \n",
    "    # create dataframe and store data into dictionary for further analysis if necessary.\n",
    "    actual_fit = pd.DataFrame({\"ACTUAL\": y_test.flatten(), \"PREDICTED\": y_pred.flatten()})\n",
    "    actual_fit[\"RESIDUAL\"] = actual_fit[\"ACTUAL\"] - actual_fit[\"PREDICTED\"]\n",
    "    \n",
    "    values[rm_type[idx]] = actual_fit.copy()\n",
    "    #print(\"Average price: ${}\".format(round(actual_fit[\"ACTUAL\"].sum()/len(actual_fit),2)))\n",
    "    \n",
    "    plot_linreg(actual_fit, rm_type[idx])"
   ]
  },
  {
   "cell_type": "markdown",
   "metadata": {},
   "source": [
    "Generally quite good as the model is able to predict 1/2 rooms as well as executive/multi-gen flats pretty well separately (~10.9% error rate). The 3/4/5 room flats deserve a closer look, but depending on who you ask, a 10-20% error rate can be 'great' or 'not so great'. For a test exercise, I'd say we did pretty well (even before hyperparameter tuning). You should also be able to infer some sort of distribution for the 3/4/5 room model based on the residual vs fitted. Perhaps 3 rooms should be predicted on their own?  \n",
    "\n",
    "For this project, we've reached the end of the formal guide. There's 101 other ways to slice the data, and there's at least 5 other types of models I can think of for regression tasks. Best find an intermediate python/data science course to learn more on that (e.g. neural networks, regression splines, ensemble models).  \n",
    "\n",
    "For more information on Regression Splines, can check out this link here:  \n",
    "- https://towardsdatascience.com/mars-multivariate-adaptive-regression-splines-how-to-improve-on-linear-regression-e1e7a63c5eae"
   ]
  },
  {
   "cell_type": "markdown",
   "metadata": {},
   "source": [
    "#### <a id =\"VOL4_close\"> Closing Up </a>  \n",
    "\n",
    "[Return to top](#VOL4_toc)\n",
    "\n",
    "Thank you for reading thus far. I hope I've managed to impart some of my data science knowledge to you guys. It's been a great learning journey for me as it is for you, since I've got to learn more about the code before I write it in in order to explain it.  \n",
    "\n",
    "Do reach out to me personally if you've any specific questions on the guide itself at:  \n",
    "   joey.kokbin@gmail.com\n",
    "\n",
    "There is no copyright etc terms on this guide. Feel free to copy this code for your own use :)\n",
    "\n",
    "-Joey  \n",
    "\n",
    "*PS: There are some things described in PST's presentation not covered above, especially regarding hyper-parameter tuning and other finer points of model evaluation. I will address them in the sections below.*"
   ]
  },
  {
   "cell_type": "markdown",
   "metadata": {},
   "source": [
    "#### <a id = \"VOL4_hyper\"> Hyperparameter tuning </a>  \n",
    "\n",
    "[Return to top](#VOL4_toc)\n",
    "\n",
    "Hyperparameter tuning is best described as an example: Making modifications to your car (model) in terms of e.g. tire pressure, type of engine, type of fuel (hyperparameters) used to make it go faster than other identical car models. Here, model = linear regression or other kinds of ML models. Essentially, we are trying to get more *juice* out of our existing models.  \n",
    "\n",
    "As mentioned in the slides, there is a resource trade off if you would like to attempt grid search (which is exhaustive) over random search. The computational resource (and time) required will scale proportionally to the size of the dataset, number of parameters to tune, and number of configurations within each parameter.  \n",
    "\n",
    "In most models, you can get the parameters that you can tune via this code:  \n",
    "[estimator].get_params().keys()\n"
   ]
  },
  {
   "cell_type": "code",
   "execution_count": 117,
   "metadata": {},
   "outputs": [
    {
     "data": {
      "text/plain": [
       "{'copy_X': True, 'fit_intercept': True, 'n_jobs': None, 'normalize': False}"
      ]
     },
     "execution_count": 117,
     "metadata": {},
     "output_type": "execute_result"
    }
   ],
   "source": [
    "regression.get_params()"
   ]
  },
  {
   "cell_type": "code",
   "execution_count": 96,
   "metadata": {},
   "outputs": [],
   "source": [
    "# loguniform not available in our package version\n",
    "#from scipy.stats import loguniform\n",
    "from sklearn.model_selection import RepeatedKFold, RandomizedSearchCV"
   ]
  },
  {
   "cell_type": "code",
   "execution_count": 104,
   "metadata": {},
   "outputs": [],
   "source": [
    "# Recreate the original dataset's array\n",
    "X, y = np.array(df_final.drop(columns = \"RESALE_PRICE\")), np.array(df_final[\"RESALE_PRICE\"])"
   ]
  },
  {
   "cell_type": "code",
   "execution_count": 111,
   "metadata": {},
   "outputs": [],
   "source": [
    "# define search space:\n",
    "space = dict()\n",
    "space[\"fit_intercept\"] = [True, False]\n",
    "space[\"normalize\"] = [True, False]"
   ]
  },
  {
   "cell_type": "markdown",
   "metadata": {},
   "source": [
    "Refer to this link for more details on cv as well as n_iter arguments:  \n",
    "https://scikit-learn.org/stable/modules/generated/sklearn.model_selection.RandomizedSearchCV.html"
   ]
  },
  {
   "cell_type": "code",
   "execution_count": 112,
   "metadata": {},
   "outputs": [
    {
     "name": "stderr",
     "output_type": "stream",
     "text": [
      "C:\\Program Files\\Anaconda3\\lib\\site-packages\\sklearn\\model_selection\\_search.py:271: UserWarning: The total space of parameters 4 is smaller than n_iter=500. Running 4 iterations. For exhaustive searches, use GridSearchCV.\n",
      "  % (grid_size, self.n_iter, grid_size), UserWarning)\n"
     ]
    }
   ],
   "source": [
    "cv = RepeatedKFold(n_splits = 10, n_repeats = 3, random_state = 100)\n",
    "search = RandomizedSearchCV(regression, space, n_iter = 4, scoring = \"neg_mean_absolute_error\", n_jobs = 1, cv = cv, random_state = 100)\n",
    "result = search.fit(X, y)"
   ]
  },
  {
   "cell_type": "code",
   "execution_count": 116,
   "metadata": {},
   "outputs": [
    {
     "data": {
      "text/plain": [
       "-52041.693614215386"
      ]
     },
     "execution_count": 116,
     "metadata": {},
     "output_type": "execute_result"
    }
   ],
   "source": [
    "# The negative sign can be ignored. \n",
    "# The original 'score' aka MAE was 52061. Not much of a difference.\n",
    "result.best_score_"
   ]
  },
  {
   "cell_type": "markdown",
   "metadata": {},
   "source": [
    "Hyperparameter tuning works well for models with multiple parameters and configuration (especially neural networks). For linear regression, there isn't much to optimise due to the inherent formula/mathematical concept behind the model (draws linear line of best fit between X and y). I would recommend referring to these few links (as well as doing your own research) on how best to perform hyperparameter tuning on other models.  \n",
    "\n",
    "[Finding parameters of a given estimator] https://scikit-learn.org/stable/modules/grid_search.html  \n",
    "[Example on tuning with linear/logistic regression] https://machinelearningmastery.com/hyperparameter-optimization-with-random-search-and-grid-search  \n",
    "[Guide on 5 hyperparamter optimizing techniques] https://www.analyticsvidhya.com/blog/2021/06/5-hyperparameter-optimization-techniques-you-must-know-for-data-science-hackathons  \n",
    "\n",
    "If any of the links are unusable, please google the terms after the last slash + name of the website. For example: \"scikit learn grid_search\". The link should turn up as the top result.  \n",
    "\n",
    "Continuing with the car example, it's best to understand first what type of car (models) are out there, and the type of terrain (types of data) the car can excel in, before thinking about how to tune your car for the best performance (hyperparameter tuning). You also need to understand (roughly) how each parameter affects the model performance, in case you're ever asked by management."
   ]
  },
  {
   "cell_type": "markdown",
   "metadata": {},
   "source": [
    "#### <a id = \"VOL4_signif\"> Significance </a>\n",
    "[Return to top](#VOL4_toc)  \n",
    "\n",
    "It's important to also test whether the feature variables (i.e. X variables) are statistically significant in predicicting resale prices. Correlation does not equal causation/prediction! For linear regression type models, can generally do that by testing for P values (as is the case in hypothesis testing) or calculating their F-statistics. \n",
    "\n",
    "Referenced from: https://statisticsbyjim.com/regression/interpret-coefficients-p-values-regression/  \n",
    "\n",
    "The p-values help determine whether the relationships that you observe in your sample also exist in the larger population. The p-value for each independent variable (X1, X2, ... , Xn) tests the null hypothesis (aka h0) that the variable has no correlation with the dependent variable. If no correlation, there is no association between changes in the X var and shifts in Y. If the p-value is less than your significance level (usually 0.05 / 5% or 0.01 / 1%), your sample data provides enough evidence to reject h0 for entire population (i.e. proof of non-zero correlation).  \n",
    "\n",
    "Referenced from: https://statisticsbyjim.com/regression/interpret-f-test-overall-significance-regression/  \n",
    "\n",
    "The F-test of overall significance indicates whether your model provides a better fit to the data than a model containing no independent variables (X). The latter model can be thought of as an intercept-only model. h0 = model with no independent variables fits the data as well as your model (i.e. your X variables have no statistical significance in predicting Y). While it looks similar to p-value tests, F-tests sum the predictive power of all independent variables and determines that it is unlikely that *all* of the coefficient equal zero (no significance to Y). A significant F-score here does not mean that individually the X variables are all significant. That can be checked with p-value tests.  \n",
    "\n",
    "You may also refer to jim's other articles here on regression:  \n",
    "https://statisticsbyjim.com/regression/model-specification-variable-selection/  \n",
    "https://statisticsbyjim.com/regression/check-residual-plots-regression-analysis/"
   ]
  },
  {
   "cell_type": "code",
   "execution_count": 147,
   "metadata": {},
   "outputs": [],
   "source": [
    "import sklearn.metrics\n",
    "import statsmodels.api as sm"
   ]
  },
  {
   "cell_type": "code",
   "execution_count": 148,
   "metadata": {},
   "outputs": [
    {
     "name": "stdout",
     "output_type": "stream",
     "text": [
      "                            OLS Regression Results                            \n",
      "==============================================================================\n",
      "Dep. Variable:                      y   R-squared:                       0.661\n",
      "Model:                            OLS   Adj. R-squared:                  0.660\n",
      "Method:                 Least Squares   F-statistic:                     662.9\n",
      "Date:                Wed, 09 Feb 2022   Prob (F-statistic):               0.00\n",
      "Time:                        16:39:56   Log-Likelihood:            -1.1600e+05\n",
      "No. Observations:                9218   AIC:                         2.321e+05\n",
      "Df Residuals:                    9190   BIC:                         2.323e+05\n",
      "Df Model:                          27                                         \n",
      "Covariance Type:            nonrobust                                         \n",
      "==============================================================================\n",
      "                 coef    std err          t      P>|t|      [0.025      0.975]\n",
      "------------------------------------------------------------------------------\n",
      "const      -1.421e+05   4.96e+04     -2.863      0.004   -2.39e+05   -4.48e+04\n",
      "x1          6.758e+04   9579.692      7.055      0.000    4.88e+04    8.64e+04\n",
      "x2          5763.5910    181.417     31.770      0.000    5407.972    6119.210\n",
      "x3          3239.0923     98.031     33.042      0.000    3046.930    3431.254\n",
      "x4             7.9375     15.598      0.509      0.611     -22.638      38.513\n",
      "x5           8.98e+04   8770.919     10.238      0.000    7.26e+04    1.07e+05\n",
      "x6          1.057e+04   4848.142      2.179      0.029    1062.832    2.01e+04\n",
      "x7          1.723e+05   5546.896     31.069      0.000    1.61e+05    1.83e+05\n",
      "x8         -8.798e+04   4514.589    -19.489      0.000   -9.68e+04   -7.91e+04\n",
      "x9         -1.028e+04   4.81e+04     -0.214      0.831   -1.05e+05     8.4e+04\n",
      "x10        -8.403e+04   4458.852    -18.846      0.000   -9.28e+04   -7.53e+04\n",
      "x11         2.588e+05   8691.970     29.778      0.000    2.42e+05    2.76e+05\n",
      "x12        -1.663e+05   4304.055    -38.627      0.000   -1.75e+05   -1.58e+05\n",
      "x13         9.391e+04   7598.199     12.359      0.000     7.9e+04    1.09e+05\n",
      "x14         3.136e+04   6965.526      4.502      0.000    1.77e+04     4.5e+04\n",
      "x15        -2.035e+04   3989.320     -5.102      0.000   -2.82e+04   -1.25e+04\n",
      "x16        -3.221e+04   5149.494     -6.255      0.000   -4.23e+04   -2.21e+04\n",
      "x17         -1.38e+05   3920.659    -35.197      0.000   -1.46e+05    -1.3e+05\n",
      "x18         8.086e+04   8054.026     10.040      0.000    6.51e+04    9.66e+04\n",
      "x19        -7.765e+04   3853.078    -20.153      0.000   -8.52e+04   -7.01e+04\n",
      "x20        -1.162e+05   6464.215    -17.981      0.000   -1.29e+05   -1.04e+05\n",
      "x21         2.637e+05   1.21e+04     21.762      0.000     2.4e+05    2.87e+05\n",
      "x22        -1.825e+05   4864.151    -37.529      0.000   -1.92e+05   -1.73e+05\n",
      "x23        -1.053e+05   4465.188    -23.578      0.000   -1.14e+05   -9.65e+04\n",
      "x24         3.967e+04   4639.726      8.551      0.000    3.06e+04    4.88e+04\n",
      "x25        -1.917e+04   3852.320     -4.975      0.000   -2.67e+04   -1.16e+04\n",
      "x26         9.136e+04   7682.389     11.893      0.000    7.63e+04    1.06e+05\n",
      "x27        -1.258e+05   4333.939    -29.026      0.000   -1.34e+05   -1.17e+05\n",
      "x28        -1.086e+05   4701.207    -23.109      0.000   -1.18e+05   -9.94e+04\n",
      "==============================================================================\n",
      "Omnibus:                      262.637   Durbin-Watson:                   0.913\n",
      "Prob(Omnibus):                  0.000   Jarque-Bera (JB):              285.164\n",
      "Skew:                           0.421   Prob(JB):                     1.20e-62\n",
      "Kurtosis:                       3.185   Cond. No.                     1.42e+16\n",
      "==============================================================================\n",
      "\n",
      "Warnings:\n",
      "[1] Standard Errors assume that the covariance matrix of the errors is correctly specified.\n",
      "[2] The smallest eigenvalue is 3.67e-23. This might indicate that there are\n",
      "strong multicollinearity problems or that the design matrix is singular.\n"
     ]
    }
   ],
   "source": [
    "# Using X and y that was already created above.\n",
    "X2 = sm.add_constant(X)\n",
    "est = sm.OLS(y, X2)\n",
    "est2 = est.fit()\n",
    "print(est2.summary())"
   ]
  },
  {
   "cell_type": "markdown",
   "metadata": {},
   "source": [
    "The dataset used is the last dataset in the loop, which are for executive and multi-gen flats. The above output tells you that feature variable x4 and x9 does not seem like significant variables. Whilst the error rate was only ~11%, the R-squared is around 0.66. This means that 66% of the variation in y (resale prices) can be explained by variations in x. Adjusted R-squared is a slightly refined metric of R-squared to adjust for the number of X in the model. Essentially adjusted R-squared will only increase if the new term improves the model more than would be expected by chance (i.e. statistically significant). If the Adj R^2 is way lower than R^2, we should think about reducing the number of feature variables (X).  \n",
    "\n",
    "For further reading on RMSE vs R-squared vs Adj R-squared, please refer to:  \n",
    "https://www.theanalysisfactor.com/assessing-the-fit-of-regression-models"
   ]
  },
  {
   "cell_type": "markdown",
   "metadata": {},
   "source": [
    "#### <a id = \"VOL4_other\"> Other things to look at</a>  \n",
    "\n",
    "[Return to top](#VOL4_toc)  \n",
    "\n",
    "There are *so many* things to talk about even with simplistic models such as linear regression, such as:  \n",
    "- Multi-collinearity (X variables correlated with each other)  \n",
    "- Interaction terms (X1 influenced by X2?). For example:  \n",
    "    Increase in risk of cancer for smoker who eats junk food vs smoker who does not.  \n",
    "    Increase in risk of cancer for non-smoker who eats junk food vs non-smoker who does not.  \n",
    "\n",
    "We can infer that the increase in risk of cancer is perhaps higher for smoker than non-smoker. However, in linear regression, the terms will be expressed as such:  \n",
    "__y = b0 + b1x1 + b2x2__  \n",
    "\n",
    "Example, where 0.1 = baseline risk of all users. IsSmoker and JunkFoodEater are values for 0 (no) and 1 (yes).  \n",
    "__Risk of cancer = 0.1 + (0.2) * (IsSmoker) + (0.05) * (JunkFoodEater)__\n",
    "\n",
    "That is not entirely true as we've just inferred that perhaps if you're a smoker, your increase in cancer risk perhaps is 3x as high. Rewriting the terms:  \n",
    "__Risk of cancer =  = 0.1 + (0.2) * (IsSmoker) + (0.1) * (JunkFoodEater) * (IsSmoker) + (0.05) * (JunkFoodEater)__\n",
    "\n",
    "For more information, please google \"Interaction terms linear regression\"."
   ]
  },
  {
   "cell_type": "markdown",
   "metadata": {},
   "source": [
    "For ML models with multiple feature variables, you can think about automatically testing for significance via a best subset or stepwise algorithm. Essentially, the model starts as one without X variables and continually adds them, testing for significance + evaluating based on score (AIC, BIC, F-score, R-squared) until the model with the best subset of X variables is reached. Also known as forward stepwise regression.  \n",
    "\n",
    "Relevant link(s):  \n",
    "https://www.datasklr.com/ols-least-squares-regression/variable-selection  \n",
    "https://stackoverflow.com/questions/15433372/stepwise-regression-in-python"
   ]
  },
  {
   "cell_type": "markdown",
   "metadata": {},
   "source": [
    "Note that this is not exhaustive. Though, as you can probably guess, the best way to learn is by googling ;)  \n",
    "\n",
    "All resources are available on the internet. We just need to put in effort to learn. Wishing you the best in your data science journey! "
   ]
  }
 ],
 "metadata": {
  "kernelspec": {
   "display_name": "Python 3",
   "language": "python",
   "name": "python3"
  },
  "language_info": {
   "codemirror_mode": {
    "name": "ipython",
    "version": 3
   },
   "file_extension": ".py",
   "mimetype": "text/x-python",
   "name": "python",
   "nbconvert_exporter": "python",
   "pygments_lexer": "ipython3",
   "version": "3.7.3"
  }
 },
 "nbformat": 4,
 "nbformat_minor": 2
}
