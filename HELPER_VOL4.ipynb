{
 "cells": [
  {
   "cell_type": "markdown",
   "metadata": {},
   "source": [
    "# Helper Functions Volume 4: Feature Engineering & Model preparation\n",
    "\n",
    "Author: Koh Kok Bin  \n",
    "Date: 17 Feb 2022\n",
    "\n",
    "This notebook provides some basic walkthroughs on how best to optimize features (aka parameters or x 'predictor' variables). It is not meant to be exhaustive but should cover most of what is done during data science projects.\n",
    "\n",
    "### <a id = \"VOL4_toc\"> Table of contents:  </a>\n",
    "- [Reference Materials -- This needs to be run so that Parts 1 to n can work.](#VOL4_refmat)  \n",
    "- [Feature selection -- Which variable is redundant?](#VOL4_feat_select)  \n",
    "- [Feature Engineering -- How best to convert the variables so models can accept it?]\n",
    "- [Train/test split, stratified sampling]  \n",
    "\n",
    "\n",
    "The generic idea is tho perform feature engineering to ensure table is rid of unnecessary data, and is in a format that can be easily interpreted (accurately) by the model itself. Only when that is done, the pre-model preparation like train/test split etc should be performed. "
   ]
  },
  {
   "cell_type": "code",
   "execution_count": 4,
   "metadata": {},
   "outputs": [],
   "source": [
    "import os\n",
    "import pandas as pd"
   ]
  },
  {
   "cell_type": "code",
   "execution_count": 5,
   "metadata": {},
   "outputs": [],
   "source": [
    "# Get directory name of this file. Helpful to specify the directory of the file, \n",
    "# so you can also interact with the files in the same location via relative paths.\n",
    "\n",
    "dirname = globals()[\"_dh\"][0]"
   ]
  },
  {
   "cell_type": "code",
   "execution_count": 6,
   "metadata": {},
   "outputs": [
    {
     "data": {
      "text/plain": [
       "True"
      ]
     },
     "execution_count": 6,
     "metadata": {},
     "output_type": "execute_result"
    }
   ],
   "source": [
    "data_folder = \"VOL4\"\n",
    "list_of_files = os.listdir(os.path.join(dirname, data_folder)) # Absolute path\n",
    "list_of_files2 = os.listdir(data_folder) # Relative path\n",
    "\n",
    "# They are the same; only 1 file in folder\n",
    "list_of_files == list_of_files2"
   ]
  },
  {
   "cell_type": "code",
   "execution_count": 7,
   "metadata": {},
   "outputs": [],
   "source": [
    "# Replace function is meant to ensure sharepoint files will work.\n",
    "# This code is more readable too.\n",
    "datafile = os.path.join(dirname, data_folder, list_of_files[0]).replace(\"\\\\\", \"/\")\n",
    "df = pd.read_csv(datafile)"
   ]
  },
  {
   "cell_type": "code",
   "execution_count": 8,
   "metadata": {},
   "outputs": [],
   "source": [
    "df2 = df.copy()"
   ]
  },
  {
   "cell_type": "code",
   "execution_count": 9,
   "metadata": {},
   "outputs": [
    {
     "data": {
      "text/html": [
       "<div>\n",
       "<style scoped>\n",
       "    .dataframe tbody tr th:only-of-type {\n",
       "        vertical-align: middle;\n",
       "    }\n",
       "\n",
       "    .dataframe tbody tr th {\n",
       "        vertical-align: top;\n",
       "    }\n",
       "\n",
       "    .dataframe thead th {\n",
       "        text-align: right;\n",
       "    }\n",
       "</style>\n",
       "<table border=\"1\" class=\"dataframe\">\n",
       "  <thead>\n",
       "    <tr style=\"text-align: right;\">\n",
       "      <th></th>\n",
       "      <th>month</th>\n",
       "      <th>town</th>\n",
       "      <th>flat_type</th>\n",
       "      <th>block</th>\n",
       "      <th>street_name</th>\n",
       "      <th>storey_range</th>\n",
       "      <th>floor_area_sqm</th>\n",
       "      <th>flat_model</th>\n",
       "      <th>lease_commence_date</th>\n",
       "      <th>remaining_lease</th>\n",
       "      <th>resale_price</th>\n",
       "    </tr>\n",
       "  </thead>\n",
       "  <tbody>\n",
       "    <tr>\n",
       "      <th>0</th>\n",
       "      <td>2017-01</td>\n",
       "      <td>ANG MO KIO</td>\n",
       "      <td>2 ROOM</td>\n",
       "      <td>406</td>\n",
       "      <td>ANG MO KIO AVE 10</td>\n",
       "      <td>10 TO 12</td>\n",
       "      <td>44.0</td>\n",
       "      <td>Improved</td>\n",
       "      <td>1979</td>\n",
       "      <td>61 years 04 months</td>\n",
       "      <td>232000.0</td>\n",
       "    </tr>\n",
       "    <tr>\n",
       "      <th>1</th>\n",
       "      <td>2017-01</td>\n",
       "      <td>ANG MO KIO</td>\n",
       "      <td>3 ROOM</td>\n",
       "      <td>108</td>\n",
       "      <td>ANG MO KIO AVE 4</td>\n",
       "      <td>01 TO 03</td>\n",
       "      <td>67.0</td>\n",
       "      <td>New Generation</td>\n",
       "      <td>1978</td>\n",
       "      <td>60 years 07 months</td>\n",
       "      <td>250000.0</td>\n",
       "    </tr>\n",
       "  </tbody>\n",
       "</table>\n",
       "</div>"
      ],
      "text/plain": [
       "     month        town flat_type block        street_name storey_range  \\\n",
       "0  2017-01  ANG MO KIO    2 ROOM   406  ANG MO KIO AVE 10     10 TO 12   \n",
       "1  2017-01  ANG MO KIO    3 ROOM   108   ANG MO KIO AVE 4     01 TO 03   \n",
       "\n",
       "   floor_area_sqm      flat_model  lease_commence_date     remaining_lease  \\\n",
       "0            44.0        Improved                 1979  61 years 04 months   \n",
       "1            67.0  New Generation                 1978  60 years 07 months   \n",
       "\n",
       "   resale_price  \n",
       "0      232000.0  \n",
       "1      250000.0  "
      ]
     },
     "execution_count": 9,
     "metadata": {},
     "output_type": "execute_result"
    }
   ],
   "source": [
    "df2.head(2)"
   ]
  },
  {
   "cell_type": "code",
   "execution_count": 10,
   "metadata": {},
   "outputs": [],
   "source": [
    "# Conduct preliminary processing, aka the usual ones done in the earlier helper volumes\n",
    "df2.columns = map(str.upper, df2.columns)"
   ]
  },
  {
   "cell_type": "code",
   "execution_count": 11,
   "metadata": {},
   "outputs": [
    {
     "data": {
      "text/plain": [
       "Index(['MONTH', 'TOWN', 'FLAT_TYPE', 'BLOCK', 'STREET_NAME', 'STOREY_RANGE',\n",
       "       'FLOOR_AREA_SQM', 'FLAT_MODEL', 'LEASE_COMMENCE_DATE',\n",
       "       'REMAINING_LEASE', 'RESALE_PRICE'],\n",
       "      dtype='object')"
      ]
     },
     "execution_count": 11,
     "metadata": {},
     "output_type": "execute_result"
    }
   ],
   "source": [
    "df2.columns"
   ]
  },
  {
   "cell_type": "markdown",
   "metadata": {},
   "source": [
    "### <a id = \"VOL4_feat_select\"> Feature Selection </a>  \n",
    "\n",
    "This step is not heavily discussed, but makes sense. In machine learning and in life, we deal with noise all the time. Only a few signals matter and its important to tune out the noise. For datasets that have many columns, choosing the relevant ones to build the model will improve your model by a great extent. Your model will assume all features being provided *are* important.\n",
    "\n",
    "We know that from experience (or domain knowledge), only a few things matter to prices of resale transactions. For example, the floor level, location (e.g. Tengah or Bishan), size (2/3/4/5 room), remaining lease (94 years vs 60 years). In our HDB dataset, there are other columns like block, street_name. While we inherently know that these likely don't matter (unless your block has the number 8), we need a definitive way to conclude that such variables are not relevant in say predicting housing prices.  "
   ]
  },
  {
   "cell_type": "markdown",
   "metadata": {},
   "source": [
    "#### What's the point of removing them? Just let the model figure it out?  \n",
    "As above, using irrelevant variables only introduces noise in your model. More columns = longer time to train/build the model. Even then, results are often unsatistfactory (as it includes irrelevant data). The best case is that all columns are processed to some integer or float value (i.e. decimal places). However, as described in the slides, numbers imply a certain ranking/order (more on this in a later section).  \n",
    "\n",
    "Can / should we imply a ranking/order for the block number of the flat being sold? Is block number 999 > 888? I don't think so.  \n",
    "\n",
    "Ideally, we will perform feature engineering + selection concurrently as some of the methods used to determine statistical relevance works best on processed data (i.e. data fit for ML models)."
   ]
  },
  {
   "cell_type": "markdown",
   "metadata": {},
   "source": [
    "Let's take a look at the columns individually.  \n",
    "\n",
    "- __MONTH (20XX-YY)__: How will feeding this into the ML model be useful? What do we want to achieve? Most ML classification/regression models deal with the problem statement __\"predicting Y from X at point in time\".__ On the other hand, forecasting's problem statement can be approximated to __\"predicting future data from time series X over time\"__.  \n",
    "\n",
    "For the purpose of this exercise, we can assume (*very big assumption*) that the entire dataset of resale transactions took place at a point in time. Otherwise, we would have to treat it like a time-series dataset which is quite complicated and often not the use case for DOS.  \n",
    "\n",
    "- __TOWN (character/string)__: These are the values corresponding to the town that the resale transaction took place in. There are a few ways we can approach this: 1) To build individual models for each town (aka Punggol, Jurong, Boon Lay). This assumes that the resale prices across towns exhibit a different characteristic. 2) To code these towns into broader terms such as Outside Central Region (OCR), Core Central Region (CCR) and Rest of Central Region (RCR). 3) To apply one-hot encoding to the TOWN column, thereby splitting the column into 26 columns.  \n",
    "\n",
    "Based on the current housing trend + news reports, we can probably tell that there have been a large demand flow shifting from CCR and RCR towards the suburban areas. This is probably best reflected in the resale housing index (mainly OCR regions), which has been on a steady uptrend since COVID. Furthermore, you can also deduce that housing prices between neighboorhood towns like Yishun vs Punggol (i.e. digital hub) will be different. What's the best approach here? My recommendation is to try all 3 and then compare the performance of each. This will show that you've done your analysis and background work too!  \n",
    "\n",
    "We can start by processing these 2 columns first."
   ]
  },
  {
   "cell_type": "code",
   "execution_count": 12,
   "metadata": {},
   "outputs": [],
   "source": [
    "# Remove month column \n",
    "df2 = df2.drop(columns = \"MONTH\")  \n",
    "\n",
    "# TOWN processing will be done last because \n",
    "# it requires more code to iterate over 3 datasets to process other columns."
   ]
  },
  {
   "cell_type": "code",
   "execution_count": 13,
   "metadata": {},
   "outputs": [
    {
     "data": {
      "text/plain": [
       "array(['2 ROOM', '3 ROOM', '4 ROOM', '5 ROOM', 'EXECUTIVE', '1 ROOM',\n",
       "       'MULTI-GENERATION'], dtype=object)"
      ]
     },
     "execution_count": 13,
     "metadata": {},
     "output_type": "execute_result"
    }
   ],
   "source": [
    "df2[\"FLAT_TYPE\"].unique()"
   ]
  },
  {
   "cell_type": "markdown",
   "metadata": {},
   "source": [
    "- __FLAT_TYPE (Character/String)__: This column is straightforward. Generally speaking, holding psf constant, Multi-generation flats are larger than Executive flats. Executive > 5 room > 4 Room > 3 Room > 2 Room > 1 Room. There is a clear order for this column, and so it makes sense to convert it to a number where the model knows that larger numbers (i.e. FLAT_TYPE) are 'correlated' with higher prices."
   ]
  },
  {
   "cell_type": "code",
   "execution_count": 14,
   "metadata": {},
   "outputs": [],
   "source": [
    "# 2 methods below that produces the same result\n",
    "from sklearn import preprocessing"
   ]
  },
  {
   "cell_type": "code",
   "execution_count": 15,
   "metadata": {},
   "outputs": [],
   "source": [
    "# Ranking is set out here. 1 room is given a 'score' of 0, and multi-gen has the highest score: 5\n",
    "ranking = [\"1 ROOM\", \"2 ROOM\", \"3 ROOM\", \"4 ROOM\", \"5 ROOM\", \"EXECUTIVE\", \"MULTI-GENERATION\"]\n",
    "score = [x for x in range(len(ranking))]\n",
    "flat_dict = {k:v for k, v in zip(ranking, score)}\n",
    "\n",
    "df3 = df2.copy()\n",
    "#df3[\"FLAT_TYPE\"] = df3[\"FLAT_TYPE\"].replace(flat_dict)"
   ]
  },
  {
   "cell_type": "code",
   "execution_count": 16,
   "metadata": {},
   "outputs": [
    {
     "data": {
      "text/plain": [
       "True"
      ]
     },
     "execution_count": 16,
     "metadata": {},
     "output_type": "execute_result"
    }
   ],
   "source": [
    "test = list(df3[\"FLAT_TYPE\"].replace(flat_dict))\n",
    "\n",
    "# Label Encoder is a 2 step process.\n",
    "# First, create the LabelEncoder object.\n",
    "label_enc = preprocessing.LabelEncoder()\n",
    "\n",
    "# Next, fit the ranking to the label. It will parse the elements into scores based on element order.\n",
    "# 1 ROOM = 0, 2 ROOM = 1\n",
    "# transform will convert the dataset from the 1 Room labels into integers 0 - n\n",
    "test2 = list(label_enc.fit(ranking).transform(list(df3[\"FLAT_TYPE\"])))\n",
    "\n",
    "# Compare equality. True\n",
    "test == test2\n",
    "#df2[\"FLAT_TYPE\"].replace(flat_dict)"
   ]
  },
  {
   "cell_type": "code",
   "execution_count": 17,
   "metadata": {},
   "outputs": [],
   "source": [
    "df3[\"FLAT_TYPE\"] = list(label_enc.fit(ranking).transform(list(df3[\"FLAT_TYPE\"])))"
   ]
  },
  {
   "cell_type": "code",
   "execution_count": 18,
   "metadata": {},
   "outputs": [
    {
     "data": {
      "text/html": [
       "<div>\n",
       "<style scoped>\n",
       "    .dataframe tbody tr th:only-of-type {\n",
       "        vertical-align: middle;\n",
       "    }\n",
       "\n",
       "    .dataframe tbody tr th {\n",
       "        vertical-align: top;\n",
       "    }\n",
       "\n",
       "    .dataframe thead th {\n",
       "        text-align: right;\n",
       "    }\n",
       "</style>\n",
       "<table border=\"1\" class=\"dataframe\">\n",
       "  <thead>\n",
       "    <tr style=\"text-align: right;\">\n",
       "      <th></th>\n",
       "      <th>TOWN</th>\n",
       "      <th>FLAT_TYPE</th>\n",
       "      <th>BLOCK</th>\n",
       "      <th>STREET_NAME</th>\n",
       "      <th>STOREY_RANGE</th>\n",
       "      <th>FLOOR_AREA_SQM</th>\n",
       "      <th>FLAT_MODEL</th>\n",
       "      <th>LEASE_COMMENCE_DATE</th>\n",
       "      <th>REMAINING_LEASE</th>\n",
       "      <th>RESALE_PRICE</th>\n",
       "    </tr>\n",
       "  </thead>\n",
       "  <tbody>\n",
       "    <tr>\n",
       "      <th>0</th>\n",
       "      <td>ANG MO KIO</td>\n",
       "      <td>1</td>\n",
       "      <td>406</td>\n",
       "      <td>ANG MO KIO AVE 10</td>\n",
       "      <td>10 TO 12</td>\n",
       "      <td>44.0</td>\n",
       "      <td>Improved</td>\n",
       "      <td>1979</td>\n",
       "      <td>61 years 04 months</td>\n",
       "      <td>232000.0</td>\n",
       "    </tr>\n",
       "    <tr>\n",
       "      <th>1</th>\n",
       "      <td>ANG MO KIO</td>\n",
       "      <td>2</td>\n",
       "      <td>108</td>\n",
       "      <td>ANG MO KIO AVE 4</td>\n",
       "      <td>01 TO 03</td>\n",
       "      <td>67.0</td>\n",
       "      <td>New Generation</td>\n",
       "      <td>1978</td>\n",
       "      <td>60 years 07 months</td>\n",
       "      <td>250000.0</td>\n",
       "    </tr>\n",
       "  </tbody>\n",
       "</table>\n",
       "</div>"
      ],
      "text/plain": [
       "         TOWN  FLAT_TYPE BLOCK        STREET_NAME STOREY_RANGE  \\\n",
       "0  ANG MO KIO          1   406  ANG MO KIO AVE 10     10 TO 12   \n",
       "1  ANG MO KIO          2   108   ANG MO KIO AVE 4     01 TO 03   \n",
       "\n",
       "   FLOOR_AREA_SQM      FLAT_MODEL  LEASE_COMMENCE_DATE     REMAINING_LEASE  \\\n",
       "0            44.0        Improved                 1979  61 years 04 months   \n",
       "1            67.0  New Generation                 1978  60 years 07 months   \n",
       "\n",
       "   RESALE_PRICE  \n",
       "0      232000.0  \n",
       "1      250000.0  "
      ]
     },
     "execution_count": 18,
     "metadata": {},
     "output_type": "execute_result"
    }
   ],
   "source": [
    "df3.head(2) "
   ]
  },
  {
   "cell_type": "markdown",
   "metadata": {},
   "source": [
    "- __BLOCK (Character/String)__: This column is by right an integer column. However, there are new blocks that have block numbers ending with alphabets (e.g. 103A). In any case, for many of these columns there's no real need to test for statistical signficance (i.e. based on chi-squared test and the like). This is because they are already deemed to be irrelevant based on domain knowledge.  \n",
    "\n",
    "- __STREET_NAME (Character/String)__: This column is also quite irrelevant unless you have resources available to mine further for insights. For example, if you could use the BLOCK + STREET_NAME columns to identify the postal code and subsequently the longitude and latitude of the transaction, you are able to derive a particular resale transaction's proximity to the nearest MRT. The distance can be fed into the model to see if it yields better performance.  \n",
    "\n",
    "*If you would like to try, google these 2 terms: OneMAP API by SLA, python implementation of Haversine formula.*  \n",
    " \n",
    "For this project, we assume these 2 columns are irrelevant and will remove them."
   ]
  },
  {
   "cell_type": "code",
   "execution_count": 19,
   "metadata": {},
   "outputs": [],
   "source": [
    "df3 = df3.drop(columns = [\"BLOCK\", \"STREET_NAME\"])"
   ]
  },
  {
   "cell_type": "code",
   "execution_count": 20,
   "metadata": {},
   "outputs": [
    {
     "data": {
      "text/html": [
       "<div>\n",
       "<style scoped>\n",
       "    .dataframe tbody tr th:only-of-type {\n",
       "        vertical-align: middle;\n",
       "    }\n",
       "\n",
       "    .dataframe tbody tr th {\n",
       "        vertical-align: top;\n",
       "    }\n",
       "\n",
       "    .dataframe thead th {\n",
       "        text-align: right;\n",
       "    }\n",
       "</style>\n",
       "<table border=\"1\" class=\"dataframe\">\n",
       "  <thead>\n",
       "    <tr style=\"text-align: right;\">\n",
       "      <th></th>\n",
       "      <th>TOWN</th>\n",
       "      <th>FLAT_TYPE</th>\n",
       "      <th>STOREY_RANGE</th>\n",
       "      <th>FLOOR_AREA_SQM</th>\n",
       "      <th>FLAT_MODEL</th>\n",
       "      <th>LEASE_COMMENCE_DATE</th>\n",
       "      <th>REMAINING_LEASE</th>\n",
       "      <th>RESALE_PRICE</th>\n",
       "    </tr>\n",
       "  </thead>\n",
       "  <tbody>\n",
       "    <tr>\n",
       "      <th>0</th>\n",
       "      <td>ANG MO KIO</td>\n",
       "      <td>1</td>\n",
       "      <td>10 TO 12</td>\n",
       "      <td>44.0</td>\n",
       "      <td>Improved</td>\n",
       "      <td>1979</td>\n",
       "      <td>61 years 04 months</td>\n",
       "      <td>232000.0</td>\n",
       "    </tr>\n",
       "    <tr>\n",
       "      <th>1</th>\n",
       "      <td>ANG MO KIO</td>\n",
       "      <td>2</td>\n",
       "      <td>01 TO 03</td>\n",
       "      <td>67.0</td>\n",
       "      <td>New Generation</td>\n",
       "      <td>1978</td>\n",
       "      <td>60 years 07 months</td>\n",
       "      <td>250000.0</td>\n",
       "    </tr>\n",
       "  </tbody>\n",
       "</table>\n",
       "</div>"
      ],
      "text/plain": [
       "         TOWN  FLAT_TYPE STOREY_RANGE  FLOOR_AREA_SQM      FLAT_MODEL  \\\n",
       "0  ANG MO KIO          1     10 TO 12            44.0        Improved   \n",
       "1  ANG MO KIO          2     01 TO 03            67.0  New Generation   \n",
       "\n",
       "   LEASE_COMMENCE_DATE     REMAINING_LEASE  RESALE_PRICE  \n",
       "0                 1979  61 years 04 months      232000.0  \n",
       "1                 1978  60 years 07 months      250000.0  "
      ]
     },
     "execution_count": 20,
     "metadata": {},
     "output_type": "execute_result"
    }
   ],
   "source": [
    "df3.head(2)"
   ]
  },
  {
   "cell_type": "markdown",
   "metadata": {},
   "source": [
    "- __STOREY_RANGE (Character/String)__: This column tells you the floor on which the resale flat is sold. For simplicity, as they are in range of 3 floors (01 TO 03), we can simply take the middle floor. Since floor numbers are integer, we have already implicitly imply that this column is ranked and higher floors generally have a higher resale price (as they usually do)."
   ]
  },
  {
   "cell_type": "code",
   "execution_count": 21,
   "metadata": {},
   "outputs": [],
   "source": [
    "def get_mid(floors, mysplit = \" TO \"):\n",
    "    return int((int(floors.split(mysplit)[0]) + int(floors.split(mysplit)[1]))/2)\n",
    "\n",
    "df3[\"STOREY_RANGE\"] = df3[\"STOREY_RANGE\"].apply(get_mid)"
   ]
  },
  {
   "cell_type": "code",
   "execution_count": 22,
   "metadata": {},
   "outputs": [
    {
     "data": {
      "text/plain": [
       "array([11,  2,  5,  8, 14, 20, 23, 17, 35, 29, 38, 50, 26, 41, 32, 47, 44],\n",
       "      dtype=int64)"
      ]
     },
     "execution_count": 22,
     "metadata": {},
     "output_type": "execute_result"
    }
   ],
   "source": [
    "# Levels 2 to 50, by 3\n",
    "df3[\"STOREY_RANGE\"].unique()"
   ]
  },
  {
   "cell_type": "code",
   "execution_count": 23,
   "metadata": {},
   "outputs": [
    {
     "data": {
      "text/html": [
       "<div>\n",
       "<style scoped>\n",
       "    .dataframe tbody tr th:only-of-type {\n",
       "        vertical-align: middle;\n",
       "    }\n",
       "\n",
       "    .dataframe tbody tr th {\n",
       "        vertical-align: top;\n",
       "    }\n",
       "\n",
       "    .dataframe thead th {\n",
       "        text-align: right;\n",
       "    }\n",
       "</style>\n",
       "<table border=\"1\" class=\"dataframe\">\n",
       "  <thead>\n",
       "    <tr style=\"text-align: right;\">\n",
       "      <th></th>\n",
       "      <th>TOWN</th>\n",
       "      <th>FLAT_TYPE</th>\n",
       "      <th>STOREY_RANGE</th>\n",
       "      <th>FLOOR_AREA_SQM</th>\n",
       "      <th>FLAT_MODEL</th>\n",
       "      <th>LEASE_COMMENCE_DATE</th>\n",
       "      <th>REMAINING_LEASE</th>\n",
       "      <th>RESALE_PRICE</th>\n",
       "    </tr>\n",
       "  </thead>\n",
       "  <tbody>\n",
       "    <tr>\n",
       "      <th>0</th>\n",
       "      <td>ANG MO KIO</td>\n",
       "      <td>1</td>\n",
       "      <td>11</td>\n",
       "      <td>44.0</td>\n",
       "      <td>Improved</td>\n",
       "      <td>1979</td>\n",
       "      <td>61 years 04 months</td>\n",
       "      <td>232000.0</td>\n",
       "    </tr>\n",
       "    <tr>\n",
       "      <th>1</th>\n",
       "      <td>ANG MO KIO</td>\n",
       "      <td>2</td>\n",
       "      <td>2</td>\n",
       "      <td>67.0</td>\n",
       "      <td>New Generation</td>\n",
       "      <td>1978</td>\n",
       "      <td>60 years 07 months</td>\n",
       "      <td>250000.0</td>\n",
       "    </tr>\n",
       "  </tbody>\n",
       "</table>\n",
       "</div>"
      ],
      "text/plain": [
       "         TOWN  FLAT_TYPE  STOREY_RANGE  FLOOR_AREA_SQM      FLAT_MODEL  \\\n",
       "0  ANG MO KIO          1            11            44.0        Improved   \n",
       "1  ANG MO KIO          2             2            67.0  New Generation   \n",
       "\n",
       "   LEASE_COMMENCE_DATE     REMAINING_LEASE  RESALE_PRICE  \n",
       "0                 1979  61 years 04 months      232000.0  \n",
       "1                 1978  60 years 07 months      250000.0  "
      ]
     },
     "execution_count": 23,
     "metadata": {},
     "output_type": "execute_result"
    }
   ],
   "source": [
    "df3.head(2)"
   ]
  },
  {
   "cell_type": "markdown",
   "metadata": {},
   "source": [
    "- __FLOOR_AREA_SQM (Float)__: This column is self explanatory. No processing is needed.\n",
    "\n",
    "- __FLAT_MODEL (Character/String)__: This column lists the different kind of models for each type of flat. There are quite a few models over the years, and documentation on such models are sparse. Again, we can choose to remove it entirely, but based on the terms like \"Premium Apartment Loft\" or \"Adjoined flat\" or \"Premium Maisonette\", I think there may be some causal effect with flat models and resale prices. However, unless there's clear documentation on the kinds of models, we should think twice about using label encoding to rank the different models. The last option would therefore be to implement one-hot encoding.  \n",
    "\n",
    "There is a tradeoff regarding the size of the final dataset. The dataset has about 110k rows. To create another 19 columns may adversely impact your project processes. Below I will provide examples on how to perform one-hot encoding via one-liners. For this project, we will not use one-hot encoding on the FLAT_MODEL column. As such, we will remove it."
   ]
  },
  {
   "cell_type": "code",
   "execution_count": 24,
   "metadata": {},
   "outputs": [
    {
     "data": {
      "text/plain": [
       "Model A                   37626\n",
       "Improved                  28655\n",
       "New Generation            14856\n",
       "Premium Apartment         13128\n",
       "Apartment                  4609\n",
       "Simplified                 4507\n",
       "Maisonette                 3463\n",
       "Standard                   3252\n",
       "DBSS                       2176\n",
       "Model A2                   1359\n",
       "Adjoined flat               217\n",
       "Type S1                     207\n",
       "Model A-Maisonette          205\n",
       "Type S2                     118\n",
       "Terrace                      72\n",
       "Premium Apartment Loft       72\n",
       "Multi Generation             58\n",
       "Improved-Maisonette          18\n",
       "2-room                       14\n",
       "Premium Maisonette           11\n",
       "Name: FLAT_MODEL, dtype: int64"
      ]
     },
     "execution_count": 24,
     "metadata": {},
     "output_type": "execute_result"
    }
   ],
   "source": [
    "df3[\"FLAT_MODEL\"].value_counts()"
   ]
  },
  {
   "cell_type": "code",
   "execution_count": 31,
   "metadata": {},
   "outputs": [
    {
     "name": "stdout",
     "output_type": "stream",
     "text": [
      "[[0. 0. 0. 0. 1. 0. 0. 0. 0. 0. 0. 0. 0. 0. 0. 0. 0. 0. 0. 0.]\n",
      " [0. 0. 0. 0. 0. 0. 0. 0. 0. 0. 0. 1. 0. 0. 0. 0. 0. 0. 0. 0.]\n",
      " [0. 0. 0. 0. 0. 0. 0. 0. 0. 0. 0. 1. 0. 0. 0. 0. 0. 0. 0. 0.]\n",
      " [0. 0. 0. 0. 0. 0. 0. 0. 0. 0. 0. 1. 0. 0. 0. 0. 0. 0. 0. 0.]\n",
      " [0. 0. 0. 0. 0. 0. 0. 0. 0. 0. 0. 1. 0. 0. 0. 0. 0. 0. 0. 0.]]\n"
     ]
    }
   ],
   "source": [
    "# Method 0\n",
    "oh_enc = preprocessing.OneHotEncoder()\n",
    "\n",
    "# Will only be done on first 100 rows. Otherwise will be slow.\n",
    "# Of course, if there are more rows, there will be more elements in each array (due to different values)\n",
    "# These can be converted to columns (i.e. 1st column = 1st element of each array)\n",
    "test = oh_enc.fit_transform(df3[[\"FLAT_MODEL\"]]).toarray()\n",
    "print(test[0:5])"
   ]
  },
  {
   "cell_type": "code",
   "execution_count": 32,
   "metadata": {},
   "outputs": [
    {
     "name": "stdout",
     "output_type": "stream",
     "text": [
      "<class 'pandas.core.frame.DataFrame'>\n",
      "RangeIndex: 114623 entries, 0 to 114622\n",
      "Data columns (total 20 columns):\n",
      "2-room                    114623 non-null uint8\n",
      "Adjoined flat             114623 non-null uint8\n",
      "Apartment                 114623 non-null uint8\n",
      "DBSS                      114623 non-null uint8\n",
      "Improved                  114623 non-null uint8\n",
      "Improved-Maisonette       114623 non-null uint8\n",
      "Maisonette                114623 non-null uint8\n",
      "Model A                   114623 non-null uint8\n",
      "Model A-Maisonette        114623 non-null uint8\n",
      "Model A2                  114623 non-null uint8\n",
      "Multi Generation          114623 non-null uint8\n",
      "New Generation            114623 non-null uint8\n",
      "Premium Apartment         114623 non-null uint8\n",
      "Premium Apartment Loft    114623 non-null uint8\n",
      "Premium Maisonette        114623 non-null uint8\n",
      "Simplified                114623 non-null uint8\n",
      "Standard                  114623 non-null uint8\n",
      "Terrace                   114623 non-null uint8\n",
      "Type S1                   114623 non-null uint8\n",
      "Type S2                   114623 non-null uint8\n",
      "dtypes: uint8(20)\n",
      "memory usage: 2.2 MB\n"
     ]
    }
   ],
   "source": [
    "# Method 1 - outputs 20 columns\n",
    "# This is simpler to use. However, do note the larger the dataset, the longer it takes to process.\n",
    "# pd.get_dummies is the method to use. \n",
    "pd.get_dummies(df3[\"FLAT_MODEL\"]).info()"
   ]
  },
  {
   "cell_type": "code",
   "execution_count": 52,
   "metadata": {},
   "outputs": [
    {
     "data": {
      "text/html": [
       "<div>\n",
       "<style scoped>\n",
       "    .dataframe tbody tr th:only-of-type {\n",
       "        vertical-align: middle;\n",
       "    }\n",
       "\n",
       "    .dataframe tbody tr th {\n",
       "        vertical-align: top;\n",
       "    }\n",
       "\n",
       "    .dataframe thead th {\n",
       "        text-align: right;\n",
       "    }\n",
       "</style>\n",
       "<table border=\"1\" class=\"dataframe\">\n",
       "  <thead>\n",
       "    <tr style=\"text-align: right;\">\n",
       "      <th></th>\n",
       "      <th>TOWN</th>\n",
       "      <th>FLAT_TYPE</th>\n",
       "      <th>STOREY_RANGE</th>\n",
       "      <th>FLOOR_AREA_SQM</th>\n",
       "      <th>LEASE_COMMENCE_DATE</th>\n",
       "      <th>REMAINING_LEASE</th>\n",
       "      <th>RESALE_PRICE</th>\n",
       "    </tr>\n",
       "  </thead>\n",
       "  <tbody>\n",
       "    <tr>\n",
       "      <th>0</th>\n",
       "      <td>ANG MO KIO</td>\n",
       "      <td>1</td>\n",
       "      <td>11</td>\n",
       "      <td>44.0</td>\n",
       "      <td>1979</td>\n",
       "      <td>61 years 04 months</td>\n",
       "      <td>232000.0</td>\n",
       "    </tr>\n",
       "    <tr>\n",
       "      <th>1</th>\n",
       "      <td>ANG MO KIO</td>\n",
       "      <td>2</td>\n",
       "      <td>2</td>\n",
       "      <td>67.0</td>\n",
       "      <td>1978</td>\n",
       "      <td>60 years 07 months</td>\n",
       "      <td>250000.0</td>\n",
       "    </tr>\n",
       "    <tr>\n",
       "      <th>2</th>\n",
       "      <td>ANG MO KIO</td>\n",
       "      <td>2</td>\n",
       "      <td>2</td>\n",
       "      <td>67.0</td>\n",
       "      <td>1980</td>\n",
       "      <td>62 years 05 months</td>\n",
       "      <td>262000.0</td>\n",
       "    </tr>\n",
       "    <tr>\n",
       "      <th>3</th>\n",
       "      <td>ANG MO KIO</td>\n",
       "      <td>2</td>\n",
       "      <td>5</td>\n",
       "      <td>68.0</td>\n",
       "      <td>1980</td>\n",
       "      <td>62 years 01 month</td>\n",
       "      <td>265000.0</td>\n",
       "    </tr>\n",
       "    <tr>\n",
       "      <th>4</th>\n",
       "      <td>ANG MO KIO</td>\n",
       "      <td>2</td>\n",
       "      <td>2</td>\n",
       "      <td>67.0</td>\n",
       "      <td>1980</td>\n",
       "      <td>62 years 05 months</td>\n",
       "      <td>265000.0</td>\n",
       "    </tr>\n",
       "  </tbody>\n",
       "</table>\n",
       "</div>"
      ],
      "text/plain": [
       "         TOWN  FLAT_TYPE  STOREY_RANGE  FLOOR_AREA_SQM  LEASE_COMMENCE_DATE  \\\n",
       "0  ANG MO KIO          1            11            44.0                 1979   \n",
       "1  ANG MO KIO          2             2            67.0                 1978   \n",
       "2  ANG MO KIO          2             2            67.0                 1980   \n",
       "3  ANG MO KIO          2             5            68.0                 1980   \n",
       "4  ANG MO KIO          2             2            67.0                 1980   \n",
       "\n",
       "      REMAINING_LEASE  RESALE_PRICE  \n",
       "0  61 years 04 months      232000.0  \n",
       "1  60 years 07 months      250000.0  \n",
       "2  62 years 05 months      262000.0  \n",
       "3   62 years 01 month      265000.0  \n",
       "4  62 years 05 months      265000.0  "
      ]
     },
     "execution_count": 52,
     "metadata": {},
     "output_type": "execute_result"
    }
   ],
   "source": [
    "# As mentioned, due to its messiness and unclear ordering, we will remove it.\n",
    "# You can always reinstate it and do one-hot or label encoding when you are able to figure out the ranking.\n",
    "df4 = df3.drop(columns = \"FLAT_MODEL\")\n",
    "df4.head()"
   ]
  },
  {
   "cell_type": "markdown",
   "metadata": {},
   "source": [
    "- __LEASE_COMMENCE_DATE (Integer)__: This column and the REMAINING_LEASE columns are similar/the same in that from these columns you can derive the remaining lease of the flat. The latter column of course is more detailed because it provides month in addition to years. Let's say we decide to use REMAINING_LEASE. How do we code it for the model?  \n",
    "\n",
    "There are many ways to deal with this. I will my thoughts here but I'm sure there are more methods to make it a suitable column to feed into our ML models. 1) Converting years and months into total months. 2) Using decimal places to denote month (61.0875 for 61 years 1 months). 3) Just using years as an approximation.  \n",
    "\n",
    "For this example, I will use total months (option 1)."
   ]
  },
  {
   "cell_type": "code",
   "execution_count": 57,
   "metadata": {},
   "outputs": [],
   "source": [
    "# There are some in remaining lease without months (i.e. 63 years)\n",
    "lease = list(df4[\"REMAINING_LEASE\"])\n",
    "\n",
    "tot_list = []\n",
    "for mth in lease:\n",
    "    if \"month\" in mth:\n",
    "        mths = int(mth.split(\" years \")[0]) * 12\n",
    "        yrmth = int(mth.split(\" years \")[1].split(\" month\")[0])\n",
    "        \n",
    "        tot_list.append(mths + yrmth)\n",
    "    else:\n",
    "        tot_mths = int(mth.split(\" years\")[0]) * 12\n",
    "        tot_list.append(tot_mths)        \n",
    "\n",
    "df4[\"MTH_LEFT\"] = tot_list"
   ]
  },
  {
   "cell_type": "code",
   "execution_count": 62,
   "metadata": {},
   "outputs": [
    {
     "data": {
      "text/html": [
       "<div>\n",
       "<style scoped>\n",
       "    .dataframe tbody tr th:only-of-type {\n",
       "        vertical-align: middle;\n",
       "    }\n",
       "\n",
       "    .dataframe tbody tr th {\n",
       "        vertical-align: top;\n",
       "    }\n",
       "\n",
       "    .dataframe thead th {\n",
       "        text-align: right;\n",
       "    }\n",
       "</style>\n",
       "<table border=\"1\" class=\"dataframe\">\n",
       "  <thead>\n",
       "    <tr style=\"text-align: right;\">\n",
       "      <th></th>\n",
       "      <th>TOWN</th>\n",
       "      <th>FLAT_TYPE</th>\n",
       "      <th>STOREY_RANGE</th>\n",
       "      <th>FLOOR_AREA_SQM</th>\n",
       "      <th>LEASE_COMMENCE_DATE</th>\n",
       "      <th>REMAINING_LEASE</th>\n",
       "      <th>RESALE_PRICE</th>\n",
       "      <th>MTH_LEFT</th>\n",
       "    </tr>\n",
       "  </thead>\n",
       "  <tbody>\n",
       "    <tr>\n",
       "      <th>0</th>\n",
       "      <td>ANG MO KIO</td>\n",
       "      <td>1</td>\n",
       "      <td>11</td>\n",
       "      <td>44.0</td>\n",
       "      <td>1979</td>\n",
       "      <td>61 years 04 months</td>\n",
       "      <td>232000.0</td>\n",
       "      <td>736</td>\n",
       "    </tr>\n",
       "    <tr>\n",
       "      <th>1</th>\n",
       "      <td>ANG MO KIO</td>\n",
       "      <td>2</td>\n",
       "      <td>2</td>\n",
       "      <td>67.0</td>\n",
       "      <td>1978</td>\n",
       "      <td>60 years 07 months</td>\n",
       "      <td>250000.0</td>\n",
       "      <td>727</td>\n",
       "    </tr>\n",
       "  </tbody>\n",
       "</table>\n",
       "</div>"
      ],
      "text/plain": [
       "         TOWN  FLAT_TYPE  STOREY_RANGE  FLOOR_AREA_SQM  LEASE_COMMENCE_DATE  \\\n",
       "0  ANG MO KIO          1            11            44.0                 1979   \n",
       "1  ANG MO KIO          2             2            67.0                 1978   \n",
       "\n",
       "      REMAINING_LEASE  RESALE_PRICE  MTH_LEFT  \n",
       "0  61 years 04 months      232000.0       736  \n",
       "1  60 years 07 months      250000.0       727  "
      ]
     },
     "execution_count": 62,
     "metadata": {},
     "output_type": "execute_result"
    }
   ],
   "source": [
    "df4.head(2)"
   ]
  },
  {
   "cell_type": "code",
   "execution_count": 63,
   "metadata": {},
   "outputs": [
    {
     "data": {
      "text/html": [
       "<div>\n",
       "<style scoped>\n",
       "    .dataframe tbody tr th:only-of-type {\n",
       "        vertical-align: middle;\n",
       "    }\n",
       "\n",
       "    .dataframe tbody tr th {\n",
       "        vertical-align: top;\n",
       "    }\n",
       "\n",
       "    .dataframe thead th {\n",
       "        text-align: right;\n",
       "    }\n",
       "</style>\n",
       "<table border=\"1\" class=\"dataframe\">\n",
       "  <thead>\n",
       "    <tr style=\"text-align: right;\">\n",
       "      <th></th>\n",
       "      <th>TOWN</th>\n",
       "      <th>FLAT_TYPE</th>\n",
       "      <th>STOREY_RANGE</th>\n",
       "      <th>FLOOR_AREA_SQM</th>\n",
       "      <th>RESALE_PRICE</th>\n",
       "      <th>MTH_LEFT</th>\n",
       "    </tr>\n",
       "  </thead>\n",
       "  <tbody>\n",
       "    <tr>\n",
       "      <th>0</th>\n",
       "      <td>ANG MO KIO</td>\n",
       "      <td>1</td>\n",
       "      <td>11</td>\n",
       "      <td>44.0</td>\n",
       "      <td>232000.0</td>\n",
       "      <td>736</td>\n",
       "    </tr>\n",
       "    <tr>\n",
       "      <th>1</th>\n",
       "      <td>ANG MO KIO</td>\n",
       "      <td>2</td>\n",
       "      <td>2</td>\n",
       "      <td>67.0</td>\n",
       "      <td>250000.0</td>\n",
       "      <td>727</td>\n",
       "    </tr>\n",
       "  </tbody>\n",
       "</table>\n",
       "</div>"
      ],
      "text/plain": [
       "         TOWN  FLAT_TYPE  STOREY_RANGE  FLOOR_AREA_SQM  RESALE_PRICE  MTH_LEFT\n",
       "0  ANG MO KIO          1            11            44.0      232000.0       736\n",
       "1  ANG MO KIO          2             2            67.0      250000.0       727"
      ]
     },
     "execution_count": 63,
     "metadata": {},
     "output_type": "execute_result"
    }
   ],
   "source": [
    "# These columns are not necessary anymore.\n",
    "df5 = df4.drop(columns = [\"LEASE_COMMENCE_DATE\", \"REMAINING_LEASE\"])\n",
    "df5.head(2)"
   ]
  },
  {
   "cell_type": "markdown",
   "metadata": {},
   "source": [
    "The dataset seems smaller now, but for good reason. Many of the columns were in fact noise (i.e. block) and we made further assumptions to treat it as a congruent data (even though it exhibits certain time-series characteristics). Nevertheless, we have now finished with bulk of the feature engineering/selection. The steps can be done concurrently, though it depends on your dataset and your project flow.  \n",
    "\n",
    "Recall that we still have TOWN as a variable but in character form. We need to encode it or to split it by towns or regions. In addition, while not explicitly mentioned, you should also think about the potential of merging this dataset with others to try and better predict housing prices. Will a dataset containing whether or not the unit has defects or not be useful?"
   ]
  },
  {
   "cell_type": "code",
   "execution_count": null,
   "metadata": {},
   "outputs": [],
   "source": []
  },
  {
   "cell_type": "code",
   "execution_count": 74,
   "metadata": {},
   "outputs": [
    {
     "data": {
      "text/plain": [
       "<matplotlib.axes._subplots.AxesSubplot at 0x1a7c09e5198>"
      ]
     },
     "execution_count": 74,
     "metadata": {},
     "output_type": "execute_result"
    },
    {
     "data": {
      "image/png": "[encoded data removed]",
      "text/plain": [
       "<Figure size 432x288 with 2 Axes>"
      ]
     },
     "metadata": {
      "needs_background": "light"
     },
     "output_type": "display_data"
    }
   ],
   "source": [
    "# A simple checkpoint and visualisation.\n",
    "# What are some insights you see here?\n",
    "# How much of the insights are due to the assumptions we made above?\n",
    "import seaborn as sns\n",
    "\n",
    "df5_test = df5.loc[df5[\"TOWN\"] == \"SENGKANG\", [\"RESALE_PRICE\", \"FLAT_TYPE\", \"STOREY_RANGE\", \"FLOOR_AREA_SQM\", \"MTH_LEFT\"]]\n",
    "\n",
    "sns.heatmap(df5_test.corr())"
   ]
  },
  {
   "cell_type": "code",
   "execution_count": 64,
   "metadata": {},
   "outputs": [],
   "source": [
    "from sklearn.feature_selection import SelectKBest, chi2"
   ]
  },
  {
   "cell_type": "code",
   "execution_count": 67,
   "metadata": {},
   "outputs": [],
   "source": [
    "y = list(df5[\"RESALE_PRICE\"])\n",
    "X = df5[[\"FLAT_TYPE\", \"STOREY_RANGE\", \"FLOOR_AREA_SQM\", \"MTH_LEFT\"]]"
   ]
  },
  {
   "cell_type": "code",
   "execution_count": 68,
   "metadata": {},
   "outputs": [
    {
     "ename": "ValueError",
     "evalue": "Unknown label type: (array([232000., 250000., 262000., ..., 838000., 860000., 760000.]),)",
     "output_type": "error",
     "traceback": [
      "\u001b[1;31m---------------------------------------------------------------------------\u001b[0m",
      "\u001b[1;31mValueError\u001b[0m                                Traceback (most recent call last)",
      "\u001b[1;32m<ipython-input-68-52b845336ef1>\u001b[0m in \u001b[0;36m<module>\u001b[1;34m\u001b[0m\n\u001b[0;32m      1\u001b[0m \u001b[0mbestfeat\u001b[0m \u001b[1;33m=\u001b[0m \u001b[0mSelectKBest\u001b[0m\u001b[1;33m(\u001b[0m\u001b[0mscore_func\u001b[0m \u001b[1;33m=\u001b[0m \u001b[0mchi2\u001b[0m\u001b[1;33m,\u001b[0m \u001b[0mk\u001b[0m \u001b[1;33m=\u001b[0m \u001b[1;36m3\u001b[0m\u001b[1;33m)\u001b[0m\u001b[1;33m\u001b[0m\u001b[1;33m\u001b[0m\u001b[0m\n\u001b[1;32m----> 2\u001b[1;33m \u001b[0mbestfeat\u001b[0m\u001b[1;33m.\u001b[0m\u001b[0mfit\u001b[0m\u001b[1;33m(\u001b[0m\u001b[0mX\u001b[0m\u001b[1;33m,\u001b[0m \u001b[0my\u001b[0m\u001b[1;33m)\u001b[0m\u001b[1;33m\u001b[0m\u001b[1;33m\u001b[0m\u001b[0m\n\u001b[0m",
      "\u001b[1;32mC:\\Program Files\\Anaconda3\\lib\\site-packages\\sklearn\\feature_selection\\univariate_selection.py\u001b[0m in \u001b[0;36mfit\u001b[1;34m(self, X, y)\u001b[0m\n\u001b[0;32m    347\u001b[0m \u001b[1;33m\u001b[0m\u001b[0m\n\u001b[0;32m    348\u001b[0m         \u001b[0mself\u001b[0m\u001b[1;33m.\u001b[0m\u001b[0m_check_params\u001b[0m\u001b[1;33m(\u001b[0m\u001b[0mX\u001b[0m\u001b[1;33m,\u001b[0m \u001b[0my\u001b[0m\u001b[1;33m)\u001b[0m\u001b[1;33m\u001b[0m\u001b[1;33m\u001b[0m\u001b[0m\n\u001b[1;32m--> 349\u001b[1;33m         \u001b[0mscore_func_ret\u001b[0m \u001b[1;33m=\u001b[0m \u001b[0mself\u001b[0m\u001b[1;33m.\u001b[0m\u001b[0mscore_func\u001b[0m\u001b[1;33m(\u001b[0m\u001b[0mX\u001b[0m\u001b[1;33m,\u001b[0m \u001b[0my\u001b[0m\u001b[1;33m)\u001b[0m\u001b[1;33m\u001b[0m\u001b[1;33m\u001b[0m\u001b[0m\n\u001b[0m\u001b[0;32m    350\u001b[0m         \u001b[1;32mif\u001b[0m \u001b[0misinstance\u001b[0m\u001b[1;33m(\u001b[0m\u001b[0mscore_func_ret\u001b[0m\u001b[1;33m,\u001b[0m \u001b[1;33m(\u001b[0m\u001b[0mlist\u001b[0m\u001b[1;33m,\u001b[0m \u001b[0mtuple\u001b[0m\u001b[1;33m)\u001b[0m\u001b[1;33m)\u001b[0m\u001b[1;33m:\u001b[0m\u001b[1;33m\u001b[0m\u001b[1;33m\u001b[0m\u001b[0m\n\u001b[0;32m    351\u001b[0m             \u001b[0mself\u001b[0m\u001b[1;33m.\u001b[0m\u001b[0mscores_\u001b[0m\u001b[1;33m,\u001b[0m \u001b[0mself\u001b[0m\u001b[1;33m.\u001b[0m\u001b[0mpvalues_\u001b[0m \u001b[1;33m=\u001b[0m \u001b[0mscore_func_ret\u001b[0m\u001b[1;33m\u001b[0m\u001b[1;33m\u001b[0m\u001b[0m\n",
      "\u001b[1;32mC:\\Program Files\\Anaconda3\\lib\\site-packages\\sklearn\\feature_selection\\univariate_selection.py\u001b[0m in \u001b[0;36mchi2\u001b[1;34m(X, y)\u001b[0m\n\u001b[0;32m    216\u001b[0m         \u001b[1;32mraise\u001b[0m \u001b[0mValueError\u001b[0m\u001b[1;33m(\u001b[0m\u001b[1;34m\"Input X must be non-negative.\"\u001b[0m\u001b[1;33m)\u001b[0m\u001b[1;33m\u001b[0m\u001b[1;33m\u001b[0m\u001b[0m\n\u001b[0;32m    217\u001b[0m \u001b[1;33m\u001b[0m\u001b[0m\n\u001b[1;32m--> 218\u001b[1;33m     \u001b[0mY\u001b[0m \u001b[1;33m=\u001b[0m \u001b[0mLabelBinarizer\u001b[0m\u001b[1;33m(\u001b[0m\u001b[1;33m)\u001b[0m\u001b[1;33m.\u001b[0m\u001b[0mfit_transform\u001b[0m\u001b[1;33m(\u001b[0m\u001b[0my\u001b[0m\u001b[1;33m)\u001b[0m\u001b[1;33m\u001b[0m\u001b[1;33m\u001b[0m\u001b[0m\n\u001b[0m\u001b[0;32m    219\u001b[0m     \u001b[1;32mif\u001b[0m \u001b[0mY\u001b[0m\u001b[1;33m.\u001b[0m\u001b[0mshape\u001b[0m\u001b[1;33m[\u001b[0m\u001b[1;36m1\u001b[0m\u001b[1;33m]\u001b[0m \u001b[1;33m==\u001b[0m \u001b[1;36m1\u001b[0m\u001b[1;33m:\u001b[0m\u001b[1;33m\u001b[0m\u001b[1;33m\u001b[0m\u001b[0m\n\u001b[0;32m    220\u001b[0m         \u001b[0mY\u001b[0m \u001b[1;33m=\u001b[0m \u001b[0mnp\u001b[0m\u001b[1;33m.\u001b[0m\u001b[0mappend\u001b[0m\u001b[1;33m(\u001b[0m\u001b[1;36m1\u001b[0m \u001b[1;33m-\u001b[0m \u001b[0mY\u001b[0m\u001b[1;33m,\u001b[0m \u001b[0mY\u001b[0m\u001b[1;33m,\u001b[0m \u001b[0maxis\u001b[0m\u001b[1;33m=\u001b[0m\u001b[1;36m1\u001b[0m\u001b[1;33m)\u001b[0m\u001b[1;33m\u001b[0m\u001b[1;33m\u001b[0m\u001b[0m\n",
      "\u001b[1;32mC:\\Program Files\\Anaconda3\\lib\\site-packages\\sklearn\\preprocessing\\label.py\u001b[0m in \u001b[0;36mfit_transform\u001b[1;34m(self, y)\u001b[0m\n\u001b[0;32m    434\u001b[0m             \u001b[0mShape\u001b[0m \u001b[0mwill\u001b[0m \u001b[0mbe\u001b[0m \u001b[1;33m[\u001b[0m\u001b[0mn_samples\u001b[0m\u001b[1;33m,\u001b[0m \u001b[1;36m1\u001b[0m\u001b[1;33m]\u001b[0m \u001b[1;32mfor\u001b[0m \u001b[0mbinary\u001b[0m \u001b[0mproblems\u001b[0m\u001b[1;33m.\u001b[0m\u001b[1;33m\u001b[0m\u001b[1;33m\u001b[0m\u001b[0m\n\u001b[0;32m    435\u001b[0m         \"\"\"\n\u001b[1;32m--> 436\u001b[1;33m         \u001b[1;32mreturn\u001b[0m \u001b[0mself\u001b[0m\u001b[1;33m.\u001b[0m\u001b[0mfit\u001b[0m\u001b[1;33m(\u001b[0m\u001b[0my\u001b[0m\u001b[1;33m)\u001b[0m\u001b[1;33m.\u001b[0m\u001b[0mtransform\u001b[0m\u001b[1;33m(\u001b[0m\u001b[0my\u001b[0m\u001b[1;33m)\u001b[0m\u001b[1;33m\u001b[0m\u001b[1;33m\u001b[0m\u001b[0m\n\u001b[0m\u001b[0;32m    437\u001b[0m \u001b[1;33m\u001b[0m\u001b[0m\n\u001b[0;32m    438\u001b[0m     \u001b[1;32mdef\u001b[0m \u001b[0mtransform\u001b[0m\u001b[1;33m(\u001b[0m\u001b[0mself\u001b[0m\u001b[1;33m,\u001b[0m \u001b[0my\u001b[0m\u001b[1;33m)\u001b[0m\u001b[1;33m:\u001b[0m\u001b[1;33m\u001b[0m\u001b[1;33m\u001b[0m\u001b[0m\n",
      "\u001b[1;32mC:\\Program Files\\Anaconda3\\lib\\site-packages\\sklearn\\preprocessing\\label.py\u001b[0m in \u001b[0;36mfit\u001b[1;34m(self, y)\u001b[0m\n\u001b[0;32m    411\u001b[0m \u001b[1;33m\u001b[0m\u001b[0m\n\u001b[0;32m    412\u001b[0m         \u001b[0mself\u001b[0m\u001b[1;33m.\u001b[0m\u001b[0msparse_input_\u001b[0m \u001b[1;33m=\u001b[0m \u001b[0msp\u001b[0m\u001b[1;33m.\u001b[0m\u001b[0missparse\u001b[0m\u001b[1;33m(\u001b[0m\u001b[0my\u001b[0m\u001b[1;33m)\u001b[0m\u001b[1;33m\u001b[0m\u001b[1;33m\u001b[0m\u001b[0m\n\u001b[1;32m--> 413\u001b[1;33m         \u001b[0mself\u001b[0m\u001b[1;33m.\u001b[0m\u001b[0mclasses_\u001b[0m \u001b[1;33m=\u001b[0m \u001b[0munique_labels\u001b[0m\u001b[1;33m(\u001b[0m\u001b[0my\u001b[0m\u001b[1;33m)\u001b[0m\u001b[1;33m\u001b[0m\u001b[1;33m\u001b[0m\u001b[0m\n\u001b[0m\u001b[0;32m    414\u001b[0m         \u001b[1;32mreturn\u001b[0m \u001b[0mself\u001b[0m\u001b[1;33m\u001b[0m\u001b[1;33m\u001b[0m\u001b[0m\n\u001b[0;32m    415\u001b[0m \u001b[1;33m\u001b[0m\u001b[0m\n",
      "\u001b[1;32mC:\\Program Files\\Anaconda3\\lib\\site-packages\\sklearn\\utils\\multiclass.py\u001b[0m in \u001b[0;36munique_labels\u001b[1;34m(*ys)\u001b[0m\n\u001b[0;32m     94\u001b[0m     \u001b[0m_unique_labels\u001b[0m \u001b[1;33m=\u001b[0m \u001b[0m_FN_UNIQUE_LABELS\u001b[0m\u001b[1;33m.\u001b[0m\u001b[0mget\u001b[0m\u001b[1;33m(\u001b[0m\u001b[0mlabel_type\u001b[0m\u001b[1;33m,\u001b[0m \u001b[1;32mNone\u001b[0m\u001b[1;33m)\u001b[0m\u001b[1;33m\u001b[0m\u001b[1;33m\u001b[0m\u001b[0m\n\u001b[0;32m     95\u001b[0m     \u001b[1;32mif\u001b[0m \u001b[1;32mnot\u001b[0m \u001b[0m_unique_labels\u001b[0m\u001b[1;33m:\u001b[0m\u001b[1;33m\u001b[0m\u001b[1;33m\u001b[0m\u001b[0m\n\u001b[1;32m---> 96\u001b[1;33m         \u001b[1;32mraise\u001b[0m \u001b[0mValueError\u001b[0m\u001b[1;33m(\u001b[0m\u001b[1;34m\"Unknown label type: %s\"\u001b[0m \u001b[1;33m%\u001b[0m \u001b[0mrepr\u001b[0m\u001b[1;33m(\u001b[0m\u001b[0mys\u001b[0m\u001b[1;33m)\u001b[0m\u001b[1;33m)\u001b[0m\u001b[1;33m\u001b[0m\u001b[1;33m\u001b[0m\u001b[0m\n\u001b[0m\u001b[0;32m     97\u001b[0m \u001b[1;33m\u001b[0m\u001b[0m\n\u001b[0;32m     98\u001b[0m     \u001b[0mys_labels\u001b[0m \u001b[1;33m=\u001b[0m \u001b[0mset\u001b[0m\u001b[1;33m(\u001b[0m\u001b[0mchain\u001b[0m\u001b[1;33m.\u001b[0m\u001b[0mfrom_iterable\u001b[0m\u001b[1;33m(\u001b[0m\u001b[0m_unique_labels\u001b[0m\u001b[1;33m(\u001b[0m\u001b[0my\u001b[0m\u001b[1;33m)\u001b[0m \u001b[1;32mfor\u001b[0m \u001b[0my\u001b[0m \u001b[1;32min\u001b[0m \u001b[0mys\u001b[0m\u001b[1;33m)\u001b[0m\u001b[1;33m)\u001b[0m\u001b[1;33m\u001b[0m\u001b[1;33m\u001b[0m\u001b[0m\n",
      "\u001b[1;31mValueError\u001b[0m: Unknown label type: (array([232000., 250000., 262000., ..., 838000., 860000., 760000.]),)"
     ]
    }
   ],
   "source": [
    "bestfeat = SelectKBest(score_func = chi2, k = 3)\n",
    "bestfeat.fit(X, y)"
   ]
  },
  {
   "cell_type": "markdown",
   "metadata": {},
   "source": [
    "#### Outcome of this project  \n",
    "\n",
    "Before we go into model building, we need to identify what we want to use the model for. To impute missing data? To forecast future data points? To identify overvalue/undervalued flats?  \n",
    "\n",
    "For the purpose of this exercise guide, we can assume that the observations are independent of one another. However, that isn't strictly true. A 2017 Feb resale of the 1 unit in Bishan Street 11 Blk 123 at a price of 580k (example) will likely influence a similar resale in 2017 Jun. Treating this dataset (rightfully) as time-series data will make it more complicated to learn about feature engineering/selection + model building.  \n",
    "\n",
    "Hence, the (very) broad assumption is made that in a given time period (2017-2021), resale transactions are independent of each other. This limits our scope of models to mainly regression-type models."
   ]
  },
  {
   "cell_type": "code",
   "execution_count": 39,
   "metadata": {},
   "outputs": [
    {
     "data": {
      "text/html": [
       "<div>\n",
       "<style scoped>\n",
       "    .dataframe tbody tr th:only-of-type {\n",
       "        vertical-align: middle;\n",
       "    }\n",
       "\n",
       "    .dataframe tbody tr th {\n",
       "        vertical-align: top;\n",
       "    }\n",
       "\n",
       "    .dataframe thead th {\n",
       "        text-align: right;\n",
       "    }\n",
       "</style>\n",
       "<table border=\"1\" class=\"dataframe\">\n",
       "  <thead>\n",
       "    <tr style=\"text-align: right;\">\n",
       "      <th></th>\n",
       "      <th>TOWN</th>\n",
       "      <th>FLAT_TYPE</th>\n",
       "      <th>BLOCK</th>\n",
       "      <th>STREET_NAME</th>\n",
       "      <th>STOREY_RANGE</th>\n",
       "      <th>FLOOR_AREA_SQM</th>\n",
       "      <th>FLAT_MODEL</th>\n",
       "      <th>LEASE_COMMENCE_DATE</th>\n",
       "      <th>REMAINING_LEASE</th>\n",
       "      <th>RESALE_PRICE</th>\n",
       "      <th>YEAR</th>\n",
       "    </tr>\n",
       "  </thead>\n",
       "  <tbody>\n",
       "    <tr>\n",
       "      <th>0</th>\n",
       "      <td>ANG MO KIO</td>\n",
       "      <td>2 ROOM</td>\n",
       "      <td>406</td>\n",
       "      <td>ANG MO KIO AVE 10</td>\n",
       "      <td>10 TO 12</td>\n",
       "      <td>44.0</td>\n",
       "      <td>Improved</td>\n",
       "      <td>1979</td>\n",
       "      <td>61 years 04 months</td>\n",
       "      <td>232000.0</td>\n",
       "      <td>2017</td>\n",
       "    </tr>\n",
       "    <tr>\n",
       "      <th>1</th>\n",
       "      <td>ANG MO KIO</td>\n",
       "      <td>3 ROOM</td>\n",
       "      <td>108</td>\n",
       "      <td>ANG MO KIO AVE 4</td>\n",
       "      <td>01 TO 03</td>\n",
       "      <td>67.0</td>\n",
       "      <td>New Generation</td>\n",
       "      <td>1978</td>\n",
       "      <td>60 years 07 months</td>\n",
       "      <td>250000.0</td>\n",
       "      <td>2017</td>\n",
       "    </tr>\n",
       "  </tbody>\n",
       "</table>\n",
       "</div>"
      ],
      "text/plain": [
       "         TOWN FLAT_TYPE BLOCK        STREET_NAME STOREY_RANGE  FLOOR_AREA_SQM  \\\n",
       "0  ANG MO KIO    2 ROOM   406  ANG MO KIO AVE 10     10 TO 12            44.0   \n",
       "1  ANG MO KIO    3 ROOM   108   ANG MO KIO AVE 4     01 TO 03            67.0   \n",
       "\n",
       "       FLAT_MODEL  LEASE_COMMENCE_DATE     REMAINING_LEASE  RESALE_PRICE  YEAR  \n",
       "0        Improved                 1979  61 years 04 months      232000.0  2017  \n",
       "1  New Generation                 1978  60 years 07 months      250000.0  2017  "
      ]
     },
     "execution_count": 39,
     "metadata": {},
     "output_type": "execute_result"
    }
   ],
   "source": [
    "# We only need the year variable. Month is irrelevant (see assumption)\n",
    "df2[\"YEAR\"] = df2[\"MONTH\"].apply(lambda x: x.split(\"-\")[0])\n",
    "df2 = df2.drop(columns = \"MONTH\")\n",
    "df2.head(2)"
   ]
  },
  {
   "cell_type": "code",
   "execution_count": null,
   "metadata": {},
   "outputs": [],
   "source": []
  },
  {
   "cell_type": "code",
   "execution_count": 38,
   "metadata": {},
   "outputs": [
    {
     "ename": "KeyError",
     "evalue": "'MONTH'",
     "output_type": "error",
     "traceback": [
      "\u001b[1;31m---------------------------------------------------------------------------\u001b[0m",
      "\u001b[1;31mKeyError\u001b[0m                                  Traceback (most recent call last)",
      "\u001b[1;32mC:\\Program Files\\Anaconda3\\lib\\site-packages\\pandas\\core\\indexes\\base.py\u001b[0m in \u001b[0;36mget_loc\u001b[1;34m(self, key, method, tolerance)\u001b[0m\n\u001b[0;32m   2656\u001b[0m             \u001b[1;32mtry\u001b[0m\u001b[1;33m:\u001b[0m\u001b[1;33m\u001b[0m\u001b[1;33m\u001b[0m\u001b[0m\n\u001b[1;32m-> 2657\u001b[1;33m                 \u001b[1;32mreturn\u001b[0m \u001b[0mself\u001b[0m\u001b[1;33m.\u001b[0m\u001b[0m_engine\u001b[0m\u001b[1;33m.\u001b[0m\u001b[0mget_loc\u001b[0m\u001b[1;33m(\u001b[0m\u001b[0mkey\u001b[0m\u001b[1;33m)\u001b[0m\u001b[1;33m\u001b[0m\u001b[1;33m\u001b[0m\u001b[0m\n\u001b[0m\u001b[0;32m   2658\u001b[0m             \u001b[1;32mexcept\u001b[0m \u001b[0mKeyError\u001b[0m\u001b[1;33m:\u001b[0m\u001b[1;33m\u001b[0m\u001b[1;33m\u001b[0m\u001b[0m\n",
      "\u001b[1;32mpandas/_libs/index.pyx\u001b[0m in \u001b[0;36mpandas._libs.index.IndexEngine.get_loc\u001b[1;34m()\u001b[0m\n",
      "\u001b[1;32mpandas/_libs/index.pyx\u001b[0m in \u001b[0;36mpandas._libs.index.IndexEngine.get_loc\u001b[1;34m()\u001b[0m\n",
      "\u001b[1;32mpandas/_libs/hashtable_class_helper.pxi\u001b[0m in \u001b[0;36mpandas._libs.hashtable.PyObjectHashTable.get_item\u001b[1;34m()\u001b[0m\n",
      "\u001b[1;32mpandas/_libs/hashtable_class_helper.pxi\u001b[0m in \u001b[0;36mpandas._libs.hashtable.PyObjectHashTable.get_item\u001b[1;34m()\u001b[0m\n",
      "\u001b[1;31mKeyError\u001b[0m: 'MONTH'",
      "\nDuring handling of the above exception, another exception occurred:\n",
      "\u001b[1;31mKeyError\u001b[0m                                  Traceback (most recent call last)",
      "\u001b[1;32m<ipython-input-38-d85f7675002c>\u001b[0m in \u001b[0;36m<module>\u001b[1;34m\u001b[0m\n\u001b[1;32m----> 1\u001b[1;33m \u001b[0mdf\u001b[0m\u001b[1;33m[\u001b[0m\u001b[1;34m\"MONTH\"\u001b[0m\u001b[1;33m]\u001b[0m\u001b[1;33m.\u001b[0m\u001b[0munique\u001b[0m\u001b[1;33m(\u001b[0m\u001b[1;33m)\u001b[0m\u001b[1;33m\u001b[0m\u001b[1;33m\u001b[0m\u001b[0m\n\u001b[0m\u001b[0;32m      2\u001b[0m \u001b[1;33m\u001b[0m\u001b[0m\n\u001b[0;32m      3\u001b[0m \u001b[0myr_df\u001b[0m \u001b[1;33m=\u001b[0m \u001b[1;33m{\u001b[0m\u001b[1;33m}\u001b[0m\u001b[1;33m\u001b[0m\u001b[1;33m\u001b[0m\u001b[0m\n\u001b[0;32m      4\u001b[0m \u001b[1;32mfor\u001b[0m \u001b[0myr\u001b[0m \u001b[1;32min\u001b[0m \u001b[0mrange\u001b[0m\u001b[1;33m(\u001b[0m\u001b[1;36m2017\u001b[0m\u001b[1;33m,\u001b[0m \u001b[1;36m2022\u001b[0m\u001b[1;33m)\u001b[0m\u001b[1;33m:\u001b[0m\u001b[1;33m\u001b[0m\u001b[1;33m\u001b[0m\u001b[0m\n\u001b[0;32m      5\u001b[0m     \u001b[0myr_df\u001b[0m\u001b[1;33m[\u001b[0m\u001b[0myr\u001b[0m\u001b[1;33m]\u001b[0m \u001b[1;33m=\u001b[0m \u001b[0mdf\u001b[0m\u001b[1;33m.\u001b[0m\u001b[0mloc\u001b[0m\u001b[1;33m[\u001b[0m\u001b[0mdf\u001b[0m\u001b[1;33m[\u001b[0m\u001b[1;34m\"MONTH\"\u001b[0m\u001b[1;33m]\u001b[0m\u001b[1;33m.\u001b[0m\u001b[0mstr\u001b[0m\u001b[1;33m.\u001b[0m\u001b[0mcontains\u001b[0m\u001b[1;33m(\u001b[0m\u001b[0mstr\u001b[0m\u001b[1;33m(\u001b[0m\u001b[0myr\u001b[0m\u001b[1;33m)\u001b[0m\u001b[1;33m)\u001b[0m\u001b[1;33m,\u001b[0m \u001b[1;33m:\u001b[0m\u001b[1;33m]\u001b[0m\u001b[1;33m\u001b[0m\u001b[1;33m\u001b[0m\u001b[0m\n",
      "\u001b[1;32mC:\\Program Files\\Anaconda3\\lib\\site-packages\\pandas\\core\\frame.py\u001b[0m in \u001b[0;36m__getitem__\u001b[1;34m(self, key)\u001b[0m\n\u001b[0;32m   2925\u001b[0m             \u001b[1;32mif\u001b[0m \u001b[0mself\u001b[0m\u001b[1;33m.\u001b[0m\u001b[0mcolumns\u001b[0m\u001b[1;33m.\u001b[0m\u001b[0mnlevels\u001b[0m \u001b[1;33m>\u001b[0m \u001b[1;36m1\u001b[0m\u001b[1;33m:\u001b[0m\u001b[1;33m\u001b[0m\u001b[1;33m\u001b[0m\u001b[0m\n\u001b[0;32m   2926\u001b[0m                 \u001b[1;32mreturn\u001b[0m \u001b[0mself\u001b[0m\u001b[1;33m.\u001b[0m\u001b[0m_getitem_multilevel\u001b[0m\u001b[1;33m(\u001b[0m\u001b[0mkey\u001b[0m\u001b[1;33m)\u001b[0m\u001b[1;33m\u001b[0m\u001b[1;33m\u001b[0m\u001b[0m\n\u001b[1;32m-> 2927\u001b[1;33m             \u001b[0mindexer\u001b[0m \u001b[1;33m=\u001b[0m \u001b[0mself\u001b[0m\u001b[1;33m.\u001b[0m\u001b[0mcolumns\u001b[0m\u001b[1;33m.\u001b[0m\u001b[0mget_loc\u001b[0m\u001b[1;33m(\u001b[0m\u001b[0mkey\u001b[0m\u001b[1;33m)\u001b[0m\u001b[1;33m\u001b[0m\u001b[1;33m\u001b[0m\u001b[0m\n\u001b[0m\u001b[0;32m   2928\u001b[0m             \u001b[1;32mif\u001b[0m \u001b[0mis_integer\u001b[0m\u001b[1;33m(\u001b[0m\u001b[0mindexer\u001b[0m\u001b[1;33m)\u001b[0m\u001b[1;33m:\u001b[0m\u001b[1;33m\u001b[0m\u001b[1;33m\u001b[0m\u001b[0m\n\u001b[0;32m   2929\u001b[0m                 \u001b[0mindexer\u001b[0m \u001b[1;33m=\u001b[0m \u001b[1;33m[\u001b[0m\u001b[0mindexer\u001b[0m\u001b[1;33m]\u001b[0m\u001b[1;33m\u001b[0m\u001b[1;33m\u001b[0m\u001b[0m\n",
      "\u001b[1;32mC:\\Program Files\\Anaconda3\\lib\\site-packages\\pandas\\core\\indexes\\base.py\u001b[0m in \u001b[0;36mget_loc\u001b[1;34m(self, key, method, tolerance)\u001b[0m\n\u001b[0;32m   2657\u001b[0m                 \u001b[1;32mreturn\u001b[0m \u001b[0mself\u001b[0m\u001b[1;33m.\u001b[0m\u001b[0m_engine\u001b[0m\u001b[1;33m.\u001b[0m\u001b[0mget_loc\u001b[0m\u001b[1;33m(\u001b[0m\u001b[0mkey\u001b[0m\u001b[1;33m)\u001b[0m\u001b[1;33m\u001b[0m\u001b[1;33m\u001b[0m\u001b[0m\n\u001b[0;32m   2658\u001b[0m             \u001b[1;32mexcept\u001b[0m \u001b[0mKeyError\u001b[0m\u001b[1;33m:\u001b[0m\u001b[1;33m\u001b[0m\u001b[1;33m\u001b[0m\u001b[0m\n\u001b[1;32m-> 2659\u001b[1;33m                 \u001b[1;32mreturn\u001b[0m \u001b[0mself\u001b[0m\u001b[1;33m.\u001b[0m\u001b[0m_engine\u001b[0m\u001b[1;33m.\u001b[0m\u001b[0mget_loc\u001b[0m\u001b[1;33m(\u001b[0m\u001b[0mself\u001b[0m\u001b[1;33m.\u001b[0m\u001b[0m_maybe_cast_indexer\u001b[0m\u001b[1;33m(\u001b[0m\u001b[0mkey\u001b[0m\u001b[1;33m)\u001b[0m\u001b[1;33m)\u001b[0m\u001b[1;33m\u001b[0m\u001b[1;33m\u001b[0m\u001b[0m\n\u001b[0m\u001b[0;32m   2660\u001b[0m         \u001b[0mindexer\u001b[0m \u001b[1;33m=\u001b[0m \u001b[0mself\u001b[0m\u001b[1;33m.\u001b[0m\u001b[0mget_indexer\u001b[0m\u001b[1;33m(\u001b[0m\u001b[1;33m[\u001b[0m\u001b[0mkey\u001b[0m\u001b[1;33m]\u001b[0m\u001b[1;33m,\u001b[0m \u001b[0mmethod\u001b[0m\u001b[1;33m=\u001b[0m\u001b[0mmethod\u001b[0m\u001b[1;33m,\u001b[0m \u001b[0mtolerance\u001b[0m\u001b[1;33m=\u001b[0m\u001b[0mtolerance\u001b[0m\u001b[1;33m)\u001b[0m\u001b[1;33m\u001b[0m\u001b[1;33m\u001b[0m\u001b[0m\n\u001b[0;32m   2661\u001b[0m         \u001b[1;32mif\u001b[0m \u001b[0mindexer\u001b[0m\u001b[1;33m.\u001b[0m\u001b[0mndim\u001b[0m \u001b[1;33m>\u001b[0m \u001b[1;36m1\u001b[0m \u001b[1;32mor\u001b[0m \u001b[0mindexer\u001b[0m\u001b[1;33m.\u001b[0m\u001b[0msize\u001b[0m \u001b[1;33m>\u001b[0m \u001b[1;36m1\u001b[0m\u001b[1;33m:\u001b[0m\u001b[1;33m\u001b[0m\u001b[1;33m\u001b[0m\u001b[0m\n",
      "\u001b[1;32mpandas/_libs/index.pyx\u001b[0m in \u001b[0;36mpandas._libs.index.IndexEngine.get_loc\u001b[1;34m()\u001b[0m\n",
      "\u001b[1;32mpandas/_libs/index.pyx\u001b[0m in \u001b[0;36mpandas._libs.index.IndexEngine.get_loc\u001b[1;34m()\u001b[0m\n",
      "\u001b[1;32mpandas/_libs/hashtable_class_helper.pxi\u001b[0m in \u001b[0;36mpandas._libs.hashtable.PyObjectHashTable.get_item\u001b[1;34m()\u001b[0m\n",
      "\u001b[1;32mpandas/_libs/hashtable_class_helper.pxi\u001b[0m in \u001b[0;36mpandas._libs.hashtable.PyObjectHashTable.get_item\u001b[1;34m()\u001b[0m\n",
      "\u001b[1;31mKeyError\u001b[0m: 'MONTH'"
     ]
    }
   ],
   "source": [
    "df[\"MONTH\"].unique()\n",
    "\n",
    "yr_df = {}\n",
    "for yr in range(2017, 2022):\n",
    "    yr_df[yr] = df.loc[df[\"MONTH\"].str.contains(str(yr)), :]"
   ]
  },
  {
   "cell_type": "code",
   "execution_count": 14,
   "metadata": {},
   "outputs": [
    {
     "name": "stdout",
     "output_type": "stream",
     "text": [
      "['2017-01' '2017-02' '2017-03' '2017-04' '2017-05' '2017-06' '2017-07'\n",
      " '2017-08' '2017-09' '2017-10' '2017-11' '2017-12']\n",
      "['2018-01' '2018-02' '2018-03' '2018-04' '2018-05' '2018-06' '2018-07'\n",
      " '2018-08' '2018-09' '2018-10' '2018-11' '2018-12']\n",
      "['2019-01' '2019-02' '2019-03' '2019-04' '2019-05' '2019-06' '2019-07'\n",
      " '2019-08' '2019-09' '2019-10' '2019-11' '2019-12']\n",
      "['2020-05' '2020-06' '2020-07' '2020-10' '2020-12' '2020-02' '2020-09'\n",
      " '2020-01' '2020-03' '2020-04' '2020-08' '2020-11']\n",
      "['2021-09' '2021-04' '2021-01' '2021-05' '2021-07' '2021-11' '2021-10'\n",
      " '2021-02' '2021-03' '2021-06' '2021-08' '2021-12']\n"
     ]
    }
   ],
   "source": [
    "for yr in range(2017, 2022):\n",
    "    print(yr_df[yr][\"MONTH\"].unique())"
   ]
  },
  {
   "cell_type": "markdown",
   "metadata": {},
   "source": [
    "In most machine learning models (especially the ones based in Python that we are using), they make the fundamental assumption that numerical features reflect algebraic quantities. For example, given a HDB dataset with 3 towns, Bishan, Sengkang, Clementi. We know that models don't work well with character variables (they prefer numbers). Coding the 3 towns into 1,2,3 respective will imply that:  \n",
    "Bishan < Sengkang < Clementi  \n",
    "\n",
    "This doesn't make much sense on a practical basis (based on existing housing market)."
   ]
  },
  {
   "cell_type": "markdown",
   "metadata": {},
   "source": [
    "Include other datasets? Fed interest rates? Stimulus packages? oversubscription rates of BTO?"
   ]
  },
  {
   "cell_type": "code",
   "execution_count": null,
   "metadata": {},
   "outputs": [],
   "source": []
  }
 ],
 "metadata": {
  "kernelspec": {
   "display_name": "Python 3",
   "language": "python",
   "name": "python3"
  },
  "language_info": {
   "codemirror_mode": {
    "name": "ipython",
    "version": 3
   },
   "file_extension": ".py",
   "mimetype": "text/x-python",
   "name": "python",
   "nbconvert_exporter": "python",
   "pygments_lexer": "ipython3",
   "version": "3.7.3"
  }
 },
 "nbformat": 4,
 "nbformat_minor": 2
}
