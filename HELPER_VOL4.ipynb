{
 "cells": [
  {
   "cell_type": "markdown",
   "metadata": {},
   "source": [
    "# Helper Functions Volume 4: Feature Engineering & Model preparation\n",
    "\n",
    "Author: Koh Kok Bin  \n",
    "Date: 17 Feb 2022\n",
    "\n",
    "This notebook provides some basic walkthroughs on how best to optimize features (aka parameters or x 'predictor' variables). It is not meant to be exhaustive but should cover most of what is done during data science projects.\n",
    "\n",
    "### <a id = \"VOL4_toc\"> Table of contents:  </a>\n",
    "- [Reference Materials -- This needs to be run so that Parts 1 to n can work.](#VOL4_refmat)  \n",
    "- [Feature selection -- Which variable is redundant & How to transform variables for best results](#VOL4_feat_select)  \n",
    "    - [Month, Town](#VOL4_mth)  \n",
    "    - [Flat type](#VOL4_flat)  \n",
    "    - [Block, Street name](#VOL4_blk)  \n",
    "    - [Storey range](#VOL4_storey)  \n",
    "    - [Floor area sqm, flat model](#VOL4_sqm)  \n",
    "    - [Lease commence date](#VOL4_lease)\n",
    "- [Model prep, Dataset split](#VOL4_modelprep)  \n",
    "    - [Sampling](#VOL4_sampling)\n",
    "    - [Testing for Significance](#VOL4_signif)  \n",
    "    - [Evaluation](#VOL4_eval)\n",
    "\n",
    "\n",
    "The generic idea is tho perform feature engineering to ensure table is rid of unnecessary data, and is in a format that can be easily interpreted (accurately) by the model itself. Only when that is done, the pre-model preparation like train/test split etc should be performed. "
   ]
  },
  {
   "cell_type": "markdown",
   "metadata": {},
   "source": [
    "### <a id = \"VOL4_refmat\"> Reference Materials </a>  "
   ]
  },
  {
   "cell_type": "code",
   "execution_count": 2,
   "metadata": {},
   "outputs": [],
   "source": [
    "import os\n",
    "import pandas as pd\n",
    "import numpy as np\n",
    "\n",
    "%matplotlib inline"
   ]
  },
  {
   "cell_type": "code",
   "execution_count": 3,
   "metadata": {},
   "outputs": [],
   "source": [
    "# Get directory name of this file. Helpful to specify the directory of the file, \n",
    "# so you can also interact with the files in the same location via relative paths.\n",
    "\n",
    "dirname = globals()[\"_dh\"][0]"
   ]
  },
  {
   "cell_type": "code",
   "execution_count": 4,
   "metadata": {},
   "outputs": [
    {
     "data": {
      "text/plain": [
       "True"
      ]
     },
     "execution_count": 4,
     "metadata": {},
     "output_type": "execute_result"
    }
   ],
   "source": [
    "data_folder = \"VOL4\"\n",
    "list_of_files = os.listdir(os.path.join(dirname, data_folder)) # Absolute path\n",
    "list_of_files2 = os.listdir(data_folder) # Relative path\n",
    "\n",
    "# They are the same; only 1 file in folder\n",
    "list_of_files == list_of_files2"
   ]
  },
  {
   "cell_type": "code",
   "execution_count": 5,
   "metadata": {},
   "outputs": [],
   "source": [
    "# Replace function is meant to ensure sharepoint files will work.\n",
    "# This code is more readable too.\n",
    "datafile = os.path.join(dirname, data_folder, list_of_files[0]).replace(\"\\\\\", \"/\")\n",
    "df = pd.read_csv(datafile)"
   ]
  },
  {
   "cell_type": "code",
   "execution_count": 6,
   "metadata": {},
   "outputs": [],
   "source": [
    "df2 = df.copy()"
   ]
  },
  {
   "cell_type": "code",
   "execution_count": 7,
   "metadata": {},
   "outputs": [
    {
     "data": {
      "text/html": [
       "<div>\n",
       "<style scoped>\n",
       "    .dataframe tbody tr th:only-of-type {\n",
       "        vertical-align: middle;\n",
       "    }\n",
       "\n",
       "    .dataframe tbody tr th {\n",
       "        vertical-align: top;\n",
       "    }\n",
       "\n",
       "    .dataframe thead th {\n",
       "        text-align: right;\n",
       "    }\n",
       "</style>\n",
       "<table border=\"1\" class=\"dataframe\">\n",
       "  <thead>\n",
       "    <tr style=\"text-align: right;\">\n",
       "      <th></th>\n",
       "      <th>month</th>\n",
       "      <th>town</th>\n",
       "      <th>flat_type</th>\n",
       "      <th>block</th>\n",
       "      <th>street_name</th>\n",
       "      <th>storey_range</th>\n",
       "      <th>floor_area_sqm</th>\n",
       "      <th>flat_model</th>\n",
       "      <th>lease_commence_date</th>\n",
       "      <th>remaining_lease</th>\n",
       "      <th>resale_price</th>\n",
       "    </tr>\n",
       "  </thead>\n",
       "  <tbody>\n",
       "    <tr>\n",
       "      <th>0</th>\n",
       "      <td>2017-01</td>\n",
       "      <td>ANG MO KIO</td>\n",
       "      <td>2 ROOM</td>\n",
       "      <td>406</td>\n",
       "      <td>ANG MO KIO AVE 10</td>\n",
       "      <td>10 TO 12</td>\n",
       "      <td>44.0</td>\n",
       "      <td>Improved</td>\n",
       "      <td>1979</td>\n",
       "      <td>61 years 04 months</td>\n",
       "      <td>232000.0</td>\n",
       "    </tr>\n",
       "    <tr>\n",
       "      <th>1</th>\n",
       "      <td>2017-01</td>\n",
       "      <td>ANG MO KIO</td>\n",
       "      <td>3 ROOM</td>\n",
       "      <td>108</td>\n",
       "      <td>ANG MO KIO AVE 4</td>\n",
       "      <td>01 TO 03</td>\n",
       "      <td>67.0</td>\n",
       "      <td>New Generation</td>\n",
       "      <td>1978</td>\n",
       "      <td>60 years 07 months</td>\n",
       "      <td>250000.0</td>\n",
       "    </tr>\n",
       "  </tbody>\n",
       "</table>\n",
       "</div>"
      ],
      "text/plain": [
       "     month        town flat_type block        street_name storey_range  \\\n",
       "0  2017-01  ANG MO KIO    2 ROOM   406  ANG MO KIO AVE 10     10 TO 12   \n",
       "1  2017-01  ANG MO KIO    3 ROOM   108   ANG MO KIO AVE 4     01 TO 03   \n",
       "\n",
       "   floor_area_sqm      flat_model  lease_commence_date     remaining_lease  \\\n",
       "0            44.0        Improved                 1979  61 years 04 months   \n",
       "1            67.0  New Generation                 1978  60 years 07 months   \n",
       "\n",
       "   resale_price  \n",
       "0      232000.0  \n",
       "1      250000.0  "
      ]
     },
     "execution_count": 7,
     "metadata": {},
     "output_type": "execute_result"
    }
   ],
   "source": [
    "df2.head(2)"
   ]
  },
  {
   "cell_type": "code",
   "execution_count": 8,
   "metadata": {},
   "outputs": [],
   "source": [
    "# Conduct preliminary processing, aka the usual ones done in the earlier helper volumes\n",
    "df2.columns = map(str.upper, df2.columns)"
   ]
  },
  {
   "cell_type": "code",
   "execution_count": 9,
   "metadata": {},
   "outputs": [
    {
     "data": {
      "text/plain": [
       "Index(['MONTH', 'TOWN', 'FLAT_TYPE', 'BLOCK', 'STREET_NAME', 'STOREY_RANGE',\n",
       "       'FLOOR_AREA_SQM', 'FLAT_MODEL', 'LEASE_COMMENCE_DATE',\n",
       "       'REMAINING_LEASE', 'RESALE_PRICE'],\n",
       "      dtype='object')"
      ]
     },
     "execution_count": 9,
     "metadata": {},
     "output_type": "execute_result"
    }
   ],
   "source": [
    "df2.columns"
   ]
  },
  {
   "cell_type": "markdown",
   "metadata": {},
   "source": [
    "### <a id = \"VOL4_feat_select\"> Feature Selection / Engineering </a>   \n",
    "\n",
    "[Return to top](#VOL4_toc)\n",
    "\n",
    "This step is not heavily discussed, but makes sense. In machine learning and in life, we deal with noise all the time. Only a few signals matter and its important to tune out the noise. For datasets that have many columns, choosing the relevant ones to build the model will improve your model by a great extent. Your model will assume all features being provided *are* important.\n",
    "\n",
    "We know that from experience (or domain knowledge), only a few things matter to prices of resale transactions. For example, the floor level, location (e.g. Tengah or Bishan), size (2/3/4/5 room), remaining lease (94 years vs 60 years). In our HDB dataset, there are other columns like block, street_name. While we inherently know that these likely don't matter (unless your block has the number 8), we need a definitive way to conclude that such variables are not relevant in say predicting housing prices.  "
   ]
  },
  {
   "cell_type": "markdown",
   "metadata": {},
   "source": [
    "#### What's the point of removing them? Just let the model figure it out?  \n",
    "As above, using irrelevant variables only introduces noise in your model. More columns = longer time to train/build the model. Even then, results are often unsatistfactory (as it includes irrelevant data). The best case is that all columns are processed to some integer or float value (i.e. decimal places). However, as described in the slides that accompany this coding guide, numbers imply a certain ranking/order (more on this in a later section).  \n",
    "\n",
    "Can / should we imply a ranking/order for the block number of the flat being sold? Is block number 999 > 888? I don't think so.  \n",
    "\n",
    "Ideally, we will perform feature engineering + selection concurrently as some of the methods used to determine statistical relevance works best on processed data (i.e. data fit for ML models).  \n",
    "\n",
    "-Month, Town  \n",
    "-Flat type  \n",
    "-Block, Street name  \n",
    "-Storey range  \n",
    "-Floor area sqm, flat model  \n",
    "-Lease commence date  "
   ]
  },
  {
   "cell_type": "markdown",
   "metadata": {},
   "source": [
    "#### <a id = \"VOL4_mth\" > Let's take a look at the columns individually.  </a>  \n",
    "\n",
    "[Return to top](#VOL4_toc)\n",
    "\n",
    "- __MONTH (20XX-YY)__: How will feeding this into the ML model be useful? What do we want to achieve? Most ML classification/regression models deal with the problem statement __\"predicting Y from X at point in time\".__ On the other hand, forecasting's problem statement can be approximated to __\"predicting future data from time series X over time\"__.  \n",
    "\n",
    "For the purpose of this exercise, we can assume (*very big assumption*) that the entire dataset of resale transactions took place at a point in time. Otherwise, we would have to treat it like a time-series dataset which is quite complicated and often not the use case for DOS.  \n",
    "\n",
    "- __TOWN (character/string)__: These are the values corresponding to the town that the resale transaction took place in. There are a few ways we can approach this: 1) To build individual models for each town (aka Punggol, Jurong, Boon Lay). This assumes that the resale prices across towns exhibit a different characteristic. 2) To code these towns into broader terms such as Outside Central Region (OCR), Core Central Region (CCR) and Rest of Central Region (RCR). 3) To apply one-hot encoding to the TOWN column, thereby splitting the column into 26 columns.  \n",
    "\n",
    "Based on the current housing trend + news reports, we can probably tell that there have been a large demand flow shifting from CCR and RCR towards the suburban areas. This is probably best reflected in the resale housing index (mainly OCR regions), which has been on a steady uptrend since COVID. Furthermore, you can also deduce that housing prices between neighboorhood towns like Yishun vs Punggol (i.e. digital hub) will be different. What's the best approach here? My recommendation is to try all 3 and then compare the performance of each. This will show that you've done your analysis and background work too!  \n",
    "\n",
    "We can start by processing these 2 columns first."
   ]
  },
  {
   "cell_type": "code",
   "execution_count": 10,
   "metadata": {},
   "outputs": [],
   "source": [
    "# Remove month column \n",
    "df2 = df2.drop(columns = \"MONTH\")  \n",
    "\n",
    "# TOWN processing will be done last because \n",
    "# it requires more code to iterate over 3 datasets to process other columns."
   ]
  },
  {
   "cell_type": "code",
   "execution_count": 11,
   "metadata": {},
   "outputs": [
    {
     "data": {
      "text/plain": [
       "array(['2 ROOM', '3 ROOM', '4 ROOM', '5 ROOM', 'EXECUTIVE', '1 ROOM',\n",
       "       'MULTI-GENERATION'], dtype=object)"
      ]
     },
     "execution_count": 11,
     "metadata": {},
     "output_type": "execute_result"
    }
   ],
   "source": [
    "df2[\"FLAT_TYPE\"].unique()"
   ]
  },
  {
   "cell_type": "markdown",
   "metadata": {},
   "source": [
    "#### <a id = \"VOL4_flat\" > FLAT_TYPE (Character/String) </a>  \n",
    "\n",
    "[Return to top](#VOL4_toc)\n",
    "\n",
    "This column is straightforward. Generally speaking, holding psf constant, Multi-generation flats are larger than Executive flats. Executive > 5 room > 4 Room > 3 Room > 2 Room > 1 Room. There is a clear order for this column, and so it makes sense to convert it to a number where the model knows that larger numbers (i.e. FLAT_TYPE) are 'correlated' with higher prices."
   ]
  },
  {
   "cell_type": "code",
   "execution_count": 12,
   "metadata": {},
   "outputs": [],
   "source": [
    "# 2 methods below that produces the same result\n",
    "from sklearn import preprocessing"
   ]
  },
  {
   "cell_type": "code",
   "execution_count": 13,
   "metadata": {},
   "outputs": [],
   "source": [
    "# Ranking is set out here. 1 room is given a 'score' of 0, and multi-gen has the highest score: 5\n",
    "ranking = [\"1 ROOM\", \"2 ROOM\", \"3 ROOM\", \"4 ROOM\", \"5 ROOM\", \"EXECUTIVE\", \"MULTI-GENERATION\"]\n",
    "score = [x for x in range(len(ranking))]\n",
    "flat_dict = {k:v for k, v in zip(ranking, score)}\n",
    "\n",
    "df3 = df2.copy()\n",
    "#df3[\"FLAT_TYPE\"] = df3[\"FLAT_TYPE\"].replace(flat_dict)"
   ]
  },
  {
   "cell_type": "code",
   "execution_count": 14,
   "metadata": {},
   "outputs": [
    {
     "data": {
      "text/plain": [
       "True"
      ]
     },
     "execution_count": 14,
     "metadata": {},
     "output_type": "execute_result"
    }
   ],
   "source": [
    "test = list(df3[\"FLAT_TYPE\"].replace(flat_dict))\n",
    "\n",
    "# Label Encoder is a 2 step process.\n",
    "# First, create the LabelEncoder object.\n",
    "label_enc = preprocessing.LabelEncoder()\n",
    "\n",
    "# Next, fit the ranking to the label. It will parse the elements into scores based on element order.\n",
    "# 1 ROOM = 0, 2 ROOM = 1\n",
    "# transform will convert the dataset from the 1 Room labels into integers 0 - n\n",
    "test2 = list(label_enc.fit(ranking).transform(list(df3[\"FLAT_TYPE\"])))\n",
    "\n",
    "# Compare equality. True\n",
    "test == test2\n",
    "#df2[\"FLAT_TYPE\"].replace(flat_dict)"
   ]
  },
  {
   "cell_type": "code",
   "execution_count": 15,
   "metadata": {},
   "outputs": [],
   "source": [
    "df3[\"FLAT_TYPE\"] = list(label_enc.fit(ranking).transform(list(df3[\"FLAT_TYPE\"])))"
   ]
  },
  {
   "cell_type": "code",
   "execution_count": 16,
   "metadata": {},
   "outputs": [
    {
     "data": {
      "text/html": [
       "<div>\n",
       "<style scoped>\n",
       "    .dataframe tbody tr th:only-of-type {\n",
       "        vertical-align: middle;\n",
       "    }\n",
       "\n",
       "    .dataframe tbody tr th {\n",
       "        vertical-align: top;\n",
       "    }\n",
       "\n",
       "    .dataframe thead th {\n",
       "        text-align: right;\n",
       "    }\n",
       "</style>\n",
       "<table border=\"1\" class=\"dataframe\">\n",
       "  <thead>\n",
       "    <tr style=\"text-align: right;\">\n",
       "      <th></th>\n",
       "      <th>TOWN</th>\n",
       "      <th>FLAT_TYPE</th>\n",
       "      <th>BLOCK</th>\n",
       "      <th>STREET_NAME</th>\n",
       "      <th>STOREY_RANGE</th>\n",
       "      <th>FLOOR_AREA_SQM</th>\n",
       "      <th>FLAT_MODEL</th>\n",
       "      <th>LEASE_COMMENCE_DATE</th>\n",
       "      <th>REMAINING_LEASE</th>\n",
       "      <th>RESALE_PRICE</th>\n",
       "    </tr>\n",
       "  </thead>\n",
       "  <tbody>\n",
       "    <tr>\n",
       "      <th>0</th>\n",
       "      <td>ANG MO KIO</td>\n",
       "      <td>1</td>\n",
       "      <td>406</td>\n",
       "      <td>ANG MO KIO AVE 10</td>\n",
       "      <td>10 TO 12</td>\n",
       "      <td>44.0</td>\n",
       "      <td>Improved</td>\n",
       "      <td>1979</td>\n",
       "      <td>61 years 04 months</td>\n",
       "      <td>232000.0</td>\n",
       "    </tr>\n",
       "    <tr>\n",
       "      <th>1</th>\n",
       "      <td>ANG MO KIO</td>\n",
       "      <td>2</td>\n",
       "      <td>108</td>\n",
       "      <td>ANG MO KIO AVE 4</td>\n",
       "      <td>01 TO 03</td>\n",
       "      <td>67.0</td>\n",
       "      <td>New Generation</td>\n",
       "      <td>1978</td>\n",
       "      <td>60 years 07 months</td>\n",
       "      <td>250000.0</td>\n",
       "    </tr>\n",
       "  </tbody>\n",
       "</table>\n",
       "</div>"
      ],
      "text/plain": [
       "         TOWN  FLAT_TYPE BLOCK        STREET_NAME STOREY_RANGE  \\\n",
       "0  ANG MO KIO          1   406  ANG MO KIO AVE 10     10 TO 12   \n",
       "1  ANG MO KIO          2   108   ANG MO KIO AVE 4     01 TO 03   \n",
       "\n",
       "   FLOOR_AREA_SQM      FLAT_MODEL  LEASE_COMMENCE_DATE     REMAINING_LEASE  \\\n",
       "0            44.0        Improved                 1979  61 years 04 months   \n",
       "1            67.0  New Generation                 1978  60 years 07 months   \n",
       "\n",
       "   RESALE_PRICE  \n",
       "0      232000.0  \n",
       "1      250000.0  "
      ]
     },
     "execution_count": 16,
     "metadata": {},
     "output_type": "execute_result"
    }
   ],
   "source": [
    "df3.head(2) "
   ]
  },
  {
   "cell_type": "markdown",
   "metadata": {},
   "source": [
    "#### <a id = \"VOL4_blk\" > Block, Street Name </a>  \n",
    "\n",
    "[Return to top](#VOL4_toc)\n",
    "\n",
    "- __BLOCK (Character/String)__: This column is by right an integer column. However, there are new blocks that have block numbers ending with alphabets (e.g. 103A). In any case, for many of these columns there's no real need to test for statistical signficance (i.e. based on chi-squared test and the like). This is because they are already deemed to be irrelevant based on domain knowledge.  \n",
    "\n",
    "- __STREET_NAME (Character/String)__: This column is also quite irrelevant unless you have resources available to mine further for insights. For example, if you could use the BLOCK + STREET_NAME columns to identify the postal code and subsequently the longitude and latitude of the transaction, you are able to derive a particular resale transaction's proximity to the nearest MRT. The distance can be fed into the model to see if it yields better performance.  \n",
    "\n",
    "*If you would like to try, google these 2 terms: OneMAP API by SLA, python implementation of Haversine formula.*  \n",
    " \n",
    "For this project, we assume these 2 columns are irrelevant and will remove them."
   ]
  },
  {
   "cell_type": "code",
   "execution_count": 17,
   "metadata": {},
   "outputs": [],
   "source": [
    "df3 = df3.drop(columns = [\"BLOCK\", \"STREET_NAME\"])"
   ]
  },
  {
   "cell_type": "code",
   "execution_count": 18,
   "metadata": {},
   "outputs": [
    {
     "data": {
      "text/html": [
       "<div>\n",
       "<style scoped>\n",
       "    .dataframe tbody tr th:only-of-type {\n",
       "        vertical-align: middle;\n",
       "    }\n",
       "\n",
       "    .dataframe tbody tr th {\n",
       "        vertical-align: top;\n",
       "    }\n",
       "\n",
       "    .dataframe thead th {\n",
       "        text-align: right;\n",
       "    }\n",
       "</style>\n",
       "<table border=\"1\" class=\"dataframe\">\n",
       "  <thead>\n",
       "    <tr style=\"text-align: right;\">\n",
       "      <th></th>\n",
       "      <th>TOWN</th>\n",
       "      <th>FLAT_TYPE</th>\n",
       "      <th>STOREY_RANGE</th>\n",
       "      <th>FLOOR_AREA_SQM</th>\n",
       "      <th>FLAT_MODEL</th>\n",
       "      <th>LEASE_COMMENCE_DATE</th>\n",
       "      <th>REMAINING_LEASE</th>\n",
       "      <th>RESALE_PRICE</th>\n",
       "    </tr>\n",
       "  </thead>\n",
       "  <tbody>\n",
       "    <tr>\n",
       "      <th>0</th>\n",
       "      <td>ANG MO KIO</td>\n",
       "      <td>1</td>\n",
       "      <td>10 TO 12</td>\n",
       "      <td>44.0</td>\n",
       "      <td>Improved</td>\n",
       "      <td>1979</td>\n",
       "      <td>61 years 04 months</td>\n",
       "      <td>232000.0</td>\n",
       "    </tr>\n",
       "    <tr>\n",
       "      <th>1</th>\n",
       "      <td>ANG MO KIO</td>\n",
       "      <td>2</td>\n",
       "      <td>01 TO 03</td>\n",
       "      <td>67.0</td>\n",
       "      <td>New Generation</td>\n",
       "      <td>1978</td>\n",
       "      <td>60 years 07 months</td>\n",
       "      <td>250000.0</td>\n",
       "    </tr>\n",
       "  </tbody>\n",
       "</table>\n",
       "</div>"
      ],
      "text/plain": [
       "         TOWN  FLAT_TYPE STOREY_RANGE  FLOOR_AREA_SQM      FLAT_MODEL  \\\n",
       "0  ANG MO KIO          1     10 TO 12            44.0        Improved   \n",
       "1  ANG MO KIO          2     01 TO 03            67.0  New Generation   \n",
       "\n",
       "   LEASE_COMMENCE_DATE     REMAINING_LEASE  RESALE_PRICE  \n",
       "0                 1979  61 years 04 months      232000.0  \n",
       "1                 1978  60 years 07 months      250000.0  "
      ]
     },
     "execution_count": 18,
     "metadata": {},
     "output_type": "execute_result"
    }
   ],
   "source": [
    "df3.head(2)"
   ]
  },
  {
   "cell_type": "markdown",
   "metadata": {},
   "source": [
    "#### <a id = \"VOL4_storey\" > Storey Range </a>  \n",
    "\n",
    "[Return to top](#VOL4_toc)\n",
    "\n",
    "This column tells you the floor on which the resale flat is sold. For simplicity, as they are in range of 3 floors (01 TO 03), we can simply take the middle floor. Since floor numbers are integer, we have already implicitly imply that this column is ranked and higher floors generally have a higher resale price (as they usually do)."
   ]
  },
  {
   "cell_type": "code",
   "execution_count": 19,
   "metadata": {},
   "outputs": [],
   "source": [
    "def get_mid(floors, mysplit = \" TO \"):\n",
    "    return int((int(floors.split(mysplit)[0]) + int(floors.split(mysplit)[1]))/2)\n",
    "\n",
    "df3[\"STOREY_RANGE\"] = df3[\"STOREY_RANGE\"].apply(get_mid)"
   ]
  },
  {
   "cell_type": "code",
   "execution_count": 20,
   "metadata": {},
   "outputs": [
    {
     "data": {
      "text/plain": [
       "array([11,  2,  5,  8, 14, 20, 23, 17, 35, 29, 38, 50, 26, 41, 32, 47, 44],\n",
       "      dtype=int64)"
      ]
     },
     "execution_count": 20,
     "metadata": {},
     "output_type": "execute_result"
    }
   ],
   "source": [
    "# Levels 2 to 50, by 3\n",
    "df3[\"STOREY_RANGE\"].unique()"
   ]
  },
  {
   "cell_type": "code",
   "execution_count": 21,
   "metadata": {},
   "outputs": [
    {
     "data": {
      "text/html": [
       "<div>\n",
       "<style scoped>\n",
       "    .dataframe tbody tr th:only-of-type {\n",
       "        vertical-align: middle;\n",
       "    }\n",
       "\n",
       "    .dataframe tbody tr th {\n",
       "        vertical-align: top;\n",
       "    }\n",
       "\n",
       "    .dataframe thead th {\n",
       "        text-align: right;\n",
       "    }\n",
       "</style>\n",
       "<table border=\"1\" class=\"dataframe\">\n",
       "  <thead>\n",
       "    <tr style=\"text-align: right;\">\n",
       "      <th></th>\n",
       "      <th>TOWN</th>\n",
       "      <th>FLAT_TYPE</th>\n",
       "      <th>STOREY_RANGE</th>\n",
       "      <th>FLOOR_AREA_SQM</th>\n",
       "      <th>FLAT_MODEL</th>\n",
       "      <th>LEASE_COMMENCE_DATE</th>\n",
       "      <th>REMAINING_LEASE</th>\n",
       "      <th>RESALE_PRICE</th>\n",
       "    </tr>\n",
       "  </thead>\n",
       "  <tbody>\n",
       "    <tr>\n",
       "      <th>0</th>\n",
       "      <td>ANG MO KIO</td>\n",
       "      <td>1</td>\n",
       "      <td>11</td>\n",
       "      <td>44.0</td>\n",
       "      <td>Improved</td>\n",
       "      <td>1979</td>\n",
       "      <td>61 years 04 months</td>\n",
       "      <td>232000.0</td>\n",
       "    </tr>\n",
       "    <tr>\n",
       "      <th>1</th>\n",
       "      <td>ANG MO KIO</td>\n",
       "      <td>2</td>\n",
       "      <td>2</td>\n",
       "      <td>67.0</td>\n",
       "      <td>New Generation</td>\n",
       "      <td>1978</td>\n",
       "      <td>60 years 07 months</td>\n",
       "      <td>250000.0</td>\n",
       "    </tr>\n",
       "  </tbody>\n",
       "</table>\n",
       "</div>"
      ],
      "text/plain": [
       "         TOWN  FLAT_TYPE  STOREY_RANGE  FLOOR_AREA_SQM      FLAT_MODEL  \\\n",
       "0  ANG MO KIO          1            11            44.0        Improved   \n",
       "1  ANG MO KIO          2             2            67.0  New Generation   \n",
       "\n",
       "   LEASE_COMMENCE_DATE     REMAINING_LEASE  RESALE_PRICE  \n",
       "0                 1979  61 years 04 months      232000.0  \n",
       "1                 1978  60 years 07 months      250000.0  "
      ]
     },
     "execution_count": 21,
     "metadata": {},
     "output_type": "execute_result"
    }
   ],
   "source": [
    "df3.head(2)"
   ]
  },
  {
   "cell_type": "markdown",
   "metadata": {},
   "source": [
    "#### <a id = \"VOL4_sqm\" > Floor Area Sqm, Flat model </a>  \n",
    "\n",
    "[Return to top](#VOL4_toc)\n",
    "\n",
    "- __FLOOR_AREA_SQM (Float)__: This column is self explanatory. No processing is needed.\n",
    "\n",
    "- __FLAT_MODEL (Character/String)__: This column lists the different kind of models for each type of flat. There are quite a few models over the years, and documentation on such models are sparse. Again, we can choose to remove it entirely, but based on the terms like \"Premium Apartment Loft\" or \"Adjoined flat\" or \"Premium Maisonette\", I think there may be some causal effect with flat models and resale prices. However, unless there's clear documentation on the kinds of models, we should think twice about using label encoding to rank the different models. The last option would therefore be to implement one-hot encoding.  \n",
    "\n",
    "There is a tradeoff regarding the size of the final dataset. The dataset has about 110k rows. To create another 19 columns may adversely impact your project processes. Below I will provide examples on how to perform one-hot encoding via one-liners. For this project, we will not use one-hot encoding on the FLAT_MODEL column. As such, we will remove it."
   ]
  },
  {
   "cell_type": "code",
   "execution_count": 22,
   "metadata": {},
   "outputs": [
    {
     "data": {
      "text/plain": [
       "Model A                   37626\n",
       "Improved                  28655\n",
       "New Generation            14856\n",
       "Premium Apartment         13128\n",
       "Apartment                  4609\n",
       "Simplified                 4507\n",
       "Maisonette                 3463\n",
       "Standard                   3252\n",
       "DBSS                       2176\n",
       "Model A2                   1359\n",
       "Adjoined flat               217\n",
       "Type S1                     207\n",
       "Model A-Maisonette          205\n",
       "Type S2                     118\n",
       "Terrace                      72\n",
       "Premium Apartment Loft       72\n",
       "Multi Generation             58\n",
       "Improved-Maisonette          18\n",
       "2-room                       14\n",
       "Premium Maisonette           11\n",
       "Name: FLAT_MODEL, dtype: int64"
      ]
     },
     "execution_count": 22,
     "metadata": {},
     "output_type": "execute_result"
    }
   ],
   "source": [
    "df3[\"FLAT_MODEL\"].value_counts()"
   ]
  },
  {
   "cell_type": "code",
   "execution_count": 23,
   "metadata": {},
   "outputs": [
    {
     "name": "stdout",
     "output_type": "stream",
     "text": [
      "[[0. 0. 0. 0. 1. 0. 0. 0. 0. 0. 0. 0. 0. 0. 0. 0. 0. 0. 0. 0.]\n",
      " [0. 0. 0. 0. 0. 0. 0. 0. 0. 0. 0. 1. 0. 0. 0. 0. 0. 0. 0. 0.]\n",
      " [0. 0. 0. 0. 0. 0. 0. 0. 0. 0. 0. 1. 0. 0. 0. 0. 0. 0. 0. 0.]\n",
      " [0. 0. 0. 0. 0. 0. 0. 0. 0. 0. 0. 1. 0. 0. 0. 0. 0. 0. 0. 0.]\n",
      " [0. 0. 0. 0. 0. 0. 0. 0. 0. 0. 0. 1. 0. 0. 0. 0. 0. 0. 0. 0.]]\n"
     ]
    }
   ],
   "source": [
    "# Method 0\n",
    "oh_enc = preprocessing.OneHotEncoder()\n",
    "\n",
    "# Will only be done on first 100 rows. Otherwise will be slow.\n",
    "# Of course, if there are more rows, there will be more elements in each array (due to different values)\n",
    "# These can be converted to columns (i.e. 1st column = 1st element of each array)\n",
    "test = oh_enc.fit_transform(df3[[\"FLAT_MODEL\"]]).toarray()\n",
    "print(test[0:5])"
   ]
  },
  {
   "cell_type": "code",
   "execution_count": 24,
   "metadata": {},
   "outputs": [
    {
     "name": "stdout",
     "output_type": "stream",
     "text": [
      "<class 'pandas.core.frame.DataFrame'>\n",
      "RangeIndex: 114623 entries, 0 to 114622\n",
      "Data columns (total 20 columns):\n",
      "2-room                    114623 non-null uint8\n",
      "Adjoined flat             114623 non-null uint8\n",
      "Apartment                 114623 non-null uint8\n",
      "DBSS                      114623 non-null uint8\n",
      "Improved                  114623 non-null uint8\n",
      "Improved-Maisonette       114623 non-null uint8\n",
      "Maisonette                114623 non-null uint8\n",
      "Model A                   114623 non-null uint8\n",
      "Model A-Maisonette        114623 non-null uint8\n",
      "Model A2                  114623 non-null uint8\n",
      "Multi Generation          114623 non-null uint8\n",
      "New Generation            114623 non-null uint8\n",
      "Premium Apartment         114623 non-null uint8\n",
      "Premium Apartment Loft    114623 non-null uint8\n",
      "Premium Maisonette        114623 non-null uint8\n",
      "Simplified                114623 non-null uint8\n",
      "Standard                  114623 non-null uint8\n",
      "Terrace                   114623 non-null uint8\n",
      "Type S1                   114623 non-null uint8\n",
      "Type S2                   114623 non-null uint8\n",
      "dtypes: uint8(20)\n",
      "memory usage: 2.2 MB\n"
     ]
    }
   ],
   "source": [
    "# Method 1 - outputs 20 columns\n",
    "# This is simpler to use. However, do note the larger the dataset, the longer it takes to process.\n",
    "# pd.get_dummies is the method to use. \n",
    "pd.get_dummies(df3[\"FLAT_MODEL\"]).info()"
   ]
  },
  {
   "cell_type": "code",
   "execution_count": 25,
   "metadata": {},
   "outputs": [
    {
     "data": {
      "text/html": [
       "<div>\n",
       "<style scoped>\n",
       "    .dataframe tbody tr th:only-of-type {\n",
       "        vertical-align: middle;\n",
       "    }\n",
       "\n",
       "    .dataframe tbody tr th {\n",
       "        vertical-align: top;\n",
       "    }\n",
       "\n",
       "    .dataframe thead th {\n",
       "        text-align: right;\n",
       "    }\n",
       "</style>\n",
       "<table border=\"1\" class=\"dataframe\">\n",
       "  <thead>\n",
       "    <tr style=\"text-align: right;\">\n",
       "      <th></th>\n",
       "      <th>TOWN</th>\n",
       "      <th>FLAT_TYPE</th>\n",
       "      <th>STOREY_RANGE</th>\n",
       "      <th>FLOOR_AREA_SQM</th>\n",
       "      <th>LEASE_COMMENCE_DATE</th>\n",
       "      <th>REMAINING_LEASE</th>\n",
       "      <th>RESALE_PRICE</th>\n",
       "    </tr>\n",
       "  </thead>\n",
       "  <tbody>\n",
       "    <tr>\n",
       "      <th>0</th>\n",
       "      <td>ANG MO KIO</td>\n",
       "      <td>1</td>\n",
       "      <td>11</td>\n",
       "      <td>44.0</td>\n",
       "      <td>1979</td>\n",
       "      <td>61 years 04 months</td>\n",
       "      <td>232000.0</td>\n",
       "    </tr>\n",
       "    <tr>\n",
       "      <th>1</th>\n",
       "      <td>ANG MO KIO</td>\n",
       "      <td>2</td>\n",
       "      <td>2</td>\n",
       "      <td>67.0</td>\n",
       "      <td>1978</td>\n",
       "      <td>60 years 07 months</td>\n",
       "      <td>250000.0</td>\n",
       "    </tr>\n",
       "    <tr>\n",
       "      <th>2</th>\n",
       "      <td>ANG MO KIO</td>\n",
       "      <td>2</td>\n",
       "      <td>2</td>\n",
       "      <td>67.0</td>\n",
       "      <td>1980</td>\n",
       "      <td>62 years 05 months</td>\n",
       "      <td>262000.0</td>\n",
       "    </tr>\n",
       "    <tr>\n",
       "      <th>3</th>\n",
       "      <td>ANG MO KIO</td>\n",
       "      <td>2</td>\n",
       "      <td>5</td>\n",
       "      <td>68.0</td>\n",
       "      <td>1980</td>\n",
       "      <td>62 years 01 month</td>\n",
       "      <td>265000.0</td>\n",
       "    </tr>\n",
       "    <tr>\n",
       "      <th>4</th>\n",
       "      <td>ANG MO KIO</td>\n",
       "      <td>2</td>\n",
       "      <td>2</td>\n",
       "      <td>67.0</td>\n",
       "      <td>1980</td>\n",
       "      <td>62 years 05 months</td>\n",
       "      <td>265000.0</td>\n",
       "    </tr>\n",
       "  </tbody>\n",
       "</table>\n",
       "</div>"
      ],
      "text/plain": [
       "         TOWN  FLAT_TYPE  STOREY_RANGE  FLOOR_AREA_SQM  LEASE_COMMENCE_DATE  \\\n",
       "0  ANG MO KIO          1            11            44.0                 1979   \n",
       "1  ANG MO KIO          2             2            67.0                 1978   \n",
       "2  ANG MO KIO          2             2            67.0                 1980   \n",
       "3  ANG MO KIO          2             5            68.0                 1980   \n",
       "4  ANG MO KIO          2             2            67.0                 1980   \n",
       "\n",
       "      REMAINING_LEASE  RESALE_PRICE  \n",
       "0  61 years 04 months      232000.0  \n",
       "1  60 years 07 months      250000.0  \n",
       "2  62 years 05 months      262000.0  \n",
       "3   62 years 01 month      265000.0  \n",
       "4  62 years 05 months      265000.0  "
      ]
     },
     "execution_count": 25,
     "metadata": {},
     "output_type": "execute_result"
    }
   ],
   "source": [
    "# As mentioned, due to its messiness and unclear ordering, we will remove it.\n",
    "# You can always reinstate it and do one-hot or label encoding when you are able to figure out the ranking.\n",
    "df4 = df3.drop(columns = \"FLAT_MODEL\")\n",
    "df4.head()"
   ]
  },
  {
   "cell_type": "markdown",
   "metadata": {},
   "source": [
    "#### <a id = \"VOL4_lease\"> LEASE COMMENCE DATE </a>  \n",
    "\n",
    "[Return to top](#VOL4_toc)\n",
    "\n",
    "- __LEASE_COMMENCE_DATE (Integer)__: This column and the REMAINING_LEASE columns are similar/the same in that from these columns you can derive the remaining lease of the flat. The latter column of course is more detailed because it provides month in addition to years. Let's say we decide to use REMAINING_LEASE. How do we code it for the model?  \n",
    "\n",
    "There are many ways to deal with this. I will my thoughts here but I'm sure there are more methods to make it a suitable column to feed into our ML models. 1) Converting years and months into total months. 2) Using decimal places to denote month (61.0875 for 61 years 1 months). 3) Just using years as an approximation.  \n",
    "\n",
    "For this example, I will use total months (option 1)."
   ]
  },
  {
   "cell_type": "code",
   "execution_count": 26,
   "metadata": {},
   "outputs": [],
   "source": [
    "# There are some in remaining lease without months (i.e. 63 years)\n",
    "lease = list(df4[\"REMAINING_LEASE\"])\n",
    "\n",
    "tot_list = []\n",
    "for mth in lease:\n",
    "    if \"month\" in mth:\n",
    "        mths = int(mth.split(\" years \")[0]) * 12\n",
    "        yrmth = int(mth.split(\" years \")[1].split(\" month\")[0])\n",
    "        \n",
    "        tot_list.append(mths + yrmth)\n",
    "    else:\n",
    "        tot_mths = int(mth.split(\" years\")[0]) * 12\n",
    "        tot_list.append(tot_mths)        \n",
    "\n",
    "df4[\"MTH_LEFT\"] = tot_list"
   ]
  },
  {
   "cell_type": "code",
   "execution_count": 27,
   "metadata": {},
   "outputs": [
    {
     "data": {
      "text/html": [
       "<div>\n",
       "<style scoped>\n",
       "    .dataframe tbody tr th:only-of-type {\n",
       "        vertical-align: middle;\n",
       "    }\n",
       "\n",
       "    .dataframe tbody tr th {\n",
       "        vertical-align: top;\n",
       "    }\n",
       "\n",
       "    .dataframe thead th {\n",
       "        text-align: right;\n",
       "    }\n",
       "</style>\n",
       "<table border=\"1\" class=\"dataframe\">\n",
       "  <thead>\n",
       "    <tr style=\"text-align: right;\">\n",
       "      <th></th>\n",
       "      <th>TOWN</th>\n",
       "      <th>FLAT_TYPE</th>\n",
       "      <th>STOREY_RANGE</th>\n",
       "      <th>FLOOR_AREA_SQM</th>\n",
       "      <th>LEASE_COMMENCE_DATE</th>\n",
       "      <th>REMAINING_LEASE</th>\n",
       "      <th>RESALE_PRICE</th>\n",
       "      <th>MTH_LEFT</th>\n",
       "    </tr>\n",
       "  </thead>\n",
       "  <tbody>\n",
       "    <tr>\n",
       "      <th>0</th>\n",
       "      <td>ANG MO KIO</td>\n",
       "      <td>1</td>\n",
       "      <td>11</td>\n",
       "      <td>44.0</td>\n",
       "      <td>1979</td>\n",
       "      <td>61 years 04 months</td>\n",
       "      <td>232000.0</td>\n",
       "      <td>736</td>\n",
       "    </tr>\n",
       "    <tr>\n",
       "      <th>1</th>\n",
       "      <td>ANG MO KIO</td>\n",
       "      <td>2</td>\n",
       "      <td>2</td>\n",
       "      <td>67.0</td>\n",
       "      <td>1978</td>\n",
       "      <td>60 years 07 months</td>\n",
       "      <td>250000.0</td>\n",
       "      <td>727</td>\n",
       "    </tr>\n",
       "  </tbody>\n",
       "</table>\n",
       "</div>"
      ],
      "text/plain": [
       "         TOWN  FLAT_TYPE  STOREY_RANGE  FLOOR_AREA_SQM  LEASE_COMMENCE_DATE  \\\n",
       "0  ANG MO KIO          1            11            44.0                 1979   \n",
       "1  ANG MO KIO          2             2            67.0                 1978   \n",
       "\n",
       "      REMAINING_LEASE  RESALE_PRICE  MTH_LEFT  \n",
       "0  61 years 04 months      232000.0       736  \n",
       "1  60 years 07 months      250000.0       727  "
      ]
     },
     "execution_count": 27,
     "metadata": {},
     "output_type": "execute_result"
    }
   ],
   "source": [
    "df4.head(2)"
   ]
  },
  {
   "cell_type": "code",
   "execution_count": 28,
   "metadata": {},
   "outputs": [
    {
     "data": {
      "text/html": [
       "<div>\n",
       "<style scoped>\n",
       "    .dataframe tbody tr th:only-of-type {\n",
       "        vertical-align: middle;\n",
       "    }\n",
       "\n",
       "    .dataframe tbody tr th {\n",
       "        vertical-align: top;\n",
       "    }\n",
       "\n",
       "    .dataframe thead th {\n",
       "        text-align: right;\n",
       "    }\n",
       "</style>\n",
       "<table border=\"1\" class=\"dataframe\">\n",
       "  <thead>\n",
       "    <tr style=\"text-align: right;\">\n",
       "      <th></th>\n",
       "      <th>TOWN</th>\n",
       "      <th>FLAT_TYPE</th>\n",
       "      <th>STOREY_RANGE</th>\n",
       "      <th>FLOOR_AREA_SQM</th>\n",
       "      <th>RESALE_PRICE</th>\n",
       "      <th>MTH_LEFT</th>\n",
       "    </tr>\n",
       "  </thead>\n",
       "  <tbody>\n",
       "    <tr>\n",
       "      <th>0</th>\n",
       "      <td>ANG MO KIO</td>\n",
       "      <td>1</td>\n",
       "      <td>11</td>\n",
       "      <td>44.0</td>\n",
       "      <td>232000.0</td>\n",
       "      <td>736</td>\n",
       "    </tr>\n",
       "    <tr>\n",
       "      <th>1</th>\n",
       "      <td>ANG MO KIO</td>\n",
       "      <td>2</td>\n",
       "      <td>2</td>\n",
       "      <td>67.0</td>\n",
       "      <td>250000.0</td>\n",
       "      <td>727</td>\n",
       "    </tr>\n",
       "  </tbody>\n",
       "</table>\n",
       "</div>"
      ],
      "text/plain": [
       "         TOWN  FLAT_TYPE  STOREY_RANGE  FLOOR_AREA_SQM  RESALE_PRICE  MTH_LEFT\n",
       "0  ANG MO KIO          1            11            44.0      232000.0       736\n",
       "1  ANG MO KIO          2             2            67.0      250000.0       727"
      ]
     },
     "execution_count": 28,
     "metadata": {},
     "output_type": "execute_result"
    }
   ],
   "source": [
    "# These columns are not necessary anymore.\n",
    "df5 = df4.drop(columns = [\"LEASE_COMMENCE_DATE\", \"REMAINING_LEASE\"])\n",
    "df5.head(2)"
   ]
  },
  {
   "cell_type": "markdown",
   "metadata": {},
   "source": [
    "The dataset seems smaller now, but for good reason. Many of the columns were in fact noise (i.e. block) and we made further assumptions to treat it as a dataset at a point in time (even though it exhibits certain time-series characteristics). Nevertheless, we have now finished with bulk of the feature engineering/selection. The steps can be done concurrently, though it depends on your dataset and your project flow.  \n",
    "\n",
    "Recall that we still have TOWN as a variable but in character form. We need to encode it or to split it by towns or regions. In addition, while not explicitly mentioned, you should also think about the potential of merging this dataset with others to try and better predict housing prices. Will a dataset containing whether or not the unit has defects or not be useful?"
   ]
  },
  {
   "cell_type": "code",
   "execution_count": 29,
   "metadata": {},
   "outputs": [
    {
     "data": {
      "text/html": [
       "<div>\n",
       "<style scoped>\n",
       "    .dataframe tbody tr th:only-of-type {\n",
       "        vertical-align: middle;\n",
       "    }\n",
       "\n",
       "    .dataframe tbody tr th {\n",
       "        vertical-align: top;\n",
       "    }\n",
       "\n",
       "    .dataframe thead th {\n",
       "        text-align: right;\n",
       "    }\n",
       "</style>\n",
       "<table border=\"1\" class=\"dataframe\">\n",
       "  <thead>\n",
       "    <tr style=\"text-align: right;\">\n",
       "      <th></th>\n",
       "      <th>TOWN</th>\n",
       "      <th>FLAT_TYPE</th>\n",
       "      <th>STOREY_RANGE</th>\n",
       "      <th>FLOOR_AREA_SQM</th>\n",
       "      <th>RESALE_PRICE</th>\n",
       "      <th>MTH_LEFT</th>\n",
       "    </tr>\n",
       "  </thead>\n",
       "  <tbody>\n",
       "    <tr>\n",
       "      <th>0</th>\n",
       "      <td>ANG MO KIO</td>\n",
       "      <td>1</td>\n",
       "      <td>11</td>\n",
       "      <td>44.0</td>\n",
       "      <td>232000.0</td>\n",
       "      <td>736</td>\n",
       "    </tr>\n",
       "    <tr>\n",
       "      <th>1</th>\n",
       "      <td>ANG MO KIO</td>\n",
       "      <td>2</td>\n",
       "      <td>2</td>\n",
       "      <td>67.0</td>\n",
       "      <td>250000.0</td>\n",
       "      <td>727</td>\n",
       "    </tr>\n",
       "  </tbody>\n",
       "</table>\n",
       "</div>"
      ],
      "text/plain": [
       "         TOWN  FLAT_TYPE  STOREY_RANGE  FLOOR_AREA_SQM  RESALE_PRICE  MTH_LEFT\n",
       "0  ANG MO KIO          1            11            44.0      232000.0       736\n",
       "1  ANG MO KIO          2             2            67.0      250000.0       727"
      ]
     },
     "execution_count": 29,
     "metadata": {},
     "output_type": "execute_result"
    }
   ],
   "source": [
    "df5.head(2)"
   ]
  },
  {
   "cell_type": "code",
   "execution_count": 30,
   "metadata": {},
   "outputs": [
    {
     "data": {
      "text/plain": [
       "<matplotlib.axes._subplots.AxesSubplot at 0x21b84a37518>"
      ]
     },
     "execution_count": 30,
     "metadata": {},
     "output_type": "execute_result"
    },
    {
     "data": {
      "image/png": "[encoded data removed]",
      "text/plain": [
       "<Figure size 432x288 with 2 Axes>"
      ]
     },
     "metadata": {
      "needs_background": "light"
     },
     "output_type": "display_data"
    }
   ],
   "source": [
    "# A simple checkpoint and visualisation.\n",
    "# What are some insights you see here?\n",
    "# How much of the insights are due to the assumptions we made above?\n",
    "import seaborn as sns\n",
    "\n",
    "df5_test = df5.loc[df5[\"TOWN\"] == \"BISHAN\", [\"RESALE_PRICE\", \"FLAT_TYPE\", \"STOREY_RANGE\", \"FLOOR_AREA_SQM\", \"MTH_LEFT\"]]\n",
    "\n",
    "sns.heatmap(df5_test.corr())"
   ]
  },
  {
   "cell_type": "markdown",
   "metadata": {},
   "source": [
    "While there are automatic algorithms to conduct feature selection, without knowing the mechanics of how it works, we may be confused as to why a particular feature was dropped over the other. You may wish to take a look at these 2 functions if you wish to know more:  \n",
    "\n",
    "*from sklearn.feature_selection import SelectKBest, chi2*\n",
    "\n",
    "For the purposes of this guide, we can assume that we'd want all x variables to be fed into the model. As above, we can also fuse other datasets together to get more feature variables, but that beyond the scope of this guide. Let's proceed into the actual model."
   ]
  },
  {
   "cell_type": "markdown",
   "metadata": {},
   "source": [
    "#### <a id = \"VOL4_modelprep\"> Model Prep, Dataset split </a>  \n",
    "\n",
    "[Return to top](#VOL4_toc)  \n",
    "\n",
    "Looking at our dataset, while it is largely fit for usage, we still have the \"TOWN\" column that needs to be processed. We know that label encoding *should* be out of the question (hard to argue that little india is a 'better' place than bishan or vice versa). Hence that leaves us with 2 other options:  \n",
    "\n",
    "- __To group each town into regions (Rest of Central Region), (Core Central Region), (Outside Central Region)__  \n",
    "\n",
    "To do this, we would simply need to find the towns that correspond to each region (probably available in most property websites like property guru. This can be seen as a loss of information (as we are grouping bedok, punggol, woodlands and tengah together). One can argue that a 4 room located close to the MRT in these 4 towns will be priced differently (all else being held equal). Once the towns are grouped together, we can convert it to ordered labels 3 > 2 > 1.  \n",
    "\n",
    "After checking the internet, I think regions are slightly inappropriate as there's no clear cut 1-1 mapping in terms of districts to such regions. For example, PropertyGuru uses some parts of district X to group with CCR and OCR.\n",
    "\n",
    "- __To create a new column for each town. This will create 20+ new columns for a dataset with 110k rows.__  \n",
    "\n",
    "Given that the towns are not really comparable, we should ideally apply one-hot encoding for this column. This will represent each town in a separate column such that it's easier for the model to read and perform machine learning. That said, you would have to consider the size constraints. 25 columns on 110k rows (albeit just 1s and 0s) is about 2.5m + additional cells. This resource trade off is just something we should keep in mind.  \n",
    "\n",
    "For this project, we'll just create a new column for each town."
   ]
  },
  {
   "cell_type": "code",
   "execution_count": null,
   "metadata": {},
   "outputs": [],
   "source": [
    "# Should already be imported from above\n",
    "# from sklearn import preprocessing"
   ]
  },
  {
   "cell_type": "code",
   "execution_count": 31,
   "metadata": {},
   "outputs": [],
   "source": [
    "onehot = preprocessing.OneHotEncoder()\n",
    "test = pd.DataFrame(onehot.fit_transform(df5[[\"TOWN\"]]).toarray(), columns = df5[\"TOWN\"].unique())"
   ]
  },
  {
   "cell_type": "code",
   "execution_count": 32,
   "metadata": {},
   "outputs": [],
   "source": [
    "# You may wish to output this dataset into excel to check and verify the town column has been coded correctly.\n",
    "df_final = pd.concat([df5, test], axis = \"columns\").drop(columns = \"TOWN\")"
   ]
  },
  {
   "cell_type": "code",
   "execution_count": 33,
   "metadata": {},
   "outputs": [
    {
     "name": "stdout",
     "output_type": "stream",
     "text": [
      "<class 'pandas.core.frame.DataFrame'>\n",
      "RangeIndex: 114623 entries, 0 to 114622\n",
      "Data columns (total 31 columns):\n",
      "FLAT_TYPE          114623 non-null int64\n",
      "STOREY_RANGE       114623 non-null int64\n",
      "FLOOR_AREA_SQM     114623 non-null float64\n",
      "RESALE_PRICE       114623 non-null float64\n",
      "MTH_LEFT           114623 non-null int64\n",
      "ANG MO KIO         114623 non-null float64\n",
      "BEDOK              114623 non-null float64\n",
      "BISHAN             114623 non-null float64\n",
      "BUKIT BATOK        114623 non-null float64\n",
      "BUKIT MERAH        114623 non-null float64\n",
      "BUKIT PANJANG      114623 non-null float64\n",
      "BUKIT TIMAH        114623 non-null float64\n",
      "CENTRAL AREA       114623 non-null float64\n",
      "CHOA CHU KANG      114623 non-null float64\n",
      "CLEMENTI           114623 non-null float64\n",
      "GEYLANG            114623 non-null float64\n",
      "HOUGANG            114623 non-null float64\n",
      "JURONG EAST        114623 non-null float64\n",
      "JURONG WEST        114623 non-null float64\n",
      "KALLANG/WHAMPOA    114623 non-null float64\n",
      "MARINE PARADE      114623 non-null float64\n",
      "PASIR RIS          114623 non-null float64\n",
      "PUNGGOL            114623 non-null float64\n",
      "QUEENSTOWN         114623 non-null float64\n",
      "SEMBAWANG          114623 non-null float64\n",
      "SENGKANG           114623 non-null float64\n",
      "SERANGOON          114623 non-null float64\n",
      "TAMPINES           114623 non-null float64\n",
      "TOA PAYOH          114623 non-null float64\n",
      "WOODLANDS          114623 non-null float64\n",
      "YISHUN             114623 non-null float64\n",
      "dtypes: float64(28), int64(3)\n",
      "memory usage: 27.1 MB\n"
     ]
    }
   ],
   "source": [
    "# As you can see, very large dataset\n",
    "df_final.info()"
   ]
  },
  {
   "cell_type": "code",
   "execution_count": 34,
   "metadata": {},
   "outputs": [],
   "source": [
    "# ML models use arrays rather than dataframe.\n",
    "# We use numpy's array, which is convertible from Pandas' dataframes.\n",
    "\n",
    "X, y = np.array(df_final.drop(columns = \"RESALE_PRICE\")), np.array(df_final[\"RESALE_PRICE\"])"
   ]
  },
  {
   "cell_type": "code",
   "execution_count": 35,
   "metadata": {},
   "outputs": [
    {
     "data": {
      "text/plain": [
       "array([[0.16666667, 0.1875    , 0.05963303, 0.62745098, 1.        ,\n",
       "        0.        , 0.        , 0.        , 0.        , 0.        ,\n",
       "        0.        , 0.        , 0.        , 0.        , 0.        ,\n",
       "        0.        , 0.        , 0.        , 0.        , 0.        ,\n",
       "        0.        , 0.        , 0.        , 0.        , 0.        ,\n",
       "        0.        , 0.        , 0.        , 0.        , 0.        ],\n",
       "       [0.33333333, 0.        , 0.16513761, 0.61977835, 1.        ,\n",
       "        0.        , 0.        , 0.        , 0.        , 0.        ,\n",
       "        0.        , 0.        , 0.        , 0.        , 0.        ,\n",
       "        0.        , 0.        , 0.        , 0.        , 0.        ,\n",
       "        0.        , 0.        , 0.        , 0.        , 0.        ,\n",
       "        0.        , 0.        , 0.        , 0.        , 0.        ]])"
      ]
     },
     "execution_count": 35,
     "metadata": {},
     "output_type": "execute_result"
    }
   ],
   "source": [
    "# Convert all numbers to the range of 0 and 1.\n",
    "# This is not strictly required for regression models, but applicable to other ML models where\n",
    "# a gradient descent algorithm (neural network) is used. 0-1 values reduce computation expense.\n",
    "# We can nontheless scale the feature variables, but for interpretation we need to rescale back to the original parameters.\n",
    "\n",
    "minmax = preprocessing.MinMaxScaler()\n",
    "X = minmax.fit_transform(X)\n",
    "\n",
    "X[0:2]"
   ]
  },
  {
   "cell_type": "markdown",
   "metadata": {},
   "source": [
    "#### <a id = \"VOL4_sampling\"> Sampling </a>  \n",
    "\n",
    "[Return to top](#VOL4_toc)\n",
    "\n",
    "After the dataset has been processed, we need to break it up to train and test sets. Training sets trains and builds the model to adapt to the data in train set. The test set is used to validate or test the model's performance based on data it has not seen (i.e. real-life).  \n",
    "\n",
    "There is a small nuance to sampling which depends on your Y labels (more applicable for classification problems). For example, given a dataset with predictor/target variable Y of \"Cancer\" or \"No Cancer\", given that cancer occurence happens in perhaps minority (surely not 50% of sample/population), performing train/test split may result in a trained model that only trains on mostly \"No Cancer\" data instead of a mix of both (so the model 'understands' how the other label looks like).  \n",
    "\n",
    "This is where stratified sampling comes into play. Essentially it tries to maintain the distribution of class labels in Y for both your training and testing set. Let me provide an example."
   ]
  },
  {
   "cell_type": "code",
   "execution_count": 36,
   "metadata": {},
   "outputs": [],
   "source": [
    "from sklearn.model_selection import train_test_split"
   ]
  },
  {
   "cell_type": "markdown",
   "metadata": {},
   "source": [
    "__random_state allows the split to be reproduced, which also makes the entire model evaluation reproducible.__\n",
    "\n",
    "For example, running this function 3 times will result in different random datasets: abc, cab, ccc. Using random_state will ensure that the first 3 function calls for any other user using this script (including yourself if you restart the Jupyter Notebook/lab) will generate the same \"random\" datasets."
   ]
  },
  {
   "cell_type": "code",
   "execution_count": 37,
   "metadata": {},
   "outputs": [],
   "source": [
    "X_train, X_test, y_train, y_test = train_test_split(X, y, test_size = 0.2, random_state = 100)\n",
    "\n",
    "# Use this for stratified sampling\n",
    "#X_train, X_test, y_train, y_test = train_test_split(X, y, stratify = y, test_size = 0.2)"
   ]
  },
  {
   "cell_type": "code",
   "execution_count": 38,
   "metadata": {},
   "outputs": [],
   "source": [
    "from sklearn.linear_model import LinearRegression"
   ]
  },
  {
   "cell_type": "code",
   "execution_count": 39,
   "metadata": {},
   "outputs": [],
   "source": [
    "regression = LinearRegression()\n",
    "\n",
    "training = regression.fit(X_train, y_train)\n",
    "y_pred = regression.predict(X_test)"
   ]
  },
  {
   "cell_type": "code",
   "execution_count": 40,
   "metadata": {},
   "outputs": [],
   "source": [
    "import matplotlib.pyplot as plt"
   ]
  },
  {
   "cell_type": "code",
   "execution_count": 41,
   "metadata": {},
   "outputs": [
    {
     "name": "stdout",
     "output_type": "stream",
     "text": [
      "(0.0, 1300000.0)\n"
     ]
    },
    {
     "data": {
      "image/png": "[encoded data removed]",
      "text/plain": [
       "<Figure size 576x576 with 1 Axes>"
      ]
     },
     "metadata": {
      "needs_background": "light"
     },
     "output_type": "display_data"
    }
   ],
   "source": [
    "actual_fit = pd.DataFrame({\"ACTUAL\": y_test.flatten(), \"PREDICTED\": y_pred.flatten()})\n",
    "\n",
    "lims = (0, 1300000)\n",
    "fig, ax = plt.subplots(figsize = (8,8), constrained_layout = True)\n",
    "\n",
    "ax.scatter(x = actual_fit[\"ACTUAL\"], y = actual_fit[\"PREDICTED\"])\n",
    "ax.plot([0,1], [0, 1], transform = ax.transAxes, color = \"r\")\n",
    "\n",
    "plt.vlines([600000, 900000], ymin = 0, ymax = 900000, colors = \"red\")\n",
    "plt.hlines([600000, 900000], xmin = 0, xmax = 900000, colors = \"red\")\n",
    "ax.set_ylim(lims)\n",
    "ax.set_xlim(lims)\n",
    "\n",
    "ax.set_xlabel(\"ACTUAL\")\n",
    "ax.set_ylabel(\"PREDICTED\")\n",
    "ax.set_title(\"ACTUAL vs PREDICTED VALUES\")\n",
    "\n",
    "print(ax.get_ylim())"
   ]
  },
  {
   "cell_type": "markdown",
   "metadata": {},
   "source": [
    "A very simple visualisation to understand where the predict values match up against the test values. From the plot above, we can see a slight under-estimation of the resale price. For example, given a resale price of 600k and 900k, we can see the dispersion of actual values as well as what the model has predicted. For 600k, it seems to have a uniform error (skew towards lower estimations), whereas for 900k, it has a large downward skews.  \n",
    "\n",
    "This means that it may not be able to predict high resale prices well (or even low prices). Or that the characteristics of the resale prices change as they get to higher prices. "
   ]
  },
  {
   "cell_type": "markdown",
   "metadata": {},
   "source": [
    "#### <a id = \"VOL4_signif\"> Significance </a>\n",
    "[Return to top](#VOL4_toc)  \n",
    "\n",
    "It's important to also test whether the feature variables (i.e. X variables) are statistically significant in predicicting resale prices. Correlation does not equal causation/prediction! For linear regression type models, can generally do that by testing for P values (as is the case in hypothesis testing) or calculating their F-statistics.  \n",
    "\n",
    "Referenced from: https://statisticsbyjim.com/regression/interpret-coefficients-p-values-regression/  \n",
    "\n",
    "The p-values help determine whether the relationships that you observe in your sample also exist in the larger population. The p-value for each independent variable (X1, X2, ... , Xn) tests the null hypothesis (aka h0) that the variable has no correlation with the dependent variable. If no correlation, there is no association between changes in the X var and shifts in Y. If the p-value is less than your significance level (usually 0.05 / 5% or 0.01 / 1%), your sample data provides enough evidence to reject h0 for entire population (i.e. proof of non-zero correlation).  \n",
    "\n",
    "Referenced from: https://statisticsbyjim.com/regression/interpret-f-test-overall-significance-regression/  \n",
    "\n",
    "The F-test of overall significance indicates whether your model provides a better fit to the data than a model containing no independent variables (X). The latter model can be thought of as an intercept-only model. h0 = model with no independent variables fits the data as well as your model (i.e. your X variables have no statistical significance in predicting Y). While it looks similar to p-value tests, F-tests sum the predictive power of all independent variables and determines that it is unlikely that *all* of the coefficient equal zero (no significance to Y). A significant F-score here does not mean that individually the X variables are all significant. That can be checked with p-value tests.  \n",
    "\n",
    "Not done.\n",
    "https://statisticsbyjim.com/regression/model-specification-variable-selection/  \n",
    "https://statisticsbyjim.com/regression/check-residual-plots-regression-analysis/"
   ]
  },
  {
   "cell_type": "code",
   "execution_count": 42,
   "metadata": {},
   "outputs": [],
   "source": [
    "import sklearn.metrics\n",
    "import statsmodels.api as sm"
   ]
  },
  {
   "cell_type": "code",
   "execution_count": 43,
   "metadata": {},
   "outputs": [
    {
     "name": "stdout",
     "output_type": "stream",
     "text": [
      "                            OLS Regression Results                            \n",
      "==============================================================================\n",
      "Dep. Variable:                      y   R-squared:                       0.822\n",
      "Model:                            OLS   Adj. R-squared:                  0.822\n",
      "Method:                 Least Squares   F-statistic:                 1.828e+04\n",
      "Date:                Mon, 07 Feb 2022   Prob (F-statistic):               0.00\n",
      "Time:                        10:06:03   Log-Likelihood:            -1.4362e+06\n",
      "No. Observations:              114623   AIC:                         2.872e+06\n",
      "Df Residuals:                  114593   BIC:                         2.873e+06\n",
      "Df Model:                          29                                         \n",
      "Covariance Type:            nonrobust                                         \n",
      "==============================================================================\n",
      "                 coef    std err          t      P>|t|      [0.025      0.975]\n",
      "------------------------------------------------------------------------------\n",
      "const      -2.273e+05   1431.691   -158.791      0.000    -2.3e+05   -2.25e+05\n",
      "x1          1.655e+05   4432.154     37.335      0.000    1.57e+05    1.74e+05\n",
      "x2          2.262e+05   1790.344    126.345      0.000    2.23e+05     2.3e+05\n",
      "x3          7.838e+05   6210.222    126.210      0.000    7.72e+05    7.96e+05\n",
      "x4          4.959e+05   1936.657    256.061      0.000    4.92e+05       5e+05\n",
      "x5          2.058e+04    964.835     21.331      0.000    1.87e+04    2.25e+04\n",
      "x6          6753.7947    861.006      7.844      0.000    5066.236    8441.353\n",
      "x7          1.163e+05   1386.305     83.902      0.000    1.14e+05    1.19e+05\n",
      "x8         -7.342e+04   1074.302    -68.346      0.000   -7.55e+04   -7.13e+04\n",
      "x9          1.169e+05   1005.575    116.296      0.000    1.15e+05    1.19e+05\n",
      "x10        -1.289e+05   1020.827   -126.224      0.000   -1.31e+05   -1.27e+05\n",
      "x11         2.131e+05   3652.077     58.355      0.000    2.06e+05     2.2e+05\n",
      "x12         1.812e+05   2121.699     85.385      0.000    1.77e+05    1.85e+05\n",
      "x13        -1.658e+05    973.075   -170.420      0.000   -1.68e+05   -1.64e+05\n",
      "x14         6.017e+04   1288.686     46.691      0.000    5.76e+04    6.27e+04\n",
      "x15          5.86e+04   1250.756     46.848      0.000    5.61e+04     6.1e+04\n",
      "x16        -6.523e+04    909.081    -71.758      0.000    -6.7e+04   -6.35e+04\n",
      "x17        -5.948e+04   1320.496    -45.043      0.000   -6.21e+04   -5.69e+04\n",
      "x18        -1.282e+05    789.030   -162.537      0.000    -1.3e+05   -1.27e+05\n",
      "x19         7.804e+04   1156.754     67.465      0.000    7.58e+04    8.03e+04\n",
      "x20         1.613e+05   2446.337     65.943      0.000    1.57e+05    1.66e+05\n",
      "x21        -9.151e+04   1147.755    -79.727      0.000   -9.38e+04   -8.93e+04\n",
      "x22        -1.194e+05    861.443   -138.643      0.000   -1.21e+05   -1.18e+05\n",
      "x23          1.31e+05   1172.842    111.692      0.000    1.29e+05    1.33e+05\n",
      "x24        -1.919e+05   1309.006   -146.606      0.000   -1.94e+05   -1.89e+05\n",
      "x25        -1.412e+05    788.762   -179.013      0.000   -1.43e+05    -1.4e+05\n",
      "x26         1.495e+04   1393.374     10.727      0.000    1.22e+04    1.77e+04\n",
      "x27        -2.898e+04    793.397    -36.532      0.000   -3.05e+04   -2.74e+04\n",
      "x28         6.885e+04   1097.759     62.720      0.000    6.67e+04     7.1e+04\n",
      "x29        -1.598e+05    799.298   -199.877      0.000   -1.61e+05   -1.58e+05\n",
      "x30        -1.013e+05    796.651   -127.113      0.000   -1.03e+05   -9.97e+04\n",
      "==============================================================================\n",
      "Omnibus:                     9415.372   Durbin-Watson:                   0.744\n",
      "Prob(Omnibus):                  0.000   Jarque-Bera (JB):            15166.523\n",
      "Skew:                           0.627   Prob(JB):                         0.00\n",
      "Kurtosis:                       4.267   Cond. No.                     4.07e+15\n",
      "==============================================================================\n",
      "\n",
      "Warnings:\n",
      "[1] Standard Errors assume that the covariance matrix of the errors is correctly specified.\n",
      "[2] The smallest eigenvalue is 1.41e-26. This might indicate that there are\n",
      "strong multicollinearity problems or that the design matrix is singular.\n"
     ]
    }
   ],
   "source": [
    "# Using X and y that was already created above.\n",
    "X2 = sm.add_constant(X)\n",
    "est = sm.OLS(y, X2)\n",
    "est2 = est.fit()\n",
    "print(est2.summary())"
   ]
  },
  {
   "cell_type": "code",
   "execution_count": null,
   "metadata": {},
   "outputs": [],
   "source": [
    "help(plt.scatter)"
   ]
  },
  {
   "cell_type": "code",
   "execution_count": 51,
   "metadata": {},
   "outputs": [
    {
     "data": {
      "image/png": "[encoded data removed]",
      "text/plain": [
       "<Figure size 576x576 with 1 Axes>"
      ]
     },
     "metadata": {
      "needs_background": "light"
     },
     "output_type": "display_data"
    }
   ],
   "source": [
    "# Residual v fitted values.\n",
    "actual_fit[\"RESIDUAL\"] = actual_fit[\"ACTUAL\"] - actual_fit[\"PREDICTED\"]\n",
    "\n",
    "fig, ax = plt.subplots(figsize = (8,8), constrained_layout = True)\n",
    "ax.scatter(actual_fit[\"PREDICTED\"], actual_fit[\"RESIDUAL\"], marker = \",\")\n",
    "plt.show()"
   ]
  },
  {
   "cell_type": "code",
   "execution_count": null,
   "metadata": {},
   "outputs": [],
   "source": [
    "# best subsets, stepwise regression - Not done"
   ]
  }
 ],
 "metadata": {
  "kernelspec": {
   "display_name": "Python 3",
   "language": "python",
   "name": "python3"
  },
  "language_info": {
   "codemirror_mode": {
    "name": "ipython",
    "version": 3
   },
   "file_extension": ".py",
   "mimetype": "text/x-python",
   "name": "python",
   "nbconvert_exporter": "python",
   "pygments_lexer": "ipython3",
   "version": "3.7.3"
  }
 },
 "nbformat": 4,
 "nbformat_minor": 2
}
